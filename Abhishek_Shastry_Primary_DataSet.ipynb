{
 "cells": [
  {
   "cell_type": "code",
   "execution_count": 1476,
   "id": "7ddff70a",
   "metadata": {},
   "outputs": [],
   "source": [
    "from sklearn.metrics import cohen_kappa_score\n",
    "k=cohen_kappa_score\n",
    "import pandas as pd\n",
    "import glob\n",
    "import os\n",
    "import csv"
   ]
  },
  {
   "cell_type": "code",
   "execution_count": 1477,
   "id": "5ff45641",
   "metadata": {},
   "outputs": [],
   "source": [
    "#This calculation is for nyt_topic_0_vaccination"
   ]
  },
  {
   "cell_type": "code",
   "execution_count": 1478,
   "id": "bef7f42c",
   "metadata": {},
   "outputs": [],
   "source": [
    "df_nyt_topic_0_vaccination=pd.read_csv(\"/Users/abhishekshastry/Documents/Illinois_tech/Subjects/Fall-2021/NLP/Assignments/Assignment2/nyt_topic/nyt_topic_0_vaccination.csv\")"
   ]
  },
  {
   "cell_type": "code",
   "execution_count": 1479,
   "id": "462e1598",
   "metadata": {},
   "outputs": [],
   "source": [
    "df_nyt_topic_0_vaccination[\"final_label\"]=\"\"\n",
    "\n",
    "df_nyt_topic_0_vaccination['annotation_41'].fillna('missing', inplace=True) \n",
    "df_nyt_topic_0_vaccination['annotation_67'].fillna('missing', inplace=True)\n",
    "df_nyt_topic_0_vaccination['annotation_19'].fillna('missing', inplace=True)\n",
    "df_nyt_topic_0_vaccination['annotation_55'].fillna('missing', inplace=True)"
   ]
  },
  {
   "cell_type": "code",
   "execution_count": 1480,
   "id": "00e56736",
   "metadata": {},
   "outputs": [],
   "source": [
    "#Calulating kapa scores for annotation_41"
   ]
  },
  {
   "cell_type": "code",
   "execution_count": 1481,
   "id": "79eaea0f",
   "metadata": {},
   "outputs": [
    {
     "name": "stdout",
     "output_type": "stream",
     "text": [
      "0.4358346927678086\n",
      "0.46534921494315107\n",
      "0.5155038759689923\n",
      "\n",
      "Average Kappa score for annotation_41 is  0.4722292612266507\n",
      "\n",
      "\n"
     ]
    }
   ],
   "source": [
    "x_annot_41=k(df_nyt_topic_0_vaccination.annotation_41,df_nyt_topic_0_vaccination.annotation_67) \n",
    "print (x_annot_41)\n",
    "y_annot_41=k(df_nyt_topic_0_vaccination.annotation_41,df_nyt_topic_0_vaccination.annotation_19)\n",
    "print (y_annot_41)\n",
    "z_annot_41=k(df_nyt_topic_0_vaccination.annotation_41,df_nyt_topic_0_vaccination.annotation_55)\n",
    "print (z_annot_41)\n",
    "avg41=(x_annot_41+y_annot_41+z_annot_41)/3\n",
    "print('\\nAverage Kappa score for annotation_41 is ', avg41)\n",
    "print('\\n')"
   ]
  },
  {
   "cell_type": "code",
   "execution_count": 1482,
   "id": "8ce19f1a",
   "metadata": {},
   "outputs": [],
   "source": [
    "#Calulating kapa scores for annotation_67"
   ]
  },
  {
   "cell_type": "code",
   "execution_count": 1483,
   "id": "d76fecbd",
   "metadata": {},
   "outputs": [
    {
     "name": "stdout",
     "output_type": "stream",
     "text": [
      "0.4358346927678086\n",
      "0.6791014841556358\n",
      "0.7349237905897945\n",
      "\n",
      "Average Kappa score for annotation_67 is  0.6166199891710796\n",
      "\n",
      "\n"
     ]
    }
   ],
   "source": [
    "x_annot_67=k(df_nyt_topic_0_vaccination.annotation_67,df_nyt_topic_0_vaccination.annotation_41) \n",
    "print (x_annot_67)\n",
    "y_annot_67=k(df_nyt_topic_0_vaccination.annotation_67,df_nyt_topic_0_vaccination.annotation_19)\n",
    "print (y_annot_67)\n",
    "z_annot_67=k(df_nyt_topic_0_vaccination.annotation_67,df_nyt_topic_0_vaccination.annotation_55)\n",
    "print (z_annot_67)\n",
    "avg67=(x_annot_67+y_annot_67+z_annot_67)/3\n",
    "print('\\nAverage Kappa score for annotation_67 is ', avg67)\n",
    "print('\\n')"
   ]
  },
  {
   "cell_type": "code",
   "execution_count": 1484,
   "id": "ac7dae22",
   "metadata": {},
   "outputs": [],
   "source": [
    "#Calulating kapa scores for annotation_19"
   ]
  },
  {
   "cell_type": "code",
   "execution_count": 1485,
   "id": "d5ccf47f",
   "metadata": {},
   "outputs": [
    {
     "name": "stdout",
     "output_type": "stream",
     "text": [
      "0.46534921494315107\n",
      "0.6791014841556358\n",
      "0.774386197743862\n",
      "\n",
      "Average Kappa score for annotation_19 is  0.6396122989475496\n",
      "\n",
      "\n"
     ]
    }
   ],
   "source": [
    "x_annot_19=k(df_nyt_topic_0_vaccination.annotation_19,df_nyt_topic_0_vaccination.annotation_41) \n",
    "print (x_annot_19)\n",
    "y_annot_19=k(df_nyt_topic_0_vaccination.annotation_19,df_nyt_topic_0_vaccination.annotation_67)\n",
    "print (y_annot_19)\n",
    "z_annot_19=k(df_nyt_topic_0_vaccination.annotation_19,df_nyt_topic_0_vaccination.annotation_55)\n",
    "print (z_annot_19)\n",
    "avg19=(x_annot_19+y_annot_19+z_annot_19)/3\n",
    "print('\\nAverage Kappa score for annotation_19 is ', avg19)\n",
    "print('\\n')"
   ]
  },
  {
   "cell_type": "code",
   "execution_count": 1486,
   "id": "93fa4766",
   "metadata": {},
   "outputs": [],
   "source": [
    "#Calulating kapa scores for annotation_55"
   ]
  },
  {
   "cell_type": "code",
   "execution_count": 1487,
   "id": "a482937c",
   "metadata": {},
   "outputs": [
    {
     "name": "stdout",
     "output_type": "stream",
     "text": [
      "0.5155038759689923\n",
      "0.7349237905897945\n",
      "0.774386197743862\n",
      "\n",
      "Average Kappa score for annotation_67 is  0.6749379547675497\n",
      "\n",
      "\n"
     ]
    }
   ],
   "source": [
    "x_annot_55=k(df_nyt_topic_0_vaccination.annotation_55,df_nyt_topic_0_vaccination.annotation_41) \n",
    "print (x_annot_55)\n",
    "y_annot_55=k(df_nyt_topic_0_vaccination.annotation_55,df_nyt_topic_0_vaccination.annotation_67)\n",
    "print (y_annot_55)\n",
    "z_annot_55=k(df_nyt_topic_0_vaccination.annotation_55,df_nyt_topic_0_vaccination.annotation_19)\n",
    "print (z_annot_55)\n",
    "avg55=(x_annot_55+y_annot_55+z_annot_55)/3\n",
    "print('\\nAverage Kappa score for annotation_67 is ', avg55)\n",
    "print('\\n')"
   ]
  },
  {
   "cell_type": "code",
   "execution_count": 1488,
   "id": "80078fa5",
   "metadata": {},
   "outputs": [],
   "source": [
    "#Checking if the avaerage kappa value is less than 0.2"
   ]
  },
  {
   "cell_type": "code",
   "execution_count": 1489,
   "id": "33d48fe0",
   "metadata": {},
   "outputs": [],
   "source": [
    "if(avg41<0.2):\n",
    "    df_nyt_topic_0_vaccination=df_nyt_topic_0_vaccination.drop(columns=[\"annotation_41\"])\n",
    "if(avg67<0.2):\n",
    "    df_nyt_topic_0_vaccination=df_nyt_topic_0_vaccination.drop(columns=[\"annotation_67\"])  \n",
    "if(avg19<0.2):\n",
    "    df_nyt_topic_0_vaccination=df_nyt_topic_0_vaccination.drop(columns=[\"annotation_19\"])\n",
    "if(avg55<0.2):\n",
    "    df_nyt_topic_0_vaccination=df_nyt_topic_0_vaccination.drop(columns=[\"annotation_55\"])                                                          "
   ]
  },
  {
   "cell_type": "code",
   "execution_count": 1490,
   "id": "e176ab55",
   "metadata": {},
   "outputs": [],
   "source": [
    "#Checking the condition to label with highest occuring frequency!!!"
   ]
  },
  {
   "cell_type": "code",
   "execution_count": 1491,
   "id": "3858a7b0",
   "metadata": {},
   "outputs": [
    {
     "name": "stderr",
     "output_type": "stream",
     "text": [
      "<ipython-input-1491-e06490e5cb2c>:35: SettingWithCopyWarning: \n",
      "A value is trying to be set on a copy of a slice from a DataFrame\n",
      "\n",
      "See the caveats in the documentation: https://pandas.pydata.org/pandas-docs/stable/user_guide/indexing.html#returning-a-view-versus-a-copy\n",
      "  df_nyt_topic_0_vaccination.final_label[i]=df_nyt_topic_0_vaccination.annotation_55[i]#in case of ties\n"
     ]
    }
   ],
   "source": [
    "for i in df_nyt_topic_0_vaccination.index:\n",
    "    \n",
    "    true=0\n",
    "    false=0\n",
    "    \n",
    "    if(avg41 >0.2):\n",
    "        if df_nyt_topic_0_vaccination.annotation_41[i]=='FALSE':\n",
    "            false=false+1\n",
    "        elif df_nyt_topic_0_vaccination.annotation_41[i]=='TRUE':\n",
    "            true=true+1\n",
    "            \n",
    "    if(avg67 >0.2):    \n",
    "        if df_nyt_topic_0_vaccination.annotation_67[i]=='FALSE':\n",
    "            false=false+1\n",
    "        elif df_nyt_topic_0_vaccination.annotation_67[i]=='TRUE':\n",
    "            true=true+1\n",
    "            \n",
    "    if(avg19 >0.2):    \n",
    "        if df_nyt_topic_0_vaccination.annotation_19[i]=='FALSE':\n",
    "            false=false+1\n",
    "        elif df_nyt_topic_0_vaccination.annotation_19[i]=='TRUE':\n",
    "            true=true+1\n",
    "            \n",
    "    if(avg55>0.2):\n",
    "        if df_nyt_topic_0_vaccination.annotation_55[i]=='FALSE':\n",
    "            false=false+1\n",
    "        elif df_nyt_topic_0_vaccination.annotation_55[i]=='TRUE':\n",
    "            true=true+1\n",
    "    \n",
    "    if true >false:\n",
    "        df_nyt_topic_0_vaccination.final_label[i]=\"TRUE\"\n",
    "    elif true < false:\n",
    "        df_nyt_topic_0_vaccination.final_label[i]=\"FALSE\"\n",
    "    else:\n",
    "        df_nyt_topic_0_vaccination.final_label[i]=df_nyt_topic_0_vaccination.annotation_55[i]#in case of ties\n",
    "\n",
    "df_nyt_topic_0_vaccination=df_nyt_topic_0_vaccination.drop(columns=df_nyt_topic_0_vaccination.columns.values.tolist()[1:len(df_nyt_topic_0_vaccination.columns.values.tolist())-1])\n",
    "df_nyt_topic_0_vaccination.to_csv(\"nyt_topic_vaccination_final_0.csv\", mode='a', index=False)"
   ]
  },
  {
   "cell_type": "markdown",
   "id": "edaa2186",
   "metadata": {},
   "source": [
    "# #This calculation is for nyt_topic_0_lockdowns"
   ]
  },
  {
   "cell_type": "code",
   "execution_count": 1492,
   "id": "f8eff1da",
   "metadata": {},
   "outputs": [],
   "source": [
    "df_nyt_topic_0_lockdowns=pd.read_csv(\"/Users/abhishekshastry/Documents/Illinois_tech/Subjects/Fall-2021/NLP/Assignments/Assignment2/nyt_topic/nyt_topic_0_lockdowns.csv\")"
   ]
  },
  {
   "cell_type": "code",
   "execution_count": 1493,
   "id": "e3f2199e",
   "metadata": {},
   "outputs": [],
   "source": [
    "df_nyt_topic_0_lockdowns[\"final_label\"]=\"\"\n",
    "\n",
    "df_nyt_topic_0_lockdowns['annotation_41'].fillna('missing', inplace=True) \n",
    "df_nyt_topic_0_lockdowns['annotation_67'].fillna('missing', inplace=True)\n",
    "df_nyt_topic_0_lockdowns['annotation_19'].fillna('missing', inplace=True)\n",
    "df_nyt_topic_0_lockdowns['annotation_55'].fillna('missing', inplace=True)"
   ]
  },
  {
   "cell_type": "code",
   "execution_count": 1494,
   "id": "87802183",
   "metadata": {},
   "outputs": [],
   "source": [
    "#Calulating kapa scores for annotation_41"
   ]
  },
  {
   "cell_type": "code",
   "execution_count": 1495,
   "id": "3fb8f4f1",
   "metadata": {},
   "outputs": [
    {
     "name": "stdout",
     "output_type": "stream",
     "text": [
      "0.2926155969634231\n",
      "0.3113101903695409\n",
      "0.5557749259624876\n",
      "\n",
      "Average Kappa score for annotation_41 is  0.3865669044318172\n",
      "\n",
      "\n"
     ]
    }
   ],
   "source": [
    "x_ld_annot_41=k(df_nyt_topic_0_lockdowns.annotation_41,df_nyt_topic_0_lockdowns.annotation_67) \n",
    "print (x_ld_annot_41)\n",
    "y_ld_annot_41=k(df_nyt_topic_0_lockdowns.annotation_41,df_nyt_topic_0_lockdowns.annotation_19)\n",
    "print (y_ld_annot_41)\n",
    "z_ld_annot_41=k(df_nyt_topic_0_lockdowns.annotation_41,df_nyt_topic_0_lockdowns.annotation_55)\n",
    "print (z_ld_annot_41)\n",
    "avg41_ld=(x_ld_annot_41+y_ld_annot_41+z_ld_annot_41)/3\n",
    "print('\\nAverage Kappa score for annotation_41 is ', avg41_ld)\n",
    "print('\\n')"
   ]
  },
  {
   "cell_type": "code",
   "execution_count": 1496,
   "id": "10f62551",
   "metadata": {},
   "outputs": [],
   "source": [
    "#Calulating kapa scores for annotation_67"
   ]
  },
  {
   "cell_type": "code",
   "execution_count": 1497,
   "id": "5ae982db",
   "metadata": {},
   "outputs": [
    {
     "name": "stdout",
     "output_type": "stream",
     "text": [
      "0.2926155969634231\n",
      "0.4693200663349917\n",
      "0.47118891320204237\n",
      "\n",
      "Average Kappa score for annotation_67 is  0.41104152550015244\n",
      "\n",
      "\n"
     ]
    }
   ],
   "source": [
    "x_ld_annot_67=k(df_nyt_topic_0_lockdowns.annotation_67,df_nyt_topic_0_lockdowns.annotation_41) \n",
    "print (x_ld_annot_67)\n",
    "y_ld_annot_67=k(df_nyt_topic_0_lockdowns.annotation_67,df_nyt_topic_0_lockdowns.annotation_19)\n",
    "print (y_ld_annot_67)\n",
    "z_ld_annot_67=k(df_nyt_topic_0_lockdowns.annotation_67,df_nyt_topic_0_lockdowns.annotation_55)\n",
    "print (z_ld_annot_67)\n",
    "avg67_ld=(x_ld_annot_67+y_ld_annot_67+z_ld_annot_67)/3\n",
    "print('\\nAverage Kappa score for annotation_67 is ', avg67_ld)\n",
    "print('\\n')"
   ]
  },
  {
   "cell_type": "code",
   "execution_count": 1498,
   "id": "26d2ef6e",
   "metadata": {},
   "outputs": [],
   "source": [
    "#Calulating kapa scores for annotation_19"
   ]
  },
  {
   "cell_type": "code",
   "execution_count": 1499,
   "id": "3ed53f3c",
   "metadata": {},
   "outputs": [
    {
     "name": "stdout",
     "output_type": "stream",
     "text": [
      "0.3113101903695409\n",
      "0.4693200663349917\n",
      "0.5572609208972845\n",
      "\n",
      "Average Kappa score for annotation_67 is  0.4459637258672724\n",
      "\n",
      "\n"
     ]
    }
   ],
   "source": [
    "x_ld_annot_19=k(df_nyt_topic_0_lockdowns.annotation_19,df_nyt_topic_0_lockdowns.annotation_41) \n",
    "print (x_ld_annot_19)\n",
    "y_ld_annot_19=k(df_nyt_topic_0_lockdowns.annotation_19,df_nyt_topic_0_lockdowns.annotation_67)\n",
    "print (y_ld_annot_19)\n",
    "z_ld_annot_19=k(df_nyt_topic_0_lockdowns.annotation_19,df_nyt_topic_0_lockdowns.annotation_55)\n",
    "print (z_ld_annot_19)\n",
    "avg19_ld=(x_ld_annot_19+y_ld_annot_19+z_ld_annot_19)/3\n",
    "print('\\nAverage Kappa score for annotation_67 is ', avg19_ld)\n",
    "print('\\n')"
   ]
  },
  {
   "cell_type": "code",
   "execution_count": 1500,
   "id": "67dec193",
   "metadata": {},
   "outputs": [],
   "source": [
    "#Calulating kapa scores for annotation_55"
   ]
  },
  {
   "cell_type": "code",
   "execution_count": 1501,
   "id": "278c2e72",
   "metadata": {},
   "outputs": [
    {
     "name": "stdout",
     "output_type": "stream",
     "text": [
      "0.5557749259624876\n",
      "0.47118891320204237\n",
      "0.5572609208972845\n",
      "\n",
      "Average Kappa score for annotation_55 is  0.5280749200206049\n",
      "\n",
      "\n"
     ]
    }
   ],
   "source": [
    "x_ld_annot_55=k(df_nyt_topic_0_lockdowns.annotation_55,df_nyt_topic_0_lockdowns.annotation_41) \n",
    "print (x_ld_annot_55)\n",
    "y_ld_annot_55=k(df_nyt_topic_0_lockdowns.annotation_55,df_nyt_topic_0_lockdowns.annotation_67)\n",
    "print (y_ld_annot_55)\n",
    "z_ld_annot_55=k(df_nyt_topic_0_lockdowns.annotation_55,df_nyt_topic_0_lockdowns.annotation_19)\n",
    "print (z_ld_annot_55)\n",
    "avg55_ld=(x_ld_annot_55+y_ld_annot_55+z_ld_annot_55)/3\n",
    "print('\\nAverage Kappa score for annotation_55 is ', avg55_ld)\n",
    "print('\\n')"
   ]
  },
  {
   "cell_type": "code",
   "execution_count": 1502,
   "id": "26d2c30d",
   "metadata": {},
   "outputs": [],
   "source": [
    "#Checking if the avaerage kappa value is less than 0.2"
   ]
  },
  {
   "cell_type": "code",
   "execution_count": 1503,
   "id": "610358b4",
   "metadata": {},
   "outputs": [],
   "source": [
    "if(avg41_ld<0.2):\n",
    "    df_nyt_topic_0_vaccination=df_nyt_topic_0_lockdowns.drop(columns=[\"annotation_41\"])\n",
    "if(avg67_ld<0.2):\n",
    "    df_nyt_topic_0_vaccination=df_nyt_topic_0_lockdowns.drop(columns=[\"annotation_67\"])  \n",
    "if(avg19_ld<0.2):\n",
    "    df_nyt_topic_0_vaccination=df_nyt_topic_0_lockdowns.drop(columns=[\"annotation_19\"])\n",
    "if(avg55_ld<0.2):\n",
    "    df_nyt_topic_0_vaccination=df_nyt_topic_0_lockdowns.drop(columns=[\"annotation_55\"]) "
   ]
  },
  {
   "cell_type": "code",
   "execution_count": 1504,
   "id": "71762e17",
   "metadata": {},
   "outputs": [],
   "source": [
    "#Checking the condition to label with highest occuring frequency!!!"
   ]
  },
  {
   "cell_type": "code",
   "execution_count": 1505,
   "id": "42541016",
   "metadata": {},
   "outputs": [
    {
     "name": "stderr",
     "output_type": "stream",
     "text": [
      "<ipython-input-1505-3834649f7554>:35: SettingWithCopyWarning: \n",
      "A value is trying to be set on a copy of a slice from a DataFrame\n",
      "\n",
      "See the caveats in the documentation: https://pandas.pydata.org/pandas-docs/stable/user_guide/indexing.html#returning-a-view-versus-a-copy\n",
      "  df_nyt_topic_0_lockdowns.final_label[i]=df_nyt_topic_0_lockdowns.annotation_55[i]#in case of ties\n"
     ]
    }
   ],
   "source": [
    "for i in df_nyt_topic_0_lockdowns.index:\n",
    "    \n",
    "    true=0\n",
    "    false=0\n",
    "    \n",
    "    if(avg41_ld>0.2):\n",
    "        if df_nyt_topic_0_lockdowns.annotation_41[i]=='FALSE':\n",
    "            false=false+1\n",
    "        elif df_nyt_topic_0_lockdowns.annotation_41[i]=='TRUE':\n",
    "            true=true+1\n",
    "        \n",
    "    if(avg67_ld>0.2):  \n",
    "        if df_nyt_topic_0_lockdowns.annotation_67[i]=='FALSE':\n",
    "            false=false+1\n",
    "        elif df_nyt_topic_0_lockdowns.annotation_67[i]=='TRUE':\n",
    "            true=true+1\n",
    "    \n",
    "    if(avg19_ld>0.2): \n",
    "        if df_nyt_topic_0_lockdowns.annotation_19[i]=='FALSE':\n",
    "            false=false+1\n",
    "        elif df_nyt_topic_0_lockdowns.annotation_19[i]=='TRUE':\n",
    "            true=true+1\n",
    "            \n",
    "    if(avg55_ld>0.2): \n",
    "        if df_nyt_topic_0_lockdowns.annotation_55[i]=='FALSE':\n",
    "            false=false+1\n",
    "        elif df_nyt_topic_0_lockdowns.annotation_55[i]=='TRUE':\n",
    "            true=true+1\n",
    "    \n",
    "    if true >false:\n",
    "        df_nyt_topic_0_lockdowns.final_label[i]=\"TRUE\"\n",
    "    elif true < false:\n",
    "        df_nyt_topic_0_lockdowns.final_label[i]=\"FALSE\"\n",
    "    else:\n",
    "        df_nyt_topic_0_lockdowns.final_label[i]=df_nyt_topic_0_lockdowns.annotation_55[i]#in case of ties\n",
    "\n",
    "df_nyt_topic_0_lockdowns=df_nyt_topic_0_lockdowns.drop(columns=df_nyt_topic_0_lockdowns.columns.values.tolist()[1:len(df_nyt_topic_0_lockdowns.columns.values.tolist())-1])\n",
    "df_nyt_topic_0_lockdowns.to_csv(\"nyt_topic_lockdowns_final_0.csv\", mode='a', index=False)"
   ]
  },
  {
   "cell_type": "markdown",
   "id": "35f57125",
   "metadata": {},
   "source": [
    "# This calculation is for nyt_topic_0_masking_and_distancing"
   ]
  },
  {
   "cell_type": "code",
   "execution_count": 1506,
   "id": "55ebf602",
   "metadata": {},
   "outputs": [],
   "source": [
    "df_nyt_topic_0_masking_and_distancing=pd.read_csv(\"/Users/abhishekshastry/Documents/Illinois_tech/Subjects/Fall-2021/NLP/Assignments/Assignment2/nyt_topic/nyt_topic_0_masking_and_distancing.csv\")"
   ]
  },
  {
   "cell_type": "code",
   "execution_count": 1507,
   "id": "776b59aa",
   "metadata": {},
   "outputs": [],
   "source": [
    "df_nyt_topic_0_masking_and_distancing[\"final_label\"]=\"\"\n",
    "\n",
    "df_nyt_topic_0_masking_and_distancing['annotation_41'].fillna('missing', inplace=True) \n",
    "df_nyt_topic_0_masking_and_distancing['annotation_67'].fillna('missing', inplace=True)\n",
    "df_nyt_topic_0_masking_and_distancing['annotation_19'].fillna('missing', inplace=True)\n",
    "df_nyt_topic_0_masking_and_distancing['annotation_55'].fillna('missing', inplace=True)"
   ]
  },
  {
   "cell_type": "code",
   "execution_count": 1508,
   "id": "e2014cec",
   "metadata": {},
   "outputs": [],
   "source": [
    "#Calulating kapa scores for annotation_41"
   ]
  },
  {
   "cell_type": "code",
   "execution_count": 1509,
   "id": "096b4df6",
   "metadata": {},
   "outputs": [
    {
     "name": "stdout",
     "output_type": "stream",
     "text": [
      "0.6888827433628318\n",
      "0.49494949494949503\n",
      "0.6697746697746698\n",
      "\n",
      "Average Kappa score for annotation_41 is  0.6178689693623323\n",
      "\n",
      "\n"
     ]
    }
   ],
   "source": [
    "x_md_annot_41=k(df_nyt_topic_0_masking_and_distancing.annotation_41,df_nyt_topic_0_masking_and_distancing.annotation_67) \n",
    "print (x_md_annot_41)\n",
    "y_md_annot_41=k(df_nyt_topic_0_masking_and_distancing.annotation_41,df_nyt_topic_0_masking_and_distancing.annotation_19)\n",
    "print (y_md_annot_41)\n",
    "z_md_annot_41=k(df_nyt_topic_0_masking_and_distancing.annotation_41,df_nyt_topic_0_masking_and_distancing.annotation_55)\n",
    "print (z_md_annot_41)\n",
    "avg41_md=(x_md_annot_41+y_md_annot_41+z_md_annot_41)/3\n",
    "print('\\nAverage Kappa score for annotation_41 is ', avg41_md)\n",
    "print('\\n')"
   ]
  },
  {
   "cell_type": "code",
   "execution_count": 1510,
   "id": "41816f24",
   "metadata": {},
   "outputs": [],
   "source": [
    "#Calulating kapa scores for annotation_67"
   ]
  },
  {
   "cell_type": "code",
   "execution_count": 1511,
   "id": "79211120",
   "metadata": {},
   "outputs": [
    {
     "name": "stdout",
     "output_type": "stream",
     "text": [
      "0.6888827433628318\n",
      "0.5661605206073752\n",
      "0.7830802603036876\n",
      "\n",
      "Average Kappa score for annotation_67 is  0.6793745080912982\n",
      "\n",
      "\n"
     ]
    }
   ],
   "source": [
    "x_md_annot_67=k(df_nyt_topic_0_masking_and_distancing.annotation_67,df_nyt_topic_0_masking_and_distancing.annotation_41) \n",
    "print (x_md_annot_67)\n",
    "y_md_annot_67=k(df_nyt_topic_0_masking_and_distancing.annotation_67,df_nyt_topic_0_masking_and_distancing.annotation_19)\n",
    "print (y_md_annot_67)\n",
    "z_md_annot_67=k(df_nyt_topic_0_masking_and_distancing.annotation_67,df_nyt_topic_0_masking_and_distancing.annotation_55)\n",
    "print (z_md_annot_67)\n",
    "avg67_md=(x_md_annot_67+y_md_annot_67+z_md_annot_67)/3\n",
    "print('\\nAverage Kappa score for annotation_67 is ', avg67_md)\n",
    "print('\\n')"
   ]
  },
  {
   "cell_type": "code",
   "execution_count": 1512,
   "id": "00a0ca9a",
   "metadata": {},
   "outputs": [],
   "source": [
    "#Calulating kapa scores for annotation_19"
   ]
  },
  {
   "cell_type": "code",
   "execution_count": 1513,
   "id": "e3998e2c",
   "metadata": {},
   "outputs": [
    {
     "name": "stdout",
     "output_type": "stream",
     "text": [
      "0.49494949494949503\n",
      "0.5661605206073752\n",
      "0.6188496188496189\n",
      "\n",
      "Average Kappa score for annotation_67 is  0.559986544802163\n",
      "\n",
      "\n"
     ]
    }
   ],
   "source": [
    "x_md_annot_19=k(df_nyt_topic_0_masking_and_distancing.annotation_19,df_nyt_topic_0_masking_and_distancing.annotation_41) \n",
    "print (x_md_annot_19)\n",
    "y_md_annot_19=k(df_nyt_topic_0_masking_and_distancing.annotation_19,df_nyt_topic_0_masking_and_distancing.annotation_67)\n",
    "print (y_md_annot_19)\n",
    "z_md_annot_19=k(df_nyt_topic_0_masking_and_distancing.annotation_19,df_nyt_topic_0_masking_and_distancing.annotation_55)\n",
    "print (z_md_annot_19)\n",
    "avg19_md=(x_md_annot_19+y_md_annot_19+z_md_annot_19)/3\n",
    "print('\\nAverage Kappa score for annotation_67 is ', avg19_md)\n",
    "print('\\n')"
   ]
  },
  {
   "cell_type": "code",
   "execution_count": 1514,
   "id": "6936a991",
   "metadata": {},
   "outputs": [],
   "source": [
    "#Calulating kapa scores for annotation_55"
   ]
  },
  {
   "cell_type": "code",
   "execution_count": 1515,
   "id": "033fa13c",
   "metadata": {},
   "outputs": [
    {
     "name": "stdout",
     "output_type": "stream",
     "text": [
      "0.6697746697746698\n",
      "0.7830802603036876\n",
      "0.6188496188496189\n",
      "\n",
      "Average Kappa score for annotation_67 is  0.6905681829759921\n",
      "\n",
      "\n"
     ]
    }
   ],
   "source": [
    "x_md_annot_55=k(df_nyt_topic_0_masking_and_distancing.annotation_55,df_nyt_topic_0_masking_and_distancing.annotation_41) \n",
    "print (x_md_annot_55)\n",
    "y_md_annot_55=k(df_nyt_topic_0_masking_and_distancing.annotation_55,df_nyt_topic_0_masking_and_distancing.annotation_67)\n",
    "print (y_md_annot_55)\n",
    "z_md_annot_55=k(df_nyt_topic_0_masking_and_distancing.annotation_55,df_nyt_topic_0_masking_and_distancing.annotation_19)\n",
    "print (z_md_annot_55)\n",
    "avg55_md=(x_md_annot_55+y_md_annot_55+z_md_annot_55)/3\n",
    "print('\\nAverage Kappa score for annotation_67 is ', avg55_md)\n",
    "print('\\n')"
   ]
  },
  {
   "cell_type": "code",
   "execution_count": 1516,
   "id": "b6005d6a",
   "metadata": {},
   "outputs": [],
   "source": [
    "#Checking if the avaerage kappa value is less than 0.2"
   ]
  },
  {
   "cell_type": "code",
   "execution_count": 1517,
   "id": "1b0f028e",
   "metadata": {},
   "outputs": [],
   "source": [
    "if(avg41_md<0.2):\n",
    "    df_nyt_topic_0_masking_and_distancing=df_nyt_topic_0_masking_and_distancing.drop(columns=[\"annotation_41\"])\n",
    "if(avg67_md<0.2):\n",
    "    df_nyt_topic_0_masking_and_distancing=df_nyt_topic_0_masking_and_distancing.drop(columns=[\"annotation_67\"])  \n",
    "if(avg19_md<0.2):\n",
    "    df_nyt_topic_0_masking_and_distancing=df_nyt_topic_0_masking_and_distancing.drop(columns=[\"annotation_19\"])\n",
    "if(avg55_md<0.2):\n",
    "    df_nyt_topic_0_masking_and_distancing=df_nyt_topic_0_masking_and_distancing.drop(columns=[\"annotation_55\"]) "
   ]
  },
  {
   "cell_type": "code",
   "execution_count": 1518,
   "id": "f56de107",
   "metadata": {},
   "outputs": [],
   "source": [
    "#Checking the condition to label with highest occuring frequency!!!"
   ]
  },
  {
   "cell_type": "code",
   "execution_count": 1519,
   "id": "24cbbaa3",
   "metadata": {},
   "outputs": [
    {
     "name": "stderr",
     "output_type": "stream",
     "text": [
      "<ipython-input-1519-f6fcfd89207e>:36: SettingWithCopyWarning: \n",
      "A value is trying to be set on a copy of a slice from a DataFrame\n",
      "\n",
      "See the caveats in the documentation: https://pandas.pydata.org/pandas-docs/stable/user_guide/indexing.html#returning-a-view-versus-a-copy\n",
      "  df_nyt_topic_0_masking_and_distancing.final_label[i]=df_nyt_topic_0_masking_and_distancing.annotation_55[i]#in case of ties\n"
     ]
    }
   ],
   "source": [
    "for i in df_nyt_topic_0_masking_and_distancing.index:\n",
    "    \n",
    "    true=0\n",
    "    false=0\n",
    "    \n",
    "    if(avg41_md>0.2):\n",
    "        if df_nyt_topic_0_masking_and_distancing.annotation_41[i]=='FALSE':\n",
    "            false=false+1\n",
    "        elif df_nyt_topic_0_masking_and_distancing.annotation_41[i]=='TRUE':\n",
    "            true=true+1\n",
    "            \n",
    "    if(avg67_md>0.2):    \n",
    "        if df_nyt_topic_0_masking_and_distancing.annotation_67[i]=='FALSE':\n",
    "            false=false+1\n",
    "        elif df_nyt_topic_0_masking_and_distancing.annotation_67[i]=='TRUE':\n",
    "            true=true+1\n",
    "            \n",
    "    if(avg19_md>0.2):    \n",
    "        if df_nyt_topic_0_masking_and_distancing.annotation_19[i]=='FALSE':\n",
    "            false=false+1\n",
    "        elif df_nyt_topic_0_masking_and_distancing.annotation_19[i]=='TRUE':\n",
    "            true=true+1\n",
    "            \n",
    "    if(avg55_md>0.2): \n",
    "        if df_nyt_topic_0_masking_and_distancing.annotation_55[i]=='FALSE':\n",
    "            false=false+1\n",
    "        elif df_nyt_topic_0_masking_and_distancing.annotation_55[i]=='TRUE':\n",
    "            true=true+1\n",
    "    \n",
    "    \n",
    "    if true >false:\n",
    "        df_nyt_topic_0_masking_and_distancing.final_label[i]=\"TRUE\"\n",
    "    elif true < false:\n",
    "        df_nyt_topic_0_masking_and_distancing.final_label[i]=\"FALSE\"\n",
    "    else:\n",
    "        df_nyt_topic_0_masking_and_distancing.final_label[i]=df_nyt_topic_0_masking_and_distancing.annotation_55[i]#in case of ties\n",
    "\n",
    "df_nyt_topic_0_masking_and_distancing=df_nyt_topic_0_masking_and_distancing.drop(columns=df_nyt_topic_0_masking_and_distancing.columns.values.tolist()[1:len(df_nyt_topic_0_masking_and_distancing.columns.values.tolist())-1])\n",
    "df_nyt_topic_0_masking_and_distancing.to_csv(\"nyt_topic_masking_and_distancing_final_0.csv\", mode='a', index=False)"
   ]
  },
  {
   "cell_type": "markdown",
   "id": "79036919",
   "metadata": {},
   "source": [
    "# This calculation is for nyt_topic_1_vaccination"
   ]
  },
  {
   "cell_type": "code",
   "execution_count": 1520,
   "id": "85fb0de9",
   "metadata": {},
   "outputs": [],
   "source": [
    "#This calculation is for nyt_topic_1_vaccination\n",
    "df_nyt_topic_1_vaccination=pd.read_csv(\"/Users/abhishekshastry/Documents/Illinois_tech/Subjects/Fall-2021/NLP/Assignments/Assignment2/nyt_topic/nyt_topic_1_vaccination.csv\")"
   ]
  },
  {
   "cell_type": "code",
   "execution_count": 1521,
   "id": "d393b3d8",
   "metadata": {},
   "outputs": [],
   "source": [
    "df_nyt_topic_1_vaccination[\"final_label\"]=\"\"\n",
    "\n",
    "df_nyt_topic_1_vaccination['annotation_65'].fillna('missing', inplace=True) \n",
    "df_nyt_topic_1_vaccination['annotation_66'].fillna('missing', inplace=True)\n",
    "df_nyt_topic_1_vaccination['annotation_68'].fillna('missing', inplace=True)\n",
    "df_nyt_topic_1_vaccination['annotation_69'].fillna('missing', inplace=True)"
   ]
  },
  {
   "cell_type": "code",
   "execution_count": 1522,
   "id": "d9e5badf",
   "metadata": {},
   "outputs": [],
   "source": [
    "#Calulating kapa scores for annotation_65"
   ]
  },
  {
   "cell_type": "code",
   "execution_count": 1523,
   "id": "9bd53f3c",
   "metadata": {},
   "outputs": [
    {
     "name": "stdout",
     "output_type": "stream",
     "text": [
      "0.5802056555269923\n",
      "0.5905420991926182\n",
      "0.6087402281173908\n",
      "\n",
      "Average Kappa score for annotation_65 is  0.5931626609456672\n",
      "\n",
      "\n"
     ]
    }
   ],
   "source": [
    "x_annot_65=k(df_nyt_topic_1_vaccination.annotation_65,df_nyt_topic_1_vaccination.annotation_66) \n",
    "print (x_annot_65)\n",
    "y_annot_65=k(df_nyt_topic_1_vaccination.annotation_65,df_nyt_topic_1_vaccination.annotation_68)\n",
    "print (y_annot_65)\n",
    "z_annot_65=k(df_nyt_topic_1_vaccination.annotation_65,df_nyt_topic_1_vaccination.annotation_69)\n",
    "print (z_annot_65)\n",
    "avg65=(x_annot_65+y_annot_65+z_annot_65)/3\n",
    "print('\\nAverage Kappa score for annotation_65 is ', avg65)\n",
    "print('\\n')"
   ]
  },
  {
   "cell_type": "code",
   "execution_count": 1524,
   "id": "c4142e21",
   "metadata": {},
   "outputs": [],
   "source": [
    "#Calulating kapa scores for annotation_66"
   ]
  },
  {
   "cell_type": "code",
   "execution_count": 1525,
   "id": "c59657b7",
   "metadata": {},
   "outputs": [
    {
     "name": "stdout",
     "output_type": "stream",
     "text": [
      "0.5802056555269923\n",
      "0.8674421944564125\n",
      "0.9286227200919144\n",
      "\n",
      "Average Kappa score for annotation_66 is  0.7920901900251064\n",
      "\n",
      "\n"
     ]
    }
   ],
   "source": [
    "x_annot_66=k(df_nyt_topic_1_vaccination.annotation_66,df_nyt_topic_1_vaccination.annotation_65) \n",
    "print (x_annot_66)\n",
    "y_annot_66=k(df_nyt_topic_1_vaccination.annotation_66,df_nyt_topic_1_vaccination.annotation_68)\n",
    "print (y_annot_66)\n",
    "z_annot_66=k(df_nyt_topic_1_vaccination.annotation_66,df_nyt_topic_1_vaccination.annotation_69)\n",
    "print (z_annot_66)\n",
    "avg66=(x_annot_66+y_annot_66+z_annot_66)/3\n",
    "print('\\nAverage Kappa score for annotation_66 is ', avg66)\n",
    "print('\\n')"
   ]
  },
  {
   "cell_type": "code",
   "execution_count": 1526,
   "id": "a9fac42a",
   "metadata": {},
   "outputs": [],
   "source": [
    "#Calulating kapa scores for annotation_68"
   ]
  },
  {
   "cell_type": "code",
   "execution_count": 1527,
   "id": "39ed5328",
   "metadata": {},
   "outputs": [
    {
     "name": "stdout",
     "output_type": "stream",
     "text": [
      "0.5905420991926182\n",
      "0.8674421944564125\n",
      "0.9176811594202898\n",
      "\n",
      "Average Kappa score for annotation_68 is  0.7918884843564401\n",
      "\n",
      "\n"
     ]
    }
   ],
   "source": [
    "x_annot_68=k(df_nyt_topic_1_vaccination.annotation_68,df_nyt_topic_1_vaccination.annotation_65) \n",
    "print (x_annot_68)\n",
    "y_annot_68=k(df_nyt_topic_1_vaccination.annotation_68,df_nyt_topic_1_vaccination.annotation_66)\n",
    "print (y_annot_68)\n",
    "z_annot_68=k(df_nyt_topic_1_vaccination.annotation_68,df_nyt_topic_1_vaccination.annotation_69)\n",
    "print (z_annot_68)\n",
    "avg68=(x_annot_68+y_annot_68+z_annot_68)/3\n",
    "print('\\nAverage Kappa score for annotation_68 is ', avg68)\n",
    "print('\\n')"
   ]
  },
  {
   "cell_type": "code",
   "execution_count": 1528,
   "id": "416f907d",
   "metadata": {},
   "outputs": [],
   "source": [
    "#Calulating kapa scores for annotation_69"
   ]
  },
  {
   "cell_type": "code",
   "execution_count": 1529,
   "id": "fdd625b3",
   "metadata": {},
   "outputs": [
    {
     "name": "stdout",
     "output_type": "stream",
     "text": [
      "0.6087402281173908\n",
      "0.9286227200919144\n",
      "0.9176811594202898\n",
      "\n",
      "Average Kappa score for annotation_69 is  0.8183480358765317\n",
      "\n",
      "\n"
     ]
    }
   ],
   "source": [
    "x_annot_69=k(df_nyt_topic_1_vaccination.annotation_69,df_nyt_topic_1_vaccination.annotation_65) \n",
    "print (x_annot_69)\n",
    "y_annot_69=k(df_nyt_topic_1_vaccination.annotation_69,df_nyt_topic_1_vaccination.annotation_66)\n",
    "print (y_annot_69)\n",
    "z_annot_69=k(df_nyt_topic_1_vaccination.annotation_69,df_nyt_topic_1_vaccination.annotation_68)\n",
    "print (z_annot_69)\n",
    "avg69=(x_annot_69+y_annot_69+z_annot_69)/3\n",
    "print('\\nAverage Kappa score for annotation_69 is ', avg69)\n",
    "print('\\n')"
   ]
  },
  {
   "cell_type": "code",
   "execution_count": 1530,
   "id": "b93c5f70",
   "metadata": {},
   "outputs": [],
   "source": [
    "#Checking if the average kappa value is less than 0.2"
   ]
  },
  {
   "cell_type": "code",
   "execution_count": 1531,
   "id": "fdf0314d",
   "metadata": {},
   "outputs": [],
   "source": [
    "if(avg65<0.2):\n",
    "    df_nyt_topic_1_vaccination=df_nyt_topic_1_vaccination.drop(columns=[\"annotation_65\"])\n",
    "if(avg66<0.2):\n",
    "    df_nyt_topic_1_vaccination=df_nyt_topic_1_vaccination.drop(columns=[\"annotation_66\"])  \n",
    "if(avg68<0.2):\n",
    "    df_nyt_topic_1_vaccination=df_nyt_topic_1_vaccination.drop(columns=[\"annotation_68\"])\n",
    "if(avg69<0.2):\n",
    "    df_nyt_topic_1_vaccination=df_nyt_topic_1_vaccination.drop(columns=[\"annotation_69\"]) "
   ]
  },
  {
   "cell_type": "code",
   "execution_count": 1532,
   "id": "cb23c95f",
   "metadata": {},
   "outputs": [],
   "source": [
    "#Checking the condition to label with highest occuring frequency!!!"
   ]
  },
  {
   "cell_type": "code",
   "execution_count": 1533,
   "id": "68489544",
   "metadata": {},
   "outputs": [
    {
     "name": "stderr",
     "output_type": "stream",
     "text": [
      "<ipython-input-1533-0d2647df6c56>:36: SettingWithCopyWarning: \n",
      "A value is trying to be set on a copy of a slice from a DataFrame\n",
      "\n",
      "See the caveats in the documentation: https://pandas.pydata.org/pandas-docs/stable/user_guide/indexing.html#returning-a-view-versus-a-copy\n",
      "  df_nyt_topic_1_vaccination.final_label[i]=df_nyt_topic_1_vaccination.annotation_69[i]#in case of ties\n"
     ]
    }
   ],
   "source": [
    "for i in df_nyt_topic_1_vaccination.index:\n",
    "    \n",
    "    true=0\n",
    "    false=0\n",
    "    \n",
    "    if(avg65>0.2):\n",
    "        if df_nyt_topic_1_vaccination.annotation_65[i]=='FALSE':\n",
    "            false=false+1\n",
    "        elif df_nyt_topic_1_vaccination.annotation_65[i]=='TRUE':\n",
    "            true=true+1\n",
    "            \n",
    "    if(avg66>0.2):    \n",
    "        if df_nyt_topic_1_vaccination.annotation_66[i]=='FALSE':\n",
    "            false=false+1\n",
    "        elif df_nyt_topic_1_vaccination.annotation_66[i]=='TRUE':\n",
    "            true=true+1\n",
    "            \n",
    "            \n",
    "    if(avg68>0.2):     \n",
    "        if df_nyt_topic_1_vaccination.annotation_68[i]=='FALSE':\n",
    "            false=false+1\n",
    "        elif df_nyt_topic_1_vaccination.annotation_68[i]=='TRUE':\n",
    "            true=true+1\n",
    "            \n",
    "    if(avg69>0.2):    \n",
    "        if df_nyt_topic_1_vaccination.annotation_69[i]=='FALSE':\n",
    "            false=false+1\n",
    "        elif df_nyt_topic_1_vaccination.annotation_69[i]=='TRUE':\n",
    "            true=true+1\n",
    "    \n",
    "    if true >false:\n",
    "        df_nyt_topic_1_vaccination.final_label[i]=\"TRUE\"\n",
    "    elif true < false:\n",
    "        df_nyt_topic_1_vaccination.final_label[i]=\"FALSE\"\n",
    "    else:\n",
    "        df_nyt_topic_1_vaccination.final_label[i]=df_nyt_topic_1_vaccination.annotation_69[i]#in case of ties\n",
    "\n",
    "df_nyt_topic_1_vaccination=df_nyt_topic_1_vaccination.drop(columns=df_nyt_topic_1_vaccination.columns.values.tolist()[1:len(df_nyt_topic_1_vaccination.columns.values.tolist())-1])\n",
    "df_nyt_topic_1_vaccination.to_csv(\"nyt_topic_vaccination_final_1.csv\", mode='a', index=False)"
   ]
  },
  {
   "cell_type": "markdown",
   "id": "6e4f16fc",
   "metadata": {},
   "source": [
    "# This calculation is for nyt_topic_1_lockdowns"
   ]
  },
  {
   "cell_type": "code",
   "execution_count": 1534,
   "id": "c6afd4ca",
   "metadata": {},
   "outputs": [],
   "source": [
    "df_nyt_topic_1_lockdowns=pd.read_csv(\"/Users/abhishekshastry/Documents/Illinois_tech/Subjects/Fall-2021/NLP/Assignments/Assignment2/nyt_topic/nyt_topic_1_lockdowns.csv\")"
   ]
  },
  {
   "cell_type": "code",
   "execution_count": 1535,
   "id": "c596a7f7",
   "metadata": {},
   "outputs": [],
   "source": [
    "df_nyt_topic_1_lockdowns[\"final_label\"]=\"\"\n",
    "\n",
    "df_nyt_topic_1_lockdowns['annotation_65'].fillna('missing', inplace=True) \n",
    "df_nyt_topic_1_lockdowns['annotation_66'].fillna('missing', inplace=True)\n",
    "df_nyt_topic_1_lockdowns['annotation_68'].fillna('missing', inplace=True)\n",
    "df_nyt_topic_1_lockdowns['annotation_69'].fillna('missing', inplace=True)"
   ]
  },
  {
   "cell_type": "code",
   "execution_count": 1536,
   "id": "f15f6899",
   "metadata": {},
   "outputs": [],
   "source": [
    "#Calulating kapa scores for annotation_65"
   ]
  },
  {
   "cell_type": "code",
   "execution_count": 1537,
   "id": "3c4070c5",
   "metadata": {},
   "outputs": [
    {
     "name": "stdout",
     "output_type": "stream",
     "text": [
      "0.32097037555400054\n",
      "0.470713525026624\n",
      "0.37389770723104054\n",
      "\n",
      "Average Kappa score for annotation_65 is  0.38852720260388834\n",
      "\n",
      "\n"
     ]
    }
   ],
   "source": [
    "x_ld_annot_65=k(df_nyt_topic_1_lockdowns.annotation_65,df_nyt_topic_1_lockdowns.annotation_66) \n",
    "print (x_ld_annot_65)\n",
    "y_ld_annot_65=k(df_nyt_topic_1_lockdowns.annotation_65,df_nyt_topic_1_lockdowns.annotation_68)\n",
    "print (y_ld_annot_65)\n",
    "z_ld_annot_65=k(df_nyt_topic_1_lockdowns.annotation_65,df_nyt_topic_1_lockdowns.annotation_69)\n",
    "print (z_ld_annot_65)\n",
    "avg65_ld=(x_ld_annot_65+y_ld_annot_65+z_ld_annot_65)/3\n",
    "print('\\nAverage Kappa score for annotation_65 is ', avg65_ld)\n",
    "print('\\n')"
   ]
  },
  {
   "cell_type": "code",
   "execution_count": 1538,
   "id": "779937bb",
   "metadata": {},
   "outputs": [],
   "source": [
    "#Calulating kapa scores for annotation_66"
   ]
  },
  {
   "cell_type": "code",
   "execution_count": 1539,
   "id": "08344829",
   "metadata": {},
   "outputs": [
    {
     "name": "stdout",
     "output_type": "stream",
     "text": [
      "0.32097037555400054\n",
      "0.437487922705314\n",
      "0.38360589541691914\n",
      "\n",
      "Average Kappa score for annotation_66 is  0.38068806455874454\n",
      "\n",
      "\n"
     ]
    }
   ],
   "source": [
    "x_ld_annot_66=k(df_nyt_topic_1_lockdowns.annotation_66,df_nyt_topic_1_lockdowns.annotation_65) \n",
    "print (x_ld_annot_66)\n",
    "y_ld_annot_66=k(df_nyt_topic_1_lockdowns.annotation_66,df_nyt_topic_1_lockdowns.annotation_68)\n",
    "print (y_ld_annot_66)\n",
    "z_ld_annot_66=k(df_nyt_topic_1_lockdowns.annotation_66,df_nyt_topic_1_lockdowns.annotation_69)\n",
    "print (z_ld_annot_66)\n",
    "avg66_ld=(x_ld_annot_66+y_ld_annot_66+z_ld_annot_66)/3\n",
    "print('\\nAverage Kappa score for annotation_66 is ', avg66_ld)\n",
    "print('\\n')"
   ]
  },
  {
   "cell_type": "code",
   "execution_count": 1540,
   "id": "1b031c4c",
   "metadata": {},
   "outputs": [],
   "source": [
    "#Calulating kapa scores for annotation_68"
   ]
  },
  {
   "cell_type": "code",
   "execution_count": 1541,
   "id": "571007a2",
   "metadata": {},
   "outputs": [
    {
     "name": "stdout",
     "output_type": "stream",
     "text": [
      "0.470713525026624\n",
      "0.437487922705314\n",
      "0.4671081677704194\n",
      "\n",
      "Average Kappa score for annotation_68 is  0.4584365385007858\n",
      "\n",
      "\n"
     ]
    }
   ],
   "source": [
    "x_ld_annot_68=k(df_nyt_topic_1_lockdowns.annotation_68,df_nyt_topic_1_lockdowns.annotation_65) \n",
    "print (x_ld_annot_68)\n",
    "y_ld_annot_68=k(df_nyt_topic_1_lockdowns.annotation_68,df_nyt_topic_1_lockdowns.annotation_66)\n",
    "print (y_ld_annot_68)\n",
    "z_ld_annot_68=k(df_nyt_topic_1_lockdowns.annotation_68,df_nyt_topic_1_lockdowns.annotation_69)\n",
    "print (z_ld_annot_68)\n",
    "avg68_ld=(x_ld_annot_68+y_ld_annot_68+z_ld_annot_68)/3\n",
    "print('\\nAverage Kappa score for annotation_68 is ', avg68_ld)\n",
    "print('\\n')"
   ]
  },
  {
   "cell_type": "code",
   "execution_count": 1542,
   "id": "a2f999f5",
   "metadata": {},
   "outputs": [],
   "source": [
    "#Calulating kapa scores for annotation_69"
   ]
  },
  {
   "cell_type": "code",
   "execution_count": 1543,
   "id": "c54b68f5",
   "metadata": {},
   "outputs": [
    {
     "name": "stdout",
     "output_type": "stream",
     "text": [
      "0.37389770723104054\n",
      "0.38360589541691914\n",
      "0.4671081677704194\n",
      "\n",
      "Average Kappa score for annotation_69 is  0.40820392347279305\n",
      "\n",
      "\n"
     ]
    }
   ],
   "source": [
    "x_ld_annot_69=k(df_nyt_topic_1_lockdowns.annotation_69,df_nyt_topic_1_lockdowns.annotation_65) \n",
    "print (x_ld_annot_69)\n",
    "y_ld_annot_69=k(df_nyt_topic_1_lockdowns.annotation_69,df_nyt_topic_1_lockdowns.annotation_66)\n",
    "print (y_ld_annot_69)\n",
    "z_ld_annot_69=k(df_nyt_topic_1_lockdowns.annotation_69,df_nyt_topic_1_lockdowns.annotation_68)\n",
    "print (z_ld_annot_69)\n",
    "avg69_ld=(x_ld_annot_69+y_ld_annot_69+z_ld_annot_69)/3\n",
    "print('\\nAverage Kappa score for annotation_69 is ', avg69_ld)\n",
    "print('\\n')"
   ]
  },
  {
   "cell_type": "code",
   "execution_count": 1544,
   "id": "1f6fa452",
   "metadata": {},
   "outputs": [],
   "source": [
    "#Checking if the avaerage kappa value is less than 0.2"
   ]
  },
  {
   "cell_type": "code",
   "execution_count": 1545,
   "id": "62dfddef",
   "metadata": {},
   "outputs": [],
   "source": [
    "if(avg65_ld<0.2):\n",
    "    df_nyt_topic_1_lockdowns=df_nyt_topic_1_lockdowns.drop(columns=[\"annotation_65\"])\n",
    "if(avg66_ld<0.2):\n",
    "    df_nyt_topic_1_lockdowns=df_nyt_topic_1_lockdowns.drop(columns=[\"annotation_66\"])  \n",
    "if(avg68_ld<0.2):\n",
    "    df_nyt_topic_1_lockdowns=df_nyt_topic_1_lockdowns.drop(columns=[\"annotation_68\"])\n",
    "if(avg69_ld<0.2):\n",
    "    df_nyt_topic_1_lockdowns=df_nyt_topic_1_lockdowns.drop(columns=[\"annotation_69\"]) "
   ]
  },
  {
   "cell_type": "code",
   "execution_count": 1546,
   "id": "a6a6c593",
   "metadata": {},
   "outputs": [],
   "source": [
    "#Checking the condition to label with highest occuring frequency!!!"
   ]
  },
  {
   "cell_type": "code",
   "execution_count": 1547,
   "id": "f11a6684",
   "metadata": {},
   "outputs": [
    {
     "name": "stderr",
     "output_type": "stream",
     "text": [
      "<ipython-input-1547-1e1826aa68cd>:35: SettingWithCopyWarning: \n",
      "A value is trying to be set on a copy of a slice from a DataFrame\n",
      "\n",
      "See the caveats in the documentation: https://pandas.pydata.org/pandas-docs/stable/user_guide/indexing.html#returning-a-view-versus-a-copy\n",
      "  df_nyt_topic_1_lockdowns.final_label[i]=df_nyt_topic_1_lockdowns.annotation_68[i]#in case of ties\n"
     ]
    }
   ],
   "source": [
    "for i in df_nyt_topic_1_lockdowns.index:\n",
    "    \n",
    "    true=0\n",
    "    false=0\n",
    "    \n",
    "    if(avg65_ld>0.2):\n",
    "        if df_nyt_topic_1_lockdowns.annotation_65[i]=='FALSE':\n",
    "            false=false+1\n",
    "        elif df_nyt_topic_1_lockdowns.annotation_65[i]=='TRUE':\n",
    "            true=true+1\n",
    "    \n",
    "    if(avg66_ld>0.2):\n",
    "        if df_nyt_topic_1_lockdowns.annotation_66[i]=='FALSE':\n",
    "            false=false+1\n",
    "        elif df_nyt_topic_1_lockdowns.annotation_66[i]=='TRUE':\n",
    "            true=true+1\n",
    "    \n",
    "    if(avg68_ld>0.2):\n",
    "        if df_nyt_topic_1_lockdowns.annotation_68[i]=='FALSE':\n",
    "            false=false+1\n",
    "        elif df_nyt_topic_1_lockdowns.annotation_68[i]=='TRUE':\n",
    "            true=true+1\n",
    "    \n",
    "    if(avg69_ld>0.2):\n",
    "        if df_nyt_topic_1_lockdowns.annotation_69[i]=='FALSE':\n",
    "            false=false+1\n",
    "        elif df_nyt_topic_1_lockdowns.annotation_69[i]=='TRUE':\n",
    "            true=true+1\n",
    "    \n",
    "    if true >false:\n",
    "        df_nyt_topic_1_lockdowns.final_label[i]=\"TRUE\"\n",
    "    elif true < false:\n",
    "        df_nyt_topic_1_lockdowns.final_label[i]=\"FALSE\"\n",
    "    else:\n",
    "        df_nyt_topic_1_lockdowns.final_label[i]=df_nyt_topic_1_lockdowns.annotation_68[i]#in case of ties\n",
    "\n",
    "df_nyt_topic_1_lockdowns=df_nyt_topic_1_lockdowns.drop(columns=df_nyt_topic_1_lockdowns.columns.values.tolist()[1:len(df_nyt_topic_1_lockdowns.columns.values.tolist())-1])\n",
    "df_nyt_topic_1_lockdowns.to_csv(\"nyt_topic_lockdowns_final_1.csv\", mode='a', index=False)"
   ]
  },
  {
   "cell_type": "markdown",
   "id": "afb6946c",
   "metadata": {},
   "source": [
    "# This calculation is for nyt_topic_1_masking_and_distancing"
   ]
  },
  {
   "cell_type": "code",
   "execution_count": 1548,
   "id": "8341623c",
   "metadata": {},
   "outputs": [],
   "source": [
    "df_nyt_topic_1_masking_and_distancing=pd.read_csv(\"/Users/abhishekshastry/Documents/Illinois_tech/Subjects/Fall-2021/NLP/Assignments/Assignment2/nyt_topic/nyt_topic_1_masking_and_distancing.csv\")"
   ]
  },
  {
   "cell_type": "code",
   "execution_count": 1549,
   "id": "f3f5c08b",
   "metadata": {},
   "outputs": [],
   "source": [
    "df_nyt_topic_1_masking_and_distancing[\"final_label\"]=\"\"\n",
    "\n",
    "df_nyt_topic_1_masking_and_distancing['annotation_65'].fillna('missing', inplace=True) \n",
    "df_nyt_topic_1_masking_and_distancing['annotation_66'].fillna('missing', inplace=True)\n",
    "df_nyt_topic_1_masking_and_distancing['annotation_68'].fillna('missing', inplace=True)\n",
    "df_nyt_topic_1_masking_and_distancing['annotation_69'].fillna('missing', inplace=True)"
   ]
  },
  {
   "cell_type": "code",
   "execution_count": 1550,
   "id": "9cc809d0",
   "metadata": {},
   "outputs": [],
   "source": [
    "#Calulating kapa scores for annotation_65"
   ]
  },
  {
   "cell_type": "code",
   "execution_count": 1551,
   "id": "5e5d6a57",
   "metadata": {},
   "outputs": [
    {
     "name": "stdout",
     "output_type": "stream",
     "text": [
      "0.6888827433628318\n",
      "0.49494949494949503\n",
      "0.6697746697746698\n",
      "\n",
      "Average Kappa score for annotation_65 is  0.717961781836577\n",
      "\n",
      "\n"
     ]
    }
   ],
   "source": [
    "x_md_annot_65=k(df_nyt_topic_1_masking_and_distancing.annotation_65,df_nyt_topic_1_masking_and_distancing.annotation_66) \n",
    "print (x_md_annot_41)\n",
    "y_md_annot_65=k(df_nyt_topic_1_masking_and_distancing.annotation_65,df_nyt_topic_1_masking_and_distancing.annotation_68)\n",
    "print (y_md_annot_41)\n",
    "z_md_annot_65=k(df_nyt_topic_1_masking_and_distancing.annotation_65,df_nyt_topic_1_masking_and_distancing.annotation_69)\n",
    "print (z_md_annot_41)\n",
    "avg65_md=(x_md_annot_65+y_md_annot_65+z_md_annot_65)/3\n",
    "print('\\nAverage Kappa score for annotation_65 is ', avg65_md)\n",
    "print('\\n')"
   ]
  },
  {
   "cell_type": "code",
   "execution_count": 1552,
   "id": "230a1670",
   "metadata": {},
   "outputs": [],
   "source": [
    "#Calulating kapa scores for annotation_66"
   ]
  },
  {
   "cell_type": "code",
   "execution_count": 1553,
   "id": "66983a5d",
   "metadata": {},
   "outputs": [
    {
     "name": "stdout",
     "output_type": "stream",
     "text": [
      "0.7891089108910891\n",
      "0.848136076594011\n",
      "0.8112194359001095\n",
      "\n",
      "Average Kappa score for annotation_66 is  0.81615480779507\n",
      "\n",
      "\n"
     ]
    }
   ],
   "source": [
    "x_md_annot_66=k(df_nyt_topic_1_masking_and_distancing.annotation_66,df_nyt_topic_1_masking_and_distancing.annotation_65) \n",
    "print (x_md_annot_66)\n",
    "y_md_annot_66=k(df_nyt_topic_1_masking_and_distancing.annotation_66,df_nyt_topic_1_masking_and_distancing.annotation_68)\n",
    "print (y_md_annot_66)\n",
    "z_md_annot_66=k(df_nyt_topic_1_masking_and_distancing.annotation_66,df_nyt_topic_1_masking_and_distancing.annotation_69)\n",
    "print (z_md_annot_66)\n",
    "avg66_md=(x_md_annot_66+y_md_annot_66+z_md_annot_66)/3\n",
    "print('\\nAverage Kappa score for annotation_66 is ', avg66_md)\n",
    "print('\\n')"
   ]
  },
  {
   "cell_type": "code",
   "execution_count": 1554,
   "id": "fe31657d",
   "metadata": {},
   "outputs": [],
   "source": [
    "#Calulating kapa scores for annotation_68"
   ]
  },
  {
   "cell_type": "code",
   "execution_count": 1555,
   "id": "c447894c",
   "metadata": {},
   "outputs": [
    {
     "name": "stdout",
     "output_type": "stream",
     "text": [
      "0.7891089108910891\n",
      "0.848136076594011\n",
      "0.7987067893558817\n",
      "\n",
      "Average Kappa score for annotation_68 is  0.7796374195875933\n",
      "\n",
      "\n"
     ]
    }
   ],
   "source": [
    "x_md_annot_68=k(df_nyt_topic_1_masking_and_distancing.annotation_68,df_nyt_topic_1_masking_and_distancing.annotation_65) \n",
    "print (x_md_annot_66)\n",
    "y_md_annot_68=k(df_nyt_topic_1_masking_and_distancing.annotation_68,df_nyt_topic_1_masking_and_distancing.annotation_66)\n",
    "print (y_md_annot_68)\n",
    "z_md_annot_68=k(df_nyt_topic_1_masking_and_distancing.annotation_68,df_nyt_topic_1_masking_and_distancing.annotation_69)\n",
    "print (z_md_annot_68)\n",
    "avg68_md=(x_md_annot_68+y_md_annot_68+z_md_annot_68)/3\n",
    "print('\\nAverage Kappa score for annotation_68 is ', avg68_md)\n",
    "print('\\n')"
   ]
  },
  {
   "cell_type": "code",
   "execution_count": 1556,
   "id": "76285aee",
   "metadata": {},
   "outputs": [],
   "source": [
    "#Calulating kapa scores for annotation_69"
   ]
  },
  {
   "cell_type": "code",
   "execution_count": 1557,
   "id": "ec6e7c07",
   "metadata": {},
   "outputs": [
    {
     "name": "stdout",
     "output_type": "stream",
     "text": [
      "0.6727070418057542\n",
      "0.8112194359001095\n",
      "0.7987067893558817\n",
      "\n",
      "Average Kappa score for annotation_69 is  0.7608777556872485\n",
      "\n",
      "\n"
     ]
    }
   ],
   "source": [
    "x_md_annot_69=k(df_nyt_topic_1_masking_and_distancing.annotation_69,df_nyt_topic_1_masking_and_distancing.annotation_65) \n",
    "print (x_md_annot_69)\n",
    "y_md_annot_69=k(df_nyt_topic_1_masking_and_distancing.annotation_69,df_nyt_topic_1_masking_and_distancing.annotation_66)\n",
    "print (y_md_annot_69)\n",
    "z_md_annot_69=k(df_nyt_topic_1_masking_and_distancing.annotation_69,df_nyt_topic_1_masking_and_distancing.annotation_68)\n",
    "print (z_md_annot_69)\n",
    "avg69_md=(x_md_annot_69+y_md_annot_69+z_md_annot_69)/3\n",
    "print('\\nAverage Kappa score for annotation_69 is ', avg69_md)\n",
    "print('\\n')"
   ]
  },
  {
   "cell_type": "code",
   "execution_count": 1558,
   "id": "d6723f6d",
   "metadata": {},
   "outputs": [],
   "source": [
    "#Checking if the avaerage kappa value is less than 0.2"
   ]
  },
  {
   "cell_type": "code",
   "execution_count": 1559,
   "id": "5302ad07",
   "metadata": {},
   "outputs": [],
   "source": [
    "if(avg65_md<0.2):\n",
    "    df_nyt_topic_1_masking_and_distancing=df_nyt_topic_1_masking_and_distancing.drop(columns=[\"annotation_65\"])\n",
    "if(avg66_md<0.2):\n",
    "    df_nyt_topic_1_masking_and_distancing=df_nyt_topic_1_masking_and_distancing.drop(columns=[\"annotation_66\"])  \n",
    "if(avg68_md<0.2):\n",
    "    df_nyt_topic_1_masking_and_distancing=df_nyt_topic_1_masking_and_distancing.drop(columns=[\"annotation_68\"])\n",
    "if(avg69_md<0.2):\n",
    "    df_nyt_topic_1_masking_and_distancing=df_nyt_topic_1_masking_and_distancing.drop(columns=[\"annotation_69\"]) "
   ]
  },
  {
   "cell_type": "code",
   "execution_count": 1560,
   "id": "01227770",
   "metadata": {},
   "outputs": [],
   "source": [
    "#Checking the condition to label with highest occuring frequency!!!"
   ]
  },
  {
   "cell_type": "code",
   "execution_count": 1561,
   "id": "8ceb4d87",
   "metadata": {},
   "outputs": [
    {
     "name": "stderr",
     "output_type": "stream",
     "text": [
      "<ipython-input-1561-18bf419e68fc>:35: SettingWithCopyWarning: \n",
      "A value is trying to be set on a copy of a slice from a DataFrame\n",
      "\n",
      "See the caveats in the documentation: https://pandas.pydata.org/pandas-docs/stable/user_guide/indexing.html#returning-a-view-versus-a-copy\n",
      "  df_nyt_topic_1_masking_and_distancing.final_label[i]=df_nyt_topic_1_masking_and_distancing.annotation_66[i]#in case of ties\n"
     ]
    }
   ],
   "source": [
    "for i in df_nyt_topic_1_masking_and_distancing.index:\n",
    "    \n",
    "    true=0\n",
    "    false=0\n",
    "    \n",
    "    if(avg65_md>0.2):\n",
    "        if df_nyt_topic_1_masking_and_distancing.annotation_65[i]=='FALSE':\n",
    "            false=false+1\n",
    "        elif df_nyt_topic_1_masking_and_distancing.annotation_65[i]=='TRUE':\n",
    "            true=true+1\n",
    "    \n",
    "    if(avg66_md>0.2):\n",
    "        if df_nyt_topic_1_masking_and_distancing.annotation_66[i]=='FALSE':\n",
    "            false=false+1\n",
    "        elif df_nyt_topic_1_masking_and_distancing.annotation_66[i]=='TRUE':\n",
    "            true=true+1\n",
    "    \n",
    "    if(avg68_md>0.2):\n",
    "        if df_nyt_topic_1_masking_and_distancing.annotation_68[i]=='FALSE':\n",
    "            false=false+1\n",
    "        elif df_nyt_topic_1_masking_and_distancing.annotation_68[i]=='TRUE':\n",
    "            true=true+1\n",
    "    \n",
    "    if(avg69_md>0.2):\n",
    "        if df_nyt_topic_1_masking_and_distancing.annotation_69[i]=='FALSE':\n",
    "            false=false+1\n",
    "        elif df_nyt_topic_1_masking_and_distancing.annotation_69[i]=='TRUE':\n",
    "            true=true+1\n",
    "    \n",
    "    if true >false:\n",
    "        df_nyt_topic_1_masking_and_distancing.final_label[i]=\"TRUE\"\n",
    "    elif true < false:\n",
    "        df_nyt_topic_1_masking_and_distancing.final_label[i]=\"FALSE\"\n",
    "    else:\n",
    "        df_nyt_topic_1_masking_and_distancing.final_label[i]=df_nyt_topic_1_masking_and_distancing.annotation_66[i]#in case of ties\n",
    "\n",
    "df_nyt_topic_1_masking_and_distancing=df_nyt_topic_1_masking_and_distancing.drop(columns=df_nyt_topic_1_masking_and_distancing.columns.values.tolist()[1:len(df_nyt_topic_1_masking_and_distancing.columns.values.tolist())-1])\n",
    "df_nyt_topic_1_masking_and_distancing.to_csv(\"nyt_topic_masking_and_distancing_final_1.csv\", mode='a', index=False)"
   ]
  },
  {
   "cell_type": "markdown",
   "id": "ad1e2ac1",
   "metadata": {},
   "source": [
    "# This calculation is for nyt_topic_2_vaccination"
   ]
  },
  {
   "cell_type": "code",
   "execution_count": 1562,
   "id": "5bec9360",
   "metadata": {},
   "outputs": [],
   "source": [
    "#This calculation is for nyt_topic_1_vaccination\n",
    "df_nyt_topic_2_vaccination=pd.read_csv(\"/Users/abhishekshastry/Documents/Illinois_tech/Subjects/Fall-2021/NLP/Assignments/Assignment2/nyt_topic/nyt_topic_2_vaccination.csv\")"
   ]
  },
  {
   "cell_type": "code",
   "execution_count": 1563,
   "id": "bd9d4155",
   "metadata": {},
   "outputs": [],
   "source": [
    "df_nyt_topic_2_vaccination[\"final_label\"]=\"\"\n",
    "\n",
    "df_nyt_topic_2_vaccination['annotation_40'].fillna('missing', inplace=True) \n",
    "df_nyt_topic_2_vaccination['annotation_8'].fillna('missing', inplace=True)\n",
    "df_nyt_topic_2_vaccination['annotation_42'].fillna('missing', inplace=True)\n",
    "df_nyt_topic_2_vaccination['annotation_15'].fillna('missing', inplace=True)"
   ]
  },
  {
   "cell_type": "code",
   "execution_count": 1564,
   "id": "4cb28e53",
   "metadata": {},
   "outputs": [],
   "source": [
    "#Calulating kapa scores for annotation_40"
   ]
  },
  {
   "cell_type": "code",
   "execution_count": 1565,
   "id": "6bdb8435",
   "metadata": {},
   "outputs": [
    {
     "name": "stdout",
     "output_type": "stream",
     "text": [
      "0.6768982229402262\n",
      "0.9212485681557847\n",
      "0.8700173310225303\n",
      "\n",
      "Average Kappa score for annotation_40 is  0.8227213740395136\n",
      "\n",
      "\n"
     ]
    }
   ],
   "source": [
    "x_annot_40=k(df_nyt_topic_2_vaccination.annotation_40,df_nyt_topic_2_vaccination.annotation_8) \n",
    "print (x_annot_40)\n",
    "y_annot_40=k(df_nyt_topic_2_vaccination.annotation_40,df_nyt_topic_2_vaccination.annotation_42)\n",
    "print (y_annot_40)\n",
    "z_annot_40=k(df_nyt_topic_2_vaccination.annotation_40,df_nyt_topic_2_vaccination.annotation_15)\n",
    "print (z_annot_40)\n",
    "avg40=(x_annot_40+y_annot_40+z_annot_40)/3\n",
    "print('\\nAverage Kappa score for annotation_40 is ',avg40)\n",
    "print('\\n')"
   ]
  },
  {
   "cell_type": "code",
   "execution_count": 1566,
   "id": "811a24be",
   "metadata": {},
   "outputs": [],
   "source": [
    "#Calulating kapa scores for annotation_8"
   ]
  },
  {
   "cell_type": "code",
   "execution_count": 1567,
   "id": "b6bd4e66",
   "metadata": {},
   "outputs": [
    {
     "name": "stdout",
     "output_type": "stream",
     "text": [
      "0.6768982229402262\n",
      "0.7100080927974103\n",
      "0.7028633171258779\n",
      "\n",
      "Average Kappa score for annotation_8 is  0.6965898776211715\n",
      "\n",
      "\n"
     ]
    }
   ],
   "source": [
    "x_annot_8=k(df_nyt_topic_2_vaccination.annotation_8,df_nyt_topic_2_vaccination.annotation_40) \n",
    "print (x_annot_8)\n",
    "y_annot_8=k(df_nyt_topic_2_vaccination.annotation_8,df_nyt_topic_2_vaccination.annotation_42)\n",
    "print (y_annot_8)\n",
    "z_annot_8=k(df_nyt_topic_2_vaccination.annotation_8,df_nyt_topic_2_vaccination.annotation_15)\n",
    "print (z_annot_8)\n",
    "avg8=(x_annot_8+y_annot_8+z_annot_8)/3\n",
    "print('\\nAverage Kappa score for annotation_8 is ',avg8)\n",
    "print('\\n')"
   ]
  },
  {
   "cell_type": "code",
   "execution_count": 1568,
   "id": "fc59e5b5",
   "metadata": {},
   "outputs": [],
   "source": [
    "#Calulating kapa scores for annotation_42"
   ]
  },
  {
   "cell_type": "code",
   "execution_count": 1569,
   "id": "65bf64c4",
   "metadata": {},
   "outputs": [
    {
     "name": "stdout",
     "output_type": "stream",
     "text": [
      "0.9212485681557847\n",
      "0.7100080927974103\n",
      "0.9192601291837933\n",
      "\n",
      "Average Kappa score for annotation_42 is  0.8501722633789961\n",
      "\n",
      "\n"
     ]
    }
   ],
   "source": [
    "x_annot_42=k(df_nyt_topic_2_vaccination.annotation_42,df_nyt_topic_2_vaccination.annotation_40) \n",
    "print (x_annot_42)\n",
    "y_annot_42=k(df_nyt_topic_2_vaccination.annotation_42,df_nyt_topic_2_vaccination.annotation_8)\n",
    "print (y_annot_42)\n",
    "z_annot_42=k(df_nyt_topic_2_vaccination.annotation_42,df_nyt_topic_2_vaccination.annotation_15)\n",
    "print (z_annot_42)\n",
    "avg42=(x_annot_42+y_annot_42+z_annot_42)/3\n",
    "print('\\nAverage Kappa score for annotation_42 is ',avg42)\n",
    "print('\\n')"
   ]
  },
  {
   "cell_type": "code",
   "execution_count": 1570,
   "id": "1f33680d",
   "metadata": {},
   "outputs": [],
   "source": [
    "#Calulating kapa scores for annotation_15"
   ]
  },
  {
   "cell_type": "code",
   "execution_count": 1571,
   "id": "96d492d8",
   "metadata": {},
   "outputs": [
    {
     "name": "stdout",
     "output_type": "stream",
     "text": [
      "0.8700173310225303\n",
      "0.7028633171258779\n",
      "0.9192601291837933\n",
      "\n",
      "Average Kappa score for annotation_15 is  0.8307135924440673\n",
      "\n",
      "\n"
     ]
    }
   ],
   "source": [
    "x_annot_15=k(df_nyt_topic_2_vaccination.annotation_15,df_nyt_topic_2_vaccination.annotation_40) \n",
    "print (x_annot_15)\n",
    "y_annot_15=k(df_nyt_topic_2_vaccination.annotation_15,df_nyt_topic_2_vaccination.annotation_8)\n",
    "print (y_annot_15)\n",
    "z_annot_15=k(df_nyt_topic_2_vaccination.annotation_15,df_nyt_topic_2_vaccination.annotation_42)\n",
    "print (z_annot_15)\n",
    "avg15=(x_annot_15+y_annot_15+z_annot_15)/3\n",
    "print('\\nAverage Kappa score for annotation_15 is ',avg15)\n",
    "print('\\n')"
   ]
  },
  {
   "cell_type": "code",
   "execution_count": 1572,
   "id": "1d5abf25",
   "metadata": {},
   "outputs": [],
   "source": [
    "#Checking if the avaerage kappa value is less than 0.2"
   ]
  },
  {
   "cell_type": "code",
   "execution_count": 1573,
   "id": "4910a92a",
   "metadata": {},
   "outputs": [],
   "source": [
    "\n",
    "if(avg40<0.2):\n",
    "    df_nyt_topic_2_vaccination=df_nyt_topic_2_vaccination.drop(columns=[\"annotation_40\"])\n",
    "if(avg8<0.2):\n",
    "    df_nyt_topic_2_vaccination=df_nyt_topic_2_vaccination.drop(columns=[\"annotation_8\"])  \n",
    "if(avg42<0.2):\n",
    "    df_nyt_topic_2_vaccination=df_nyt_topic_2_vaccination.drop(columns=[\"annotation_42\"])\n",
    "if(avg15<0.2):\n",
    "    df_nyt_topic_2_vaccination=df_nyt_topic_2_vaccination.drop(columns=[\"annotation_15\"]) "
   ]
  },
  {
   "cell_type": "code",
   "execution_count": null,
   "id": "15a92e24",
   "metadata": {},
   "outputs": [],
   "source": []
  },
  {
   "cell_type": "code",
   "execution_count": 1574,
   "id": "54be7956",
   "metadata": {},
   "outputs": [
    {
     "name": "stderr",
     "output_type": "stream",
     "text": [
      "<ipython-input-1574-81b25aeed40a>:35: SettingWithCopyWarning: \n",
      "A value is trying to be set on a copy of a slice from a DataFrame\n",
      "\n",
      "See the caveats in the documentation: https://pandas.pydata.org/pandas-docs/stable/user_guide/indexing.html#returning-a-view-versus-a-copy\n",
      "  df_nyt_topic_2_vaccination.final_label[i]=df_nyt_topic_2_vaccination.annotation_42[i]#in case of ties\n"
     ]
    }
   ],
   "source": [
    "for i in df_nyt_topic_2_vaccination.index:\n",
    "    \n",
    "    true=0\n",
    "    false=0\n",
    "    \n",
    "    if(avg40>0.2):\n",
    "        if df_nyt_topic_2_vaccination.annotation_40[i]=='FALSE':\n",
    "            false=false+1\n",
    "        elif df_nyt_topic_2_vaccination.annotation_40[i]=='TRUE':\n",
    "            true=true+1\n",
    "    \n",
    "    if(avg8>0.2):\n",
    "        if df_nyt_topic_2_vaccination.annotation_8[i]=='FALSE':\n",
    "            false=false+1\n",
    "        elif df_nyt_topic_2_vaccination.annotation_8[i]=='TRUE':\n",
    "            true=true+1\n",
    "    \n",
    "    if(avg42>0.2):\n",
    "        if df_nyt_topic_2_vaccination.annotation_42[i]=='FALSE':\n",
    "            false=false+1\n",
    "        elif df_nyt_topic_2_vaccination.annotation_42[i]=='TRUE':\n",
    "            true=true+1\n",
    "    \n",
    "    if(avg15>0.2):\n",
    "        if df_nyt_topic_2_vaccination.annotation_15[i]=='FALSE':\n",
    "            false=false+1\n",
    "        elif df_nyt_topic_2_vaccination.annotation_15[i]=='TRUE':\n",
    "            true=true+1\n",
    "    \n",
    "    if true >false:\n",
    "        df_nyt_topic_2_vaccination.final_label[i]=\"TRUE\"\n",
    "    elif true < false:\n",
    "        df_nyt_topic_2_vaccination.final_label[i]=\"FALSE\"\n",
    "    else:\n",
    "        df_nyt_topic_2_vaccination.final_label[i]=df_nyt_topic_2_vaccination.annotation_42[i]#in case of ties\n",
    "\n",
    "df_nyt_topic_2_vaccination=df_nyt_topic_2_vaccination.drop(columns=df_nyt_topic_2_vaccination.columns.values.tolist()[1:len(df_nyt_topic_2_vaccination.columns.values.tolist())-1])\n",
    "df_nyt_topic_2_vaccination.to_csv(\"nyt_topic_vaccination_final_2.csv\", mode='a', index=False)"
   ]
  },
  {
   "cell_type": "markdown",
   "id": "3077e76c",
   "metadata": {},
   "source": [
    "# This calculation is for nyt_topic_2_lockdowns"
   ]
  },
  {
   "cell_type": "code",
   "execution_count": 1575,
   "id": "92b90da2",
   "metadata": {},
   "outputs": [],
   "source": [
    "df_nyt_topic_2_lockdowns=pd.read_csv(\"/Users/abhishekshastry/Documents/Illinois_tech/Subjects/Fall-2021/NLP/Assignments/Assignment2/nyt_topic/nyt_topic_2_lockdowns.csv\")"
   ]
  },
  {
   "cell_type": "code",
   "execution_count": 1576,
   "id": "8edab653",
   "metadata": {},
   "outputs": [],
   "source": [
    "df_nyt_topic_2_lockdowns[\"final_label\"]=\"\"\n",
    "df_nyt_topic_2_lockdowns['annotation_40'].fillna('missing', inplace=True) \n",
    "df_nyt_topic_2_lockdowns['annotation_8'].fillna('missing', inplace=True)\n",
    "df_nyt_topic_2_lockdowns['annotation_42'].fillna('missing', inplace=True)\n",
    "df_nyt_topic_2_lockdowns['annotation_15'].fillna('missing', inplace=True)"
   ]
  },
  {
   "cell_type": "code",
   "execution_count": 1577,
   "id": "46ed0ebb",
   "metadata": {},
   "outputs": [],
   "source": [
    "#Calulating kapa scores for annotation_40"
   ]
  },
  {
   "cell_type": "code",
   "execution_count": 1578,
   "id": "9d52e684",
   "metadata": {},
   "outputs": [
    {
     "name": "stdout",
     "output_type": "stream",
     "text": [
      "0.3358478189570351\n",
      "0.6055399719495091\n",
      "0.677356276886977\n",
      "\n",
      "Average Kappa score for annotation_40 is  0.5395813559311737\n",
      "\n",
      "\n"
     ]
    }
   ],
   "source": [
    "x_ld_annot_40=k(df_nyt_topic_2_lockdowns.annotation_40,df_nyt_topic_2_lockdowns.annotation_8) \n",
    "print (x_ld_annot_40)\n",
    "y_ld_annot_40=k(df_nyt_topic_2_lockdowns.annotation_40,df_nyt_topic_2_lockdowns.annotation_42)\n",
    "print (y_ld_annot_40)\n",
    "z_ld_annot_40=k(df_nyt_topic_2_lockdowns.annotation_40,df_nyt_topic_2_lockdowns.annotation_15)\n",
    "print (z_ld_annot_40)\n",
    "avg40_ld=(x_ld_annot_40+y_ld_annot_40+z_ld_annot_40)/3\n",
    "print('\\nAverage Kappa score for annotation_40 is ', avg40_ld)\n",
    "print('\\n')"
   ]
  },
  {
   "cell_type": "code",
   "execution_count": 1579,
   "id": "1bd6c6d0",
   "metadata": {},
   "outputs": [],
   "source": [
    "#Calulating kapa scores for annotation_8"
   ]
  },
  {
   "cell_type": "code",
   "execution_count": 1580,
   "id": "8aa78313",
   "metadata": {},
   "outputs": [
    {
     "name": "stdout",
     "output_type": "stream",
     "text": [
      "0.3358478189570351\n",
      "0.284502861988552\n",
      "0.2354549975136747\n",
      "\n",
      "Average Kappa score for annotation_8 is  0.2852685594864206\n",
      "\n",
      "\n"
     ]
    }
   ],
   "source": [
    "x_ld_annot_8=k(df_nyt_topic_2_lockdowns.annotation_8,df_nyt_topic_2_lockdowns.annotation_40) \n",
    "print (x_ld_annot_8)\n",
    "y_ld_annot_8=k(df_nyt_topic_2_lockdowns.annotation_8,df_nyt_topic_2_lockdowns.annotation_42)\n",
    "print (y_ld_annot_8)\n",
    "z_ld_annot_8=k(df_nyt_topic_2_lockdowns.annotation_8,df_nyt_topic_2_lockdowns.annotation_15)\n",
    "print (z_ld_annot_8)\n",
    "avg8_ld=(x_ld_annot_8+y_ld_annot_8+z_ld_annot_8)/3\n",
    "print('\\nAverage Kappa score for annotation_8 is ', avg8_ld)\n",
    "print('\\n')"
   ]
  },
  {
   "cell_type": "code",
   "execution_count": 1581,
   "id": "a7da0a37",
   "metadata": {},
   "outputs": [],
   "source": [
    "#Calulating kapa scores for annotation_42"
   ]
  },
  {
   "cell_type": "code",
   "execution_count": 1582,
   "id": "451b3d62",
   "metadata": {},
   "outputs": [
    {
     "name": "stdout",
     "output_type": "stream",
     "text": [
      "0.6055399719495091\n",
      "0.284502861988552\n",
      "0.6227601383212826\n",
      "\n",
      "Average Kappa score for annotation_42 is  0.5042676574197813\n",
      "\n",
      "\n"
     ]
    }
   ],
   "source": [
    "x_ld_annot_42=k(df_nyt_topic_2_lockdowns.annotation_42,df_nyt_topic_2_lockdowns.annotation_40) \n",
    "print (x_ld_annot_42)\n",
    "y_ld_annot_42=k(df_nyt_topic_2_lockdowns.annotation_42,df_nyt_topic_2_lockdowns.annotation_8)\n",
    "print (y_ld_annot_42)\n",
    "z_ld_annot_42=k(df_nyt_topic_2_lockdowns.annotation_42,df_nyt_topic_2_lockdowns.annotation_15)\n",
    "print (z_ld_annot_42)\n",
    "avg42_ld=(x_ld_annot_42+y_ld_annot_42+z_ld_annot_42)/3\n",
    "print('\\nAverage Kappa score for annotation_42 is ', avg42_ld)\n",
    "print('\\n')"
   ]
  },
  {
   "cell_type": "code",
   "execution_count": 1583,
   "id": "e9acaabc",
   "metadata": {},
   "outputs": [],
   "source": [
    "#Calulating kapa scores for annotation_15"
   ]
  },
  {
   "cell_type": "code",
   "execution_count": 1584,
   "id": "ed53e1cf",
   "metadata": {},
   "outputs": [
    {
     "name": "stdout",
     "output_type": "stream",
     "text": [
      "0.677356276886977\n",
      "0.2354549975136747\n",
      "0.6227601383212826\n",
      "\n",
      "Average Kappa score for annotation_15 is  0.5118571375739781\n",
      "\n",
      "\n"
     ]
    }
   ],
   "source": [
    "x_ld_annot_15=k(df_nyt_topic_2_lockdowns.annotation_15,df_nyt_topic_2_lockdowns.annotation_40) \n",
    "print (x_ld_annot_15)\n",
    "y_ld_annot_15=k(df_nyt_topic_2_lockdowns.annotation_15,df_nyt_topic_2_lockdowns.annotation_8)\n",
    "print (y_ld_annot_15)\n",
    "z_ld_annot_15=k(df_nyt_topic_2_lockdowns.annotation_15,df_nyt_topic_2_lockdowns.annotation_42)\n",
    "print (z_ld_annot_15)\n",
    "avg15_ld=(x_ld_annot_15+y_ld_annot_15+z_ld_annot_15)/3\n",
    "print('\\nAverage Kappa score for annotation_15 is ', avg15_ld)\n",
    "print('\\n')"
   ]
  },
  {
   "cell_type": "code",
   "execution_count": 1585,
   "id": "e5c18490",
   "metadata": {},
   "outputs": [],
   "source": [
    "#Checking if the avaerage kappa value is less than 0.2"
   ]
  },
  {
   "cell_type": "code",
   "execution_count": 1586,
   "id": "cd790366",
   "metadata": {},
   "outputs": [],
   "source": [
    "if(avg40_ld<0.2):\n",
    "    df_nyt_topic_2_lockdowns=df_nyt_topic_2_lockdowns.drop(columns=[\"annotation_40\"])\n",
    "if(avg8_ld<0.2):\n",
    "    df_nyt_topic_2_lockdowns=df_nyt_topic_2_lockdowns.drop(columns=[\"annotation_8\"])  \n",
    "if(avg42_ld<0.2):\n",
    "    df_nyt_topic_2_lockdowns=df_nyt_topic_2_lockdowns.drop(columns=[\"annotation_42\"])\n",
    "if(avg15_ld<0.2):\n",
    "    df_nyt_topic_2_lockdowns=df_nyt_topic_2_lockdowns.drop(columns=[\"annotation_15\"]) "
   ]
  },
  {
   "cell_type": "code",
   "execution_count": 1587,
   "id": "d22f3b82",
   "metadata": {},
   "outputs": [],
   "source": [
    "#Checking the condition to label with highest occuring frequency!!!"
   ]
  },
  {
   "cell_type": "code",
   "execution_count": 1588,
   "id": "edfa6175",
   "metadata": {},
   "outputs": [
    {
     "name": "stderr",
     "output_type": "stream",
     "text": [
      "<ipython-input-1588-761df2983582>:31: SettingWithCopyWarning: \n",
      "A value is trying to be set on a copy of a slice from a DataFrame\n",
      "\n",
      "See the caveats in the documentation: https://pandas.pydata.org/pandas-docs/stable/user_guide/indexing.html#returning-a-view-versus-a-copy\n",
      "  df_nyt_topic_2_lockdowns.final_label[i]=df_nyt_topic_2_lockdowns.annotation_40[i]\n"
     ]
    }
   ],
   "source": [
    "for i in df_nyt_topic_2_lockdowns.index:\n",
    "    \n",
    "    true=0\n",
    "    false=0\n",
    "    \n",
    "    if df_nyt_topic_2_lockdowns.annotation_40[i]=='FALSE':\n",
    "        false=false+1\n",
    "    elif df_nyt_topic_2_lockdowns.annotation_40[i]=='TRUE':\n",
    "        true=true+1\n",
    "        \n",
    "    if df_nyt_topic_2_lockdowns.annotation_8[i]=='FALSE':\n",
    "        false=false+1\n",
    "    elif df_nyt_topic_2_lockdowns.annotation_8[i]=='TRUE':\n",
    "        true=true+1\n",
    "        \n",
    "    if df_nyt_topic_2_lockdowns.annotation_42[i]=='FALSE':\n",
    "        false=false+1\n",
    "    elif df_nyt_topic_2_lockdowns.annotation_42[i]=='TRUE':\n",
    "        true=true+1\n",
    "    \n",
    "    if df_nyt_topic_2_lockdowns.annotation_15[i]=='FALSE':\n",
    "        false=false+1\n",
    "    elif df_nyt_topic_2_lockdowns.annotation_15[i]=='TRUE':\n",
    "        true=true+1\n",
    "    \n",
    "    if true >false:\n",
    "        df_nyt_topic_2_lockdowns.final_label[i]=\"TRUE\"\n",
    "    elif true < false:\n",
    "        df_nyt_topic_2_lockdowns.final_label[i]=\"FALSE\"\n",
    "    else:\n",
    "        df_nyt_topic_2_lockdowns.final_label[i]=df_nyt_topic_2_lockdowns.annotation_40[i]\n",
    "\n",
    "df_nyt_topic_2_lockdowns=df_nyt_topic_2_lockdowns.drop(columns=df_nyt_topic_2_lockdowns.columns.values.tolist()[1:len(df_nyt_topic_2_lockdowns.columns.values.tolist())-1])\n",
    "df_nyt_topic_2_lockdowns.to_csv(\"nyt_topic_lockdowns_final_2.csv\", mode='a', index=False)"
   ]
  },
  {
   "cell_type": "markdown",
   "id": "cce5b27f",
   "metadata": {},
   "source": [
    "# This calculation is for nyt_topic_2_masking_and_distancing"
   ]
  },
  {
   "cell_type": "code",
   "execution_count": 1589,
   "id": "691c9904",
   "metadata": {},
   "outputs": [],
   "source": [
    "df_nyt_topic_2_masking_and_distancing=pd.read_csv(\"/Users/abhishekshastry/Documents/Illinois_tech/Subjects/Fall-2021/NLP/Assignments/Assignment2/nyt_topic/nyt_topic_2_masking_and_distancing.csv\")"
   ]
  },
  {
   "cell_type": "code",
   "execution_count": 1590,
   "id": "a8e7697f",
   "metadata": {},
   "outputs": [],
   "source": [
    "df_nyt_topic_2_masking_and_distancing[\"final_label\"]=\"\"\n",
    "\n",
    "df_nyt_topic_2_masking_and_distancing['annotation_40'].fillna('missing', inplace=True) \n",
    "df_nyt_topic_2_masking_and_distancing['annotation_8'].fillna('missing', inplace=True)\n",
    "df_nyt_topic_2_masking_and_distancing['annotation_42'].fillna('missing', inplace=True)\n",
    "df_nyt_topic_2_masking_and_distancing['annotation_15'].fillna('missing', inplace=True)"
   ]
  },
  {
   "cell_type": "code",
   "execution_count": 1591,
   "id": "f1583389",
   "metadata": {},
   "outputs": [],
   "source": [
    "#Calulating kapa scores for annotation_40"
   ]
  },
  {
   "cell_type": "code",
   "execution_count": 1592,
   "id": "3e215e68",
   "metadata": {},
   "outputs": [
    {
     "name": "stdout",
     "output_type": "stream",
     "text": [
      "0.8141812175554507\n",
      "0.9082007343941249\n",
      "0.8817234581807941\n",
      "\n",
      "Average Kappa score for annotation_40 is  0.8680351367101232\n",
      "\n",
      "\n"
     ]
    }
   ],
   "source": [
    "x_md_annot_40=k(df_nyt_topic_2_masking_and_distancing.annotation_40,df_nyt_topic_2_masking_and_distancing.annotation_8) \n",
    "print (x_md_annot_40)\n",
    "y_md_annot_40=k(df_nyt_topic_2_masking_and_distancing.annotation_40,df_nyt_topic_2_masking_and_distancing.annotation_42)\n",
    "print (y_md_annot_40)\n",
    "z_md_annot_40=k(df_nyt_topic_2_masking_and_distancing.annotation_40,df_nyt_topic_2_masking_and_distancing.annotation_15)\n",
    "print (z_md_annot_40)\n",
    "avg40_md=(x_md_annot_40+y_md_annot_40+z_md_annot_40)/3\n",
    "print('\\nAverage Kappa score for annotation_40 is ', avg40_md)\n",
    "print('\\n')"
   ]
  },
  {
   "cell_type": "code",
   "execution_count": 1593,
   "id": "714b1a01",
   "metadata": {},
   "outputs": [],
   "source": [
    "#Calulating kapa scores for annotation_8"
   ]
  },
  {
   "cell_type": "code",
   "execution_count": 1594,
   "id": "5f4ac007",
   "metadata": {},
   "outputs": [
    {
     "name": "stdout",
     "output_type": "stream",
     "text": [
      "0.8141812175554507\n",
      "0.8313469754890938\n",
      "0.8035307517084282\n",
      "\n",
      "Average Kappa score for annotation_8 is  0.8163529815843242\n",
      "\n",
      "\n"
     ]
    }
   ],
   "source": [
    "x_md_annot_8=k(df_nyt_topic_2_masking_and_distancing.annotation_8,df_nyt_topic_2_masking_and_distancing.annotation_40) \n",
    "print (x_md_annot_8)\n",
    "y_md_annot_8=k(df_nyt_topic_2_masking_and_distancing.annotation_8,df_nyt_topic_2_masking_and_distancing.annotation_42)\n",
    "print (y_md_annot_8)\n",
    "z_md_annot_8=k(df_nyt_topic_2_masking_and_distancing.annotation_8,df_nyt_topic_2_masking_and_distancing.annotation_15)\n",
    "print (z_md_annot_8)\n",
    "avg8_md=(x_md_annot_8+y_md_annot_8+z_md_annot_8)/3\n",
    "print('\\nAverage Kappa score for annotation_8 is ', avg8_md)\n",
    "print('\\n')"
   ]
  },
  {
   "cell_type": "code",
   "execution_count": 1595,
   "id": "b78c820f",
   "metadata": {},
   "outputs": [],
   "source": [
    "#Calulating kapa scores for annotation_42"
   ]
  },
  {
   "cell_type": "code",
   "execution_count": 1596,
   "id": "2b17bed3",
   "metadata": {},
   "outputs": [
    {
     "name": "stdout",
     "output_type": "stream",
     "text": [
      "0.9082007343941249\n",
      "0.8313469754890938\n",
      "0.9106659447753114\n",
      "\n",
      "Average Kappa score for annotation_42 is  0.8834045515528434\n",
      "\n",
      "\n"
     ]
    }
   ],
   "source": [
    "x_md_annot_42=k(df_nyt_topic_2_masking_and_distancing.annotation_42,df_nyt_topic_2_masking_and_distancing.annotation_40) \n",
    "print (x_md_annot_42)\n",
    "y_md_annot_42=k(df_nyt_topic_2_masking_and_distancing.annotation_42,df_nyt_topic_2_masking_and_distancing.annotation_8)\n",
    "print (y_md_annot_42)\n",
    "z_md_annot_42=k(df_nyt_topic_2_masking_and_distancing.annotation_42,df_nyt_topic_2_masking_and_distancing.annotation_15)\n",
    "print (z_md_annot_42)\n",
    "avg42_md=(x_md_annot_42+y_md_annot_42+z_md_annot_42)/3\n",
    "print('\\nAverage Kappa score for annotation_42 is ', avg42_md)\n",
    "print('\\n')"
   ]
  },
  {
   "cell_type": "code",
   "execution_count": 1597,
   "id": "0c72d21c",
   "metadata": {},
   "outputs": [],
   "source": [
    "#Calulating kapa scores for annotation_15"
   ]
  },
  {
   "cell_type": "code",
   "execution_count": 1598,
   "id": "0b6b3aa2",
   "metadata": {},
   "outputs": [
    {
     "name": "stdout",
     "output_type": "stream",
     "text": [
      "0.8817234581807941\n",
      "0.8035307517084282\n",
      "0.9106659447753114\n",
      "\n",
      "Average Kappa score for annotation_15 is  0.8653067182215114\n",
      "\n",
      "\n"
     ]
    }
   ],
   "source": [
    "x_md_annot_15=k(df_nyt_topic_2_masking_and_distancing.annotation_15,df_nyt_topic_2_masking_and_distancing.annotation_40) \n",
    "print (x_md_annot_15)\n",
    "y_md_annot_15=k(df_nyt_topic_2_masking_and_distancing.annotation_15,df_nyt_topic_2_masking_and_distancing.annotation_8)\n",
    "print (y_md_annot_15)\n",
    "z_md_annot_15=k(df_nyt_topic_2_masking_and_distancing.annotation_15,df_nyt_topic_2_masking_and_distancing.annotation_42)\n",
    "print (z_md_annot_15)\n",
    "avg15_md=(x_md_annot_15+y_md_annot_15+z_md_annot_15)/3\n",
    "print('\\nAverage Kappa score for annotation_15 is ', avg15_md)\n",
    "print('\\n')"
   ]
  },
  {
   "cell_type": "code",
   "execution_count": 1599,
   "id": "45c2edf2",
   "metadata": {},
   "outputs": [],
   "source": [
    "#Calulating kapa scores for annotation_15"
   ]
  },
  {
   "cell_type": "code",
   "execution_count": 1600,
   "id": "639846cf",
   "metadata": {},
   "outputs": [],
   "source": [
    "if(avg40_md<0.2):\n",
    "    df_nyt_topic_2_masking_and_distancing=df_nyt_topic_2_masking_and_distancing.drop(columns=[\"annotation_40\"])\n",
    "if(avg8_md<0.2):\n",
    "    df_nyt_topic_2_masking_and_distancing=df_nyt_topic_2_masking_and_distancing.drop(columns=[\"annotation_8\"])  \n",
    "if(avg42_md<0.2):\n",
    "    df_nyt_topic_2_masking_and_distancing=df_nyt_topic_2_masking_and_distancing.drop(columns=[\"annotation_42\"])\n",
    "if(avg15_md<0.2):\n",
    "    df_nyt_topic_2_masking_and_distancing=df_nyt_topic_2_masking_and_distancing.drop(columns=[\"annotation_15\"]) "
   ]
  },
  {
   "cell_type": "code",
   "execution_count": 1601,
   "id": "c5991651",
   "metadata": {},
   "outputs": [],
   "source": [
    "#Checking the condition to label with highest occuring frequency!!!"
   ]
  },
  {
   "cell_type": "code",
   "execution_count": 1602,
   "id": "5c66e814",
   "metadata": {},
   "outputs": [
    {
     "name": "stderr",
     "output_type": "stream",
     "text": [
      "<ipython-input-1602-c1c0641851ff>:35: SettingWithCopyWarning: \n",
      "A value is trying to be set on a copy of a slice from a DataFrame\n",
      "\n",
      "See the caveats in the documentation: https://pandas.pydata.org/pandas-docs/stable/user_guide/indexing.html#returning-a-view-versus-a-copy\n",
      "  df_nyt_topic_2_masking_and_distancing.final_label[i]=df_nyt_topic_2_masking_and_distancing.annotation_42[i]\n"
     ]
    }
   ],
   "source": [
    "for i in df_nyt_topic_2_masking_and_distancing.index:\n",
    "    \n",
    "    true=0\n",
    "    false=0\n",
    "    \n",
    "    if(avg40_md>0.2):\n",
    "        if df_nyt_topic_2_masking_and_distancing.annotation_40[i]=='FALSE':\n",
    "            false=false+1\n",
    "        elif df_nyt_topic_2_masking_and_distancing.annotation_40[i]=='TRUE':\n",
    "            true=true+1\n",
    "     \n",
    "    if(avg8_md>0.2):\n",
    "        if df_nyt_topic_2_masking_and_distancing.annotation_8[i]=='FALSE':\n",
    "            false=false+1\n",
    "        elif df_nyt_topic_2_masking_and_distancing.annotation_8[i]=='TRUE':\n",
    "            true=true+1\n",
    "    \n",
    "    if(avg42_md>0.2):\n",
    "        if df_nyt_topic_2_masking_and_distancing.annotation_42[i]=='FALSE':\n",
    "            false=false+1\n",
    "        elif df_nyt_topic_2_masking_and_distancing.annotation_42[i]=='TRUE':\n",
    "            true=true+1\n",
    "            \n",
    "    if(avg15_md>0.2):\n",
    "        if df_nyt_topic_2_masking_and_distancing.annotation_15[i]=='FALSE':\n",
    "            false=false+1\n",
    "        elif df_nyt_topic_2_masking_and_distancing.annotation_15[i]=='TRUE':\n",
    "            true=true+1\n",
    "    \n",
    "    if true >false:\n",
    "        df_nyt_topic_2_masking_and_distancing.final_label[i]=\"TRUE\"\n",
    "    elif true < false:\n",
    "        df_nyt_topic_2_masking_and_distancing.final_label[i]=\"FALSE\"\n",
    "    else:\n",
    "        df_nyt_topic_2_masking_and_distancing.final_label[i]=df_nyt_topic_2_masking_and_distancing.annotation_42[i]\n",
    "\n",
    "df_nyt_topic_2_masking_and_distancing=df_nyt_topic_2_masking_and_distancing.drop(columns=df_nyt_topic_2_masking_and_distancing.columns.values.tolist()[1:len(df_nyt_topic_2_masking_and_distancing.columns.values.tolist())-1])\n",
    "df_nyt_topic_2_masking_and_distancing.to_csv(\"nyt_topic_masking_and_distancing_final_2.csv\", mode='a', index=False)"
   ]
  },
  {
   "cell_type": "code",
   "execution_count": 1603,
   "id": "13cd2469",
   "metadata": {},
   "outputs": [],
   "source": [
    "# merging the vaccination files"
   ]
  },
  {
   "cell_type": "code",
   "execution_count": 1604,
   "id": "843d3881",
   "metadata": {},
   "outputs": [
    {
     "name": "stdout",
     "output_type": "stream",
     "text": [
      "                                                  text  final_label\n",
      "0    I’m so tired of the fear mongering. Every vari...         True\n",
      "1    We need a vaccine soonest.  Not sure why Russi...         True\n",
      "2        The lack of leadership on this is astonishing        False\n",
      "3    Alternative reality is really gaining traction...        False\n",
      "4    I would be much more likely to patronize a bus...         True\n",
      "..                                                 ...          ...\n",
      "808  I went out for lunch yesterday with a friend. ...        False\n",
      "809  Even a year and a half later, I don't understa...         True\n",
      "810  Let me get this straight. Vaccinated people ar...         True\n",
      "811  I have not suffered from a cold or the flu for...        False\n",
      "812  I cannot understand why people are still stand...        False\n",
      "\n",
      "[813 rows x 2 columns]\n"
     ]
    }
   ],
   "source": [
    "joined_files_vaccination= os.path.join(\"/Users/abhishekshastry\", \"nyt_topic_vaccination_final_*.csv\") # merging the files\n",
    "  \n",
    "joined_list_vaccination = glob.glob(joined_files_vaccination) # A list of all joined files is returned\n",
    "  \n",
    "dfC__vaccination= pd.concat(map(pd.read_csv, joined_list_vaccination), ignore_index=True) # Finally, the files are joined\n",
    "print(dfC__vaccination)\n",
    "\n",
    "dfC__vaccination.to_csv(\"nyt_topic_vaccination_final_primary_dataset.csv\", mode='a', index=False)"
   ]
  },
  {
   "cell_type": "code",
   "execution_count": 1605,
   "id": "9c8361b0",
   "metadata": {},
   "outputs": [
    {
     "name": "stdout",
     "output_type": "stream",
     "text": [
      "                                                  text  final_label\n",
      "0    To all those who gloat “elections have consequ...        False\n",
      "1    Corporations and health privacy in the US? How...        False\n",
      "2                                    No. Done with it.        False\n",
      "3    I have not eaten outside my house since March....         True\n",
      "4    More people die each day in US from the virus ...        False\n",
      "..                                                 ...          ...\n",
      "808  The longer we drag this on, the more likely we...        False\n",
      "809  Interesting that CEOs are worried about the pr...        False\n",
      "810  I'm rapidly arriving at the opinion that we ne...         True\n",
      "811  The world we live in is different  and riskier...        False\n",
      "812  Get a vaccine or get a pink slip.  \\nThere is ...        False\n",
      "\n",
      "[813 rows x 2 columns]\n"
     ]
    }
   ],
   "source": [
    "joined_files_lockdowns = os.path.join(\"/Users/abhishekshastry\", \"nyt_topic_lockdowns_final_*.csv\") # merging the files\n",
    "  \n",
    "joined_list_lockdowns = glob.glob(joined_files_lockdowns) # A list of all joined files is returned\n",
    "  \n",
    "dfC_lockdowns = pd.concat(map(pd.read_csv, joined_list_lockdowns), ignore_index=True) # Finally, the files are joined\n",
    "print(dfC_lockdowns)\n",
    "\n",
    "dfC_lockdowns.to_csv(\"nyt_topic_lockdowns_final_primary_dataset.csv\", mode='a', index=False)"
   ]
  },
  {
   "cell_type": "code",
   "execution_count": 1606,
   "id": "a2fe4c57",
   "metadata": {},
   "outputs": [
    {
     "name": "stdout",
     "output_type": "stream",
     "text": [
      "                                                  text  final_label\n",
      "0    What do you mean that the pandemic has stretch...        False\n",
      "1    I’m not sure if it qualifies as Big Brother wh...        False\n",
      "2    What if smallpox and polio came roaring back o...        False\n",
      "3    I'm continuing to wear a mask.  Even in bed, s...         True\n",
      "4    Although my husband and I really, really miss ...        False\n",
      "..                                                 ...          ...\n",
      "808  The longer we drag this on, the more likely we...         True\n",
      "809  Interesting that CEOs are worried about the pr...        False\n",
      "810  I'm rapidly arriving at the opinion that we ne...        False\n",
      "811  The world we live in is different  and riskier...        False\n",
      "812  Get a vaccine or get a pink slip.  \\nThere is ...        False\n",
      "\n",
      "[813 rows x 2 columns]\n"
     ]
    }
   ],
   "source": [
    "joined_files_masking_and_distancing = os.path.join(\"/Users/abhishekshastry\", \"nyt_topic_masking_and_distancing_final_*.csv\") # merging the files\n",
    "  \n",
    "joined_list_masking_and_distancing = glob.glob(joined_files_masking_and_distancing) # A list of all joined files is returned\n",
    "  \n",
    "dfC_masking_and_distancing = pd.concat(map(pd.read_csv, joined_list_masking_and_distancing), ignore_index=True) # Finally, the files are joined\n",
    "print(dfC_masking_and_distancing)\n",
    "\n",
    "dfC_masking_and_distancing.to_csv(\"nyt_topic_masking_and_distancing_final_primary_dataset.csv\", mode='a', index=False)"
   ]
  },
  {
   "cell_type": "code",
   "execution_count": null,
   "id": "00ed5f7c",
   "metadata": {},
   "outputs": [],
   "source": []
  }
 ],
 "metadata": {
  "kernelspec": {
   "display_name": "Python 3",
   "language": "python",
   "name": "python3"
  },
  "language_info": {
   "codemirror_mode": {
    "name": "ipython",
    "version": 3
   },
   "file_extension": ".py",
   "mimetype": "text/x-python",
   "name": "python",
   "nbconvert_exporter": "python",
   "pygments_lexer": "ipython3",
   "version": "3.8.8"
  }
 },
 "nbformat": 4,
 "nbformat_minor": 5
}
