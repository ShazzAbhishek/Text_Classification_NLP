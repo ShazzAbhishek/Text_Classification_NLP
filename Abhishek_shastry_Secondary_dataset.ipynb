{
 "cells": [
  {
   "cell_type": "code",
   "execution_count": 219,
   "id": "b4d7616e",
   "metadata": {},
   "outputs": [],
   "source": [
    "from sklearn.metrics import cohen_kappa_score\n",
    "k=cohen_kappa_score\n",
    "import pandas as pd\n",
    "import glob\n",
    "import os\n",
    "import csv"
   ]
  },
  {
   "cell_type": "markdown",
   "id": "815530e5",
   "metadata": {},
   "source": [
    "# This calculation is for topic_0_vaccination"
   ]
  },
  {
   "cell_type": "code",
   "execution_count": 220,
   "id": "81faea45",
   "metadata": {},
   "outputs": [],
   "source": [
    "df_topic_0_vaccination=pd.read_csv(\"/Users/abhishekshastry/Documents/Illinois_tech/Subjects/Fall-2021/NLP/Assignments/Assignment2/change-2/change.org_topic_0_vaccination.csv\")"
   ]
  },
  {
   "cell_type": "code",
   "execution_count": 221,
   "id": "e1f11a95",
   "metadata": {},
   "outputs": [],
   "source": [
    "df_topic_0_vaccination[\"final_label\"]=\"\"\n",
    "\n",
    "df_topic_0_vaccination['annotation_96'].fillna('missing', inplace=True) \n",
    "df_topic_0_vaccination['annotation_53'].fillna('missing', inplace=True)\n",
    "df_topic_0_vaccination['annotation_93'].fillna('missing', inplace=True)\n",
    "df_topic_0_vaccination['annotation_94'].fillna('missing', inplace=True)\n",
    "df_topic_0_vaccination['annotation_95'].fillna('missing', inplace=True)"
   ]
  },
  {
   "cell_type": "code",
   "execution_count": 222,
   "id": "f8cf72b8",
   "metadata": {},
   "outputs": [
    {
     "name": "stdout",
     "output_type": "stream",
     "text": [
      "-0.005867560771165126\n",
      "0.32011331444759217\n",
      "0.18864097363083154\n",
      "-0.014198782961460488\n",
      "\n",
      "Average Kappa score for annotation_96 is  0.12217198608644952\n",
      "\n",
      "\n"
     ]
    }
   ],
   "source": [
    "#Calulating kapa scores for annotation_96\n",
    "w_annot_96=k(df_topic_0_vaccination.annotation_96,df_topic_0_vaccination.annotation_53) \n",
    "print (w_annot_96)\n",
    "x_annot_96=k(df_topic_0_vaccination.annotation_96,df_topic_0_vaccination.annotation_93)\n",
    "print (x_annot_96)\n",
    "y_annot_96=k(df_topic_0_vaccination.annotation_96,df_topic_0_vaccination.annotation_94)\n",
    "print (y_annot_96)\n",
    "z_annot_96=k(df_topic_0_vaccination.annotation_96,df_topic_0_vaccination.annotation_95)\n",
    "print(z_annot_96)\n",
    "avg96=(w_annot_96+x_annot_96+y_annot_96+z_annot_96)/4\n",
    "print('\\nAverage Kappa score for annotation_96 is ', avg96)\n",
    "print('\\n')"
   ]
  },
  {
   "cell_type": "code",
   "execution_count": 223,
   "id": "edf21931",
   "metadata": {},
   "outputs": [
    {
     "name": "stdout",
     "output_type": "stream",
     "text": [
      "-0.005867560771165126\n",
      "-0.005586592178770999\n",
      "-0.005025125628140614\n",
      "-0.005025125628140614\n",
      "\n",
      "Average Kappa score for annotation_53 is  -0.005376101051554338\n",
      "\n",
      "\n"
     ]
    }
   ],
   "source": [
    "#Calulating kapa scores for annotation_53\n",
    "w_annot_53=k(df_topic_0_vaccination.annotation_53,df_topic_0_vaccination.annotation_96) \n",
    "print (w_annot_53)\n",
    "x_annot_53=k(df_topic_0_vaccination.annotation_53,df_topic_0_vaccination.annotation_93)\n",
    "print (x_annot_53)\n",
    "y_annot_53=k(df_topic_0_vaccination.annotation_53,df_topic_0_vaccination.annotation_94)\n",
    "print (y_annot_53)\n",
    "z_annot_53=k(df_topic_0_vaccination.annotation_53,df_topic_0_vaccination.annotation_95)\n",
    "print(z_annot_53)\n",
    "avg53=(w_annot_53+x_annot_53+y_annot_53+z_annot_53)/4\n",
    "print('\\nAverage Kappa score for annotation_53 is ', avg53)\n",
    "print('\\n')"
   ]
  },
  {
   "cell_type": "code",
   "execution_count": 224,
   "id": "d8616570",
   "metadata": {},
   "outputs": [
    {
     "name": "stdout",
     "output_type": "stream",
     "text": [
      "0.32011331444759217\n",
      "-0.005586592178770999\n",
      "0.49367088607594944\n",
      "0.2405063291139241\n",
      "\n",
      "Average Kappa score for annotation_93 is  0.2621759843646737\n",
      "\n",
      "\n"
     ]
    }
   ],
   "source": [
    "#Calulating kapa scores for annotation_93\n",
    "w_annot_93=k(df_topic_0_vaccination.annotation_93,df_topic_0_vaccination.annotation_96) \n",
    "print (w_annot_93)\n",
    "x_annot_93=k(df_topic_0_vaccination.annotation_93,df_topic_0_vaccination.annotation_53)\n",
    "print (x_annot_93)\n",
    "y_annot_93=k(df_topic_0_vaccination.annotation_93,df_topic_0_vaccination.annotation_94)\n",
    "print (y_annot_93)\n",
    "z_annot_93=k(df_topic_0_vaccination.annotation_93,df_topic_0_vaccination.annotation_95)\n",
    "print(z_annot_93)\n",
    "avg93=(w_annot_93+x_annot_93+y_annot_93+z_annot_93)/4\n",
    "print('\\nAverage Kappa score for annotation_93 is ', avg93)\n",
    "print('\\n')"
   ]
  },
  {
   "cell_type": "code",
   "execution_count": 225,
   "id": "82e0de65",
   "metadata": {},
   "outputs": [
    {
     "name": "stdout",
     "output_type": "stream",
     "text": [
      "0.18864097363083154\n",
      "-0.005025125628140614\n",
      "0.49367088607594944\n",
      "0.32659932659932667\n",
      "\n",
      "Average Kappa score for annotation_94 is  0.2509715151694918\n",
      "\n",
      "\n"
     ]
    }
   ],
   "source": [
    "#Calulating kapa scores for annotation_94\n",
    "w_annot_94=k(df_topic_0_vaccination.annotation_94,df_topic_0_vaccination.annotation_96) \n",
    "print (w_annot_94)\n",
    "x_annot_94=k(df_topic_0_vaccination.annotation_94,df_topic_0_vaccination.annotation_53)\n",
    "print (x_annot_94)\n",
    "y_annot_94=k(df_topic_0_vaccination.annotation_94,df_topic_0_vaccination.annotation_93)\n",
    "print (y_annot_94)\n",
    "z_annot_94=k(df_topic_0_vaccination.annotation_94,df_topic_0_vaccination.annotation_95)\n",
    "print(z_annot_94)\n",
    "avg94=(w_annot_94+x_annot_94+y_annot_94+z_annot_94)/4\n",
    "print('\\nAverage Kappa score for annotation_94 is ', avg94)\n",
    "print('\\n')"
   ]
  },
  {
   "cell_type": "code",
   "execution_count": 226,
   "id": "fed47e12",
   "metadata": {},
   "outputs": [
    {
     "name": "stdout",
     "output_type": "stream",
     "text": [
      "-0.014198782961460488\n",
      "-0.005025125628140614\n",
      "0.2405063291139241\n",
      "0.32659932659932667\n",
      "\n",
      "Average Kappa score for annotation_95 is  0.13697043678091242\n",
      "\n",
      "\n"
     ]
    }
   ],
   "source": [
    "#Calulating kapa scores for annotation_95\n",
    "w_annot_95=k(df_topic_0_vaccination.annotation_95,df_topic_0_vaccination.annotation_96) \n",
    "print (w_annot_95)\n",
    "x_annot_95=k(df_topic_0_vaccination.annotation_95,df_topic_0_vaccination.annotation_53)\n",
    "print (x_annot_95)\n",
    "y_annot_95=k(df_topic_0_vaccination.annotation_95,df_topic_0_vaccination.annotation_93)\n",
    "print (y_annot_95)\n",
    "z_annot_95=k(df_topic_0_vaccination.annotation_95,df_topic_0_vaccination.annotation_94)\n",
    "print(z_annot_95)\n",
    "avg95=(w_annot_95+x_annot_95+y_annot_95+z_annot_95)/4\n",
    "print('\\nAverage Kappa score for annotation_95 is ', avg95)\n",
    "print('\\n')"
   ]
  },
  {
   "cell_type": "code",
   "execution_count": 227,
   "id": "dfb6c403",
   "metadata": {},
   "outputs": [],
   "source": [
    "#Checking if the avaerage kappa value is less than 0.2\n",
    "if(avg96<0.2):\n",
    "    df_topic_0_vaccination=df_topic_0_vaccination.drop(columns=[\"annotation_96\"])\n",
    "if(avg53<0.2):\n",
    "    df_topic_0_vaccination=df_topic_0_vaccination.drop(columns=[\"annotation_53\"])  \n",
    "if(avg93<0.2):\n",
    "    df_topic_0_vaccination=df_topic_0_vaccination.drop(columns=[\"annotation_93\"])\n",
    "if(avg94<0.2):\n",
    "    df_topic_0_vaccination=df_topic_0_vaccination.drop(columns=[\"annotation_94\"])  \n",
    "if(avg95<0.2):\n",
    "    df_topic_0_vaccination=df_topic_0_vaccination.drop(columns=[\"annotation_95\"])   "
   ]
  },
  {
   "cell_type": "code",
   "execution_count": 228,
   "id": "d170ed73",
   "metadata": {},
   "outputs": [
    {
     "name": "stderr",
     "output_type": "stream",
     "text": [
      "<ipython-input-228-81c97c215410>:43: SettingWithCopyWarning: \n",
      "A value is trying to be set on a copy of a slice from a DataFrame\n",
      "\n",
      "See the caveats in the documentation: https://pandas.pydata.org/pandas-docs/stable/user_guide/indexing.html#returning-a-view-versus-a-copy\n",
      "  df_topic_0_vaccination.final_label[i]=df_topic_0_vaccination.annotation_93[i]#in case of ties\n"
     ]
    }
   ],
   "source": [
    "#Checking the condition to label with highest occuring frequency!!!\n",
    "for i in df_topic_0_vaccination.index:\n",
    "    \n",
    "    true=0\n",
    "    false=0\n",
    "    \n",
    "    \n",
    "    if(avg96>0.2):\n",
    "        if df_topic_0_vaccination.annotation_96[i]=='FALSE':\n",
    "            false=false+1\n",
    "        elif df_topic_0_vaccination.annotation_96[i]=='TRUE':\n",
    "            true=true+1\n",
    "        \n",
    "    if(avg53>0.2):  \n",
    "        if df_topic_0_vaccination.annotation_53[i]=='FALSE':\n",
    "            false=false+1\n",
    "        elif df_topic_0_vaccination.annotation_53[i]=='TRUE':\n",
    "            true=true+1\n",
    "        \n",
    "    if(avg93>0.2):    \n",
    "        if df_topic_0_vaccination.annotation_93[i]=='FALSE':\n",
    "            false=false+1\n",
    "        elif df_topic_0_vaccination.annotation_93[i]=='TRUE':\n",
    "            true=true+1\n",
    "        \n",
    "    if(avg94>0.2):\n",
    "        if df_topic_0_vaccination.annotation_94[i]=='FALSE':\n",
    "            false=false+1\n",
    "        elif df_topic_0_vaccination.annotation_94[i]=='TRUE':\n",
    "            true=true+1\n",
    "        \n",
    "    if(avg95>0.2):   \n",
    "        if df_topic_0_vaccination.annotation_95[i]=='FALSE':\n",
    "            false=false+1\n",
    "        elif df_topic_0_vaccination.annotation_95[i]=='TRUE':\n",
    "            true=true+1\n",
    "    \n",
    "    if true >false:\n",
    "        df_topic_0_vaccination.final_label[i]=\"TRUE\"\n",
    "    elif true < false:\n",
    "        df_topic_0_vaccination.final_label[i]=\"FALSE\"\n",
    "    else:\n",
    "        df_topic_0_vaccination.final_label[i]=df_topic_0_vaccination.annotation_93[i]#in case of ties\n",
    "\n",
    "df_topic_0_vaccination=df_topic_0_vaccination.drop(columns=df_topic_0_vaccination.columns.values.tolist()[1:len(df_topic_0_vaccination.columns.values.tolist())-1])\n",
    "df_topic_0_vaccination.to_csv(\"change_org_topic_vaccination_final_0.csv\", mode='a', index=False)"
   ]
  },
  {
   "cell_type": "markdown",
   "id": "dd0d8fe2",
   "metadata": {},
   "source": [
    "# This calculation is for topic_0_lockdowns"
   ]
  },
  {
   "cell_type": "code",
   "execution_count": 229,
   "id": "98b4723b",
   "metadata": {},
   "outputs": [],
   "source": [
    "df_topic_0_lockdowns=pd.read_csv(\"/Users/abhishekshastry/Documents/Illinois_tech/Subjects/Fall-2021/NLP/Assignments/Assignment2/change-2/change.org_topic_0_lockdowns.csv\")"
   ]
  },
  {
   "cell_type": "code",
   "execution_count": 230,
   "id": "3a61a489",
   "metadata": {},
   "outputs": [],
   "source": [
    "df_topic_0_lockdowns[\"final_label\"]=\"\"\n",
    "\n",
    "df_topic_0_lockdowns['annotation_96'].fillna('missing', inplace=True) \n",
    "df_topic_0_lockdowns['annotation_53'].fillna('missing', inplace=True)\n",
    "df_topic_0_lockdowns['annotation_93'].fillna('missing', inplace=True)\n",
    "df_topic_0_lockdowns['annotation_94'].fillna('missing', inplace=True)\n",
    "df_topic_0_lockdowns['annotation_95'].fillna('missing', inplace=True)"
   ]
  },
  {
   "cell_type": "code",
   "execution_count": 231,
   "id": "02c016ed",
   "metadata": {},
   "outputs": [
    {
     "name": "stdout",
     "output_type": "stream",
     "text": [
      "0.07163323782234965\n",
      "0.4598199399799934\n",
      "0.48709002093510123\n",
      "0.4885703215807826\n",
      "\n",
      "Average Kappa score for annotation_96 is  0.3767783800795567\n",
      "\n",
      "\n"
     ]
    }
   ],
   "source": [
    "#Calulating kapa scores for annotation_96\n",
    "w_ld_annot_96=k(df_topic_0_lockdowns.annotation_96,df_topic_0_lockdowns.annotation_53) \n",
    "print (w_ld_annot_96)\n",
    "x_ld_annot_96=k(df_topic_0_lockdowns.annotation_96,df_topic_0_lockdowns.annotation_93)\n",
    "print (x_ld_annot_96)\n",
    "y_ld_annot_96=k(df_topic_0_lockdowns.annotation_96,df_topic_0_lockdowns.annotation_94)\n",
    "print (y_ld_annot_96)\n",
    "z_ld_annot_96=k(df_topic_0_lockdowns.annotation_96,df_topic_0_lockdowns.annotation_95)\n",
    "print(z_ld_annot_96)\n",
    "avg_ld_96=(w_ld_annot_96+x_ld_annot_96+y_ld_annot_96+z_ld_annot_96)/4\n",
    "print('\\nAverage Kappa score for annotation_96 is ', avg_ld_96)\n",
    "print('\\n')"
   ]
  },
  {
   "cell_type": "code",
   "execution_count": 232,
   "id": "bf94cd56",
   "metadata": {},
   "outputs": [
    {
     "name": "stdout",
     "output_type": "stream",
     "text": [
      "0.07163323782234965\n",
      "-0.03214124038026256\n",
      "0.02791625124626107\n",
      "0.08338637810311889\n",
      "\n",
      "Average Kappa score for annotation_53 is  0.03769865669786676\n",
      "\n",
      "\n"
     ]
    }
   ],
   "source": [
    "#Calulating kapa scores for annotation_53\n",
    "w_ld_annot_53=k(df_topic_0_lockdowns.annotation_53,df_topic_0_lockdowns.annotation_96) \n",
    "print (w_ld_annot_53)\n",
    "x_ld_annot_53=k(df_topic_0_lockdowns.annotation_53,df_topic_0_lockdowns.annotation_93)\n",
    "print (x_ld_annot_53)\n",
    "y_ld_annot_53=k(df_topic_0_lockdowns.annotation_53,df_topic_0_lockdowns.annotation_94)\n",
    "print (y_ld_annot_53)\n",
    "z_ld_annot_53=k(df_topic_0_lockdowns.annotation_53,df_topic_0_lockdowns.annotation_95)\n",
    "print(z_ld_annot_53)\n",
    "avg_ld_53=(w_ld_annot_53+x_ld_annot_53+y_ld_annot_53+z_ld_annot_53)/4\n",
    "print('\\nAverage Kappa score for annotation_53 is ', avg_ld_53)\n",
    "print('\\n')"
   ]
  },
  {
   "cell_type": "code",
   "execution_count": 233,
   "id": "5a52b053",
   "metadata": {},
   "outputs": [
    {
     "name": "stdout",
     "output_type": "stream",
     "text": [
      "0.4598199399799934\n",
      "-0.03214124038026256\n",
      "0.5129249968165033\n",
      "0.44218717719165346\n",
      "\n",
      "Average Kappa score for annotation_93 is  0.3456977184019719\n",
      "\n",
      "\n"
     ]
    }
   ],
   "source": [
    "#Calulating kapa scores for annotation_93\n",
    "w_ld_annot_93=k(df_topic_0_lockdowns.annotation_93,df_topic_0_lockdowns.annotation_96) \n",
    "print (w_ld_annot_93)\n",
    "x_ld_annot_93=k(df_topic_0_lockdowns.annotation_93,df_topic_0_lockdowns.annotation_53)\n",
    "print (x_ld_annot_93)\n",
    "y_ld_annot_93=k(df_topic_0_lockdowns.annotation_93,df_topic_0_lockdowns.annotation_94)\n",
    "print (y_ld_annot_93)\n",
    "z_ld_annot_93=k(df_topic_0_lockdowns.annotation_93,df_topic_0_lockdowns.annotation_95)\n",
    "print(z_ld_annot_93)\n",
    "avg_ld_93=(w_ld_annot_93+x_ld_annot_93+y_ld_annot_93+z_ld_annot_93)/4\n",
    "print('\\nAverage Kappa score for annotation_93 is ', avg_ld_93)\n",
    "print('\\n')"
   ]
  },
  {
   "cell_type": "code",
   "execution_count": 234,
   "id": "457d4e3b",
   "metadata": {},
   "outputs": [
    {
     "name": "stdout",
     "output_type": "stream",
     "text": [
      "0.48709002093510123\n",
      "0.02791625124626107\n",
      "0.5129249968165033\n",
      "0.6851020703633994\n",
      "\n",
      "Average Kappa score for annotation_94 is  0.4282583348403162\n",
      "\n",
      "\n"
     ]
    }
   ],
   "source": [
    "#Calulating kapa scores for annotation_94\n",
    "w_ld_annot_94=k(df_topic_0_lockdowns.annotation_94,df_topic_0_lockdowns.annotation_96) \n",
    "print (w_ld_annot_94)\n",
    "x_ld_annot_94=k(df_topic_0_lockdowns.annotation_94,df_topic_0_lockdowns.annotation_53)\n",
    "print (x_ld_annot_94)\n",
    "y_ld_annot_94=k(df_topic_0_lockdowns.annotation_94,df_topic_0_lockdowns.annotation_93)\n",
    "print (y_ld_annot_94)\n",
    "z_ld_annot_94=k(df_topic_0_lockdowns.annotation_94,df_topic_0_lockdowns.annotation_95)\n",
    "print(z_ld_annot_94)\n",
    "avg_ld_94=(w_ld_annot_94+x_ld_annot_94+y_ld_annot_94+z_ld_annot_94)/4\n",
    "print('\\nAverage Kappa score for annotation_94 is ', avg_ld_94)\n",
    "print('\\n')"
   ]
  },
  {
   "cell_type": "code",
   "execution_count": 235,
   "id": "45006e00",
   "metadata": {},
   "outputs": [
    {
     "name": "stdout",
     "output_type": "stream",
     "text": [
      "0.4885703215807826\n",
      "0.08338637810311889\n",
      "0.44218717719165346\n",
      "0.6851020703633994\n",
      "\n",
      "Average Kappa score for annotation_95 is  0.4248114868097386\n",
      "\n",
      "\n"
     ]
    }
   ],
   "source": [
    "#Calulating kapa scores for annotation_95\n",
    "w_ld_annot_95=k(df_topic_0_lockdowns.annotation_95,df_topic_0_lockdowns.annotation_96) \n",
    "print (w_ld_annot_95)\n",
    "x_ld_annot_95=k(df_topic_0_lockdowns.annotation_95,df_topic_0_lockdowns.annotation_53)\n",
    "print (x_ld_annot_95)\n",
    "y_ld_annot_95=k(df_topic_0_lockdowns.annotation_95,df_topic_0_lockdowns.annotation_93)\n",
    "print (y_ld_annot_95)\n",
    "z_ld_annot_95=k(df_topic_0_lockdowns.annotation_95,df_topic_0_lockdowns.annotation_94)\n",
    "print(z_ld_annot_95)\n",
    "avg_ld_95=(w_ld_annot_95+x_ld_annot_95+y_ld_annot_95+z_ld_annot_95)/4\n",
    "print('\\nAverage Kappa score for annotation_95 is ', avg_ld_95)\n",
    "print('\\n')"
   ]
  },
  {
   "cell_type": "code",
   "execution_count": 236,
   "id": "9bb15469",
   "metadata": {},
   "outputs": [],
   "source": [
    "#Checking if the avaerage kappa value is less than 0.2\n",
    "if(avg_ld_96<0.2):\n",
    "    df_topic_0_lockdowns=df_topic_0_lockdowns.drop(columns=[\"annotation_96\"])\n",
    "if(avg_ld_53<0.2):\n",
    "    df_topic_0_lockdowns=df_topic_0_lockdowns.drop(columns=[\"annotation_53\"])  \n",
    "if(avg_ld_93<0.2):\n",
    "    df_topic_0_lockdowns=df_topic_0_lockdowns.drop(columns=[\"annotation_93\"])\n",
    "if(avg_ld_94<0.2):\n",
    "    df_topic_0_lockdowns=df_topic_0_lockdowns.drop(columns=[\"annotation_94\"])  \n",
    "if(avg_ld_95<0.2):\n",
    "    df_topic_0_lockdowns=df_topic_0_lockdowns.drop(columns=[\"annotation_95\"])   "
   ]
  },
  {
   "cell_type": "code",
   "execution_count": 237,
   "id": "4d8a8365",
   "metadata": {},
   "outputs": [
    {
     "name": "stderr",
     "output_type": "stream",
     "text": [
      "<ipython-input-237-da02f5b5f263>:43: SettingWithCopyWarning: \n",
      "A value is trying to be set on a copy of a slice from a DataFrame\n",
      "\n",
      "See the caveats in the documentation: https://pandas.pydata.org/pandas-docs/stable/user_guide/indexing.html#returning-a-view-versus-a-copy\n",
      "  df_topic_0_lockdowns.final_label[i]=df_topic_0_lockdowns.annotation_94[i]#in case of ties\n"
     ]
    }
   ],
   "source": [
    "#Checking the condition to label with highest occuring frequency!!!\n",
    "for i in df_topic_0_lockdowns.index:\n",
    "    \n",
    "    true=0\n",
    "    false=0\n",
    "    \n",
    "    \n",
    "    if(avg_ld_96>0.2):\n",
    "        if df_topic_0_lockdowns.annotation_96[i]=='FALSE':\n",
    "            false=false+1\n",
    "        elif df_topic_0_lockdowns.annotation_96[i]=='TRUE':\n",
    "            true=true+1\n",
    "        \n",
    "    if(avg_ld_53>0.2):  \n",
    "        if df_topic_0_lockdowns.annotation_53[i]=='FALSE':\n",
    "            false=false+1\n",
    "        elif df_topic_0_lockdowns.annotation_53[i]=='TRUE':\n",
    "            true=true+1\n",
    "        \n",
    "    if(avg_ld_93>0.2):    \n",
    "        if df_topic_0_lockdowns.annotation_93[i]=='FALSE':\n",
    "            false=false+1\n",
    "        elif df_topic_0_lockdowns.annotation_93[i]=='TRUE':\n",
    "            true=true+1\n",
    "        \n",
    "    if(avg_ld_94>0.2):\n",
    "        if df_topic_0_lockdowns.annotation_94[i]=='FALSE':\n",
    "            false=false+1\n",
    "        elif df_topic_0_lockdowns.annotation_94[i]=='TRUE':\n",
    "            true=true+1\n",
    "        \n",
    "    if(avg_ld_95>0.2):   \n",
    "        if df_topic_0_lockdowns.annotation_95[i]=='FALSE':\n",
    "            false=false+1\n",
    "        elif df_topic_0_lockdowns.annotation_95[i]=='TRUE':\n",
    "            true=true+1\n",
    "    \n",
    "    if true >false:\n",
    "        df_topic_0_lockdowns.final_label[i]=\"TRUE\"\n",
    "    elif true < false:\n",
    "        df_topic_0_lockdowns.final_label[i]=\"FALSE\"\n",
    "    else:\n",
    "        df_topic_0_lockdowns.final_label[i]=df_topic_0_lockdowns.annotation_94[i]#in case of ties\n",
    "\n",
    "df_topic_0_lockdowns=df_topic_0_lockdowns.drop(columns=df_topic_0_lockdowns.columns.values.tolist()[1:len(df_topic_0_lockdowns.columns.values.tolist())-1])\n",
    "df_topic_0_lockdowns.to_csv(\"change_org_topic_lockdowns_final_0.csv\", mode='a', index=False)"
   ]
  },
  {
   "cell_type": "markdown",
   "id": "3f752a35",
   "metadata": {},
   "source": [
    "# This calculation is for topic_0_masking_and_distancing"
   ]
  },
  {
   "cell_type": "code",
   "execution_count": 238,
   "id": "5aa03281",
   "metadata": {},
   "outputs": [],
   "source": [
    "df_topic_0_masking_and_distancing=pd.read_csv(\"/Users/abhishekshastry/Documents/Illinois_tech/Subjects/Fall-2021/NLP/Assignments/Assignment2/change-2/change.org_topic_0_masking_and_distancing.csv\")"
   ]
  },
  {
   "cell_type": "code",
   "execution_count": 239,
   "id": "fb6c0235",
   "metadata": {},
   "outputs": [],
   "source": [
    "df_topic_0_masking_and_distancing[\"final_label\"]=\"\"\n",
    "\n",
    "df_topic_0_masking_and_distancing['annotation_96'].fillna('missing', inplace=True) \n",
    "df_topic_0_masking_and_distancing['annotation_53'].fillna('missing', inplace=True)\n",
    "df_topic_0_masking_and_distancing['annotation_93'].fillna('missing', inplace=True)\n",
    "df_topic_0_masking_and_distancing['annotation_94'].fillna('missing', inplace=True)\n",
    "df_topic_0_masking_and_distancing['annotation_95'].fillna('missing', inplace=True)"
   ]
  },
  {
   "cell_type": "code",
   "execution_count": 240,
   "id": "ec83ce18",
   "metadata": {},
   "outputs": [
    {
     "name": "stdout",
     "output_type": "stream",
     "text": [
      "-0.005961251862891093\n",
      "0.1149475524475525\n",
      "0.21052631578947367\n",
      "0.48630136986301375\n",
      "\n",
      "Average Kappa score for annotation_96 is  0.2014534965592872\n",
      "\n",
      "\n"
     ]
    }
   ],
   "source": [
    "#Calulating kapa scores for annotation_96\n",
    "w_md_annot_96=k(df_topic_0_masking_and_distancing.annotation_96,df_topic_0_masking_and_distancing.annotation_53) \n",
    "print (w_md_annot_96)\n",
    "x_md_annot_96=k(df_topic_0_masking_and_distancing.annotation_96,df_topic_0_masking_and_distancing.annotation_93)\n",
    "print (x_md_annot_96)\n",
    "y_md_annot_96=k(df_topic_0_masking_and_distancing.annotation_96,df_topic_0_masking_and_distancing.annotation_94)\n",
    "print (y_md_annot_96)\n",
    "z_md_annot_96=k(df_topic_0_masking_and_distancing.annotation_96,df_topic_0_masking_and_distancing.annotation_95)\n",
    "print(z_md_annot_96)\n",
    "avg_md_96=(w_md_annot_96+x_md_annot_96+y_md_annot_96+z_md_annot_96)/4\n",
    "print('\\nAverage Kappa score for annotation_96 is ', avg_md_96)\n",
    "print('\\n')"
   ]
  },
  {
   "cell_type": "code",
   "execution_count": 241,
   "id": "d0e424e2",
   "metadata": {},
   "outputs": [
    {
     "name": "stdout",
     "output_type": "stream",
     "text": [
      "-0.005961251862891093\n",
      "-0.006592889098187005\n",
      "-0.006451612903225712\n",
      "-0.005961251862891093\n",
      "\n",
      "Average Kappa score for annotation_53 is  -0.0062417514317987255\n",
      "\n",
      "\n"
     ]
    }
   ],
   "source": [
    "#Calulating kapa scores for annotation_53\n",
    "w_md_annot_53=k(df_topic_0_masking_and_distancing.annotation_53,df_topic_0_masking_and_distancing.annotation_96) \n",
    "print (w_md_annot_53)\n",
    "x_md_annot_53=k(df_topic_0_masking_and_distancing.annotation_53,df_topic_0_masking_and_distancing.annotation_93)\n",
    "print (x_md_annot_53)\n",
    "y_md_annot_53=k(df_topic_0_masking_and_distancing.annotation_53,df_topic_0_masking_and_distancing.annotation_94)\n",
    "print (y_md_annot_53)\n",
    "z_md_annot_53=k(df_topic_0_masking_and_distancing.annotation_53,df_topic_0_masking_and_distancing.annotation_95)\n",
    "print(z_md_annot_53)\n",
    "avg_md_53=(w_md_annot_53+x_md_annot_53+y_md_annot_53+z_md_annot_53)/4\n",
    "print('\\nAverage Kappa score for annotation_53 is ', avg_md_53)\n",
    "print('\\n')"
   ]
  },
  {
   "cell_type": "code",
   "execution_count": 242,
   "id": "c56779c1",
   "metadata": {},
   "outputs": [
    {
     "name": "stdout",
     "output_type": "stream",
     "text": [
      "0.1149475524475525\n",
      "-0.006592889098187005\n",
      "0.2325581395348838\n",
      "0.21328671328671334\n",
      "\n",
      "Average Kappa score for annotation_53 is  0.13854987904274066\n",
      "\n",
      "\n"
     ]
    }
   ],
   "source": [
    "#Calulating kapa scores for annotation_93\n",
    "w_md_annot_93=k(df_topic_0_masking_and_distancing.annotation_93,df_topic_0_masking_and_distancing.annotation_96) \n",
    "print (w_md_annot_93)\n",
    "x_md_annot_93=k(df_topic_0_masking_and_distancing.annotation_93,df_topic_0_masking_and_distancing.annotation_53)\n",
    "print (x_md_annot_93)\n",
    "y_md_annot_93=k(df_topic_0_masking_and_distancing.annotation_93,df_topic_0_masking_and_distancing.annotation_94)\n",
    "print (y_md_annot_93)\n",
    "z_md_annot_93=k(df_topic_0_masking_and_distancing.annotation_93,df_topic_0_masking_and_distancing.annotation_95)\n",
    "print(z_md_annot_93)\n",
    "avg_md_93=(w_md_annot_93+x_md_annot_93+y_md_annot_93+z_md_annot_93)/4\n",
    "print('\\nAverage Kappa score for annotation_53 is ', avg_md_93)\n",
    "print('\\n')"
   ]
  },
  {
   "cell_type": "code",
   "execution_count": 243,
   "id": "2dd95bef",
   "metadata": {},
   "outputs": [
    {
     "name": "stdout",
     "output_type": "stream",
     "text": [
      "0.21052631578947367\n",
      "-0.006451612903225712\n",
      "0.2325581395348838\n",
      "0.33684210526315783\n",
      "\n",
      "Average Kappa score for annotation_53 is  0.1933687369210724\n",
      "\n",
      "\n"
     ]
    }
   ],
   "source": [
    "#Calulating kapa scores for annotation_94\n",
    "w_md_annot_94=k(df_topic_0_masking_and_distancing.annotation_94,df_topic_0_masking_and_distancing.annotation_96) \n",
    "print (w_md_annot_94)\n",
    "x_md_annot_94=k(df_topic_0_masking_and_distancing.annotation_94,df_topic_0_masking_and_distancing.annotation_53)\n",
    "print (x_md_annot_94)\n",
    "y_md_annot_94=k(df_topic_0_masking_and_distancing.annotation_94,df_topic_0_masking_and_distancing.annotation_93)\n",
    "print (y_md_annot_94)\n",
    "z_md_annot_94=k(df_topic_0_masking_and_distancing.annotation_94,df_topic_0_masking_and_distancing.annotation_95)\n",
    "print(z_md_annot_94)\n",
    "avg_md_94=(w_md_annot_94+x_md_annot_94+y_md_annot_94+z_md_annot_94)/4\n",
    "print('\\nAverage Kappa score for annotation_53 is ', avg_md_94)\n",
    "print('\\n')"
   ]
  },
  {
   "cell_type": "code",
   "execution_count": 244,
   "id": "4682e234",
   "metadata": {},
   "outputs": [
    {
     "name": "stdout",
     "output_type": "stream",
     "text": [
      "0.48630136986301375\n",
      "-0.005961251862891093\n",
      "0.21328671328671334\n",
      "0.33684210526315783\n",
      "\n",
      "Average Kappa score for annotation_95 is  0.2576172341374985\n",
      "\n",
      "\n"
     ]
    }
   ],
   "source": [
    "#Calulating kapa scores for annotation_95\n",
    "w_md_annot_95=k(df_topic_0_masking_and_distancing.annotation_95,df_topic_0_masking_and_distancing.annotation_96) \n",
    "print (w_md_annot_95)\n",
    "x_md_annot_95=k(df_topic_0_masking_and_distancing.annotation_95,df_topic_0_masking_and_distancing.annotation_53)\n",
    "print (x_md_annot_95)\n",
    "y_md_annot_95=k(df_topic_0_masking_and_distancing.annotation_95,df_topic_0_masking_and_distancing.annotation_93)\n",
    "print (y_md_annot_95)\n",
    "z_md_annot_95=k(df_topic_0_masking_and_distancing.annotation_95,df_topic_0_masking_and_distancing.annotation_94)\n",
    "print(z_md_annot_95)\n",
    "avg_md_95=(w_md_annot_95+x_md_annot_95+y_md_annot_95+z_md_annot_95)/4\n",
    "print('\\nAverage Kappa score for annotation_95 is ', avg_md_95)\n",
    "print('\\n')"
   ]
  },
  {
   "cell_type": "code",
   "execution_count": 245,
   "id": "78a3dc54",
   "metadata": {},
   "outputs": [],
   "source": [
    "#Checking if the avaerage kappa value is less than 0.2\n",
    "if(avg_md_96<0.2):\n",
    "    df_topic_0_masking_and_distancing=df_topic_0_masking_and_distancing.drop(columns=[\"annotation_96\"])\n",
    "if(avg_md_53<0.2):\n",
    "    df_topic_0_masking_and_distancing=df_topic_0_masking_and_distancing.drop(columns=[\"annotation_53\"])  \n",
    "if(avg_md_93<0.2):\n",
    "    df_topic_0_masking_and_distancing=df_topic_0_masking_and_distancing.drop(columns=[\"annotation_93\"])\n",
    "if(avg_md_94<0.2):\n",
    "    df_topic_0_masking_and_distancing=df_topic_0_masking_and_distancing.drop(columns=[\"annotation_94\"])  \n",
    "if(avg_md_95<0.2):\n",
    "    df_topic_0_masking_and_distancing=df_topic_0_masking_and_distancing.drop(columns=[\"annotation_95\"])   "
   ]
  },
  {
   "cell_type": "code",
   "execution_count": 246,
   "id": "0174e90c",
   "metadata": {},
   "outputs": [
    {
     "name": "stderr",
     "output_type": "stream",
     "text": [
      "<ipython-input-246-840ee9f2823f>:43: SettingWithCopyWarning: \n",
      "A value is trying to be set on a copy of a slice from a DataFrame\n",
      "\n",
      "See the caveats in the documentation: https://pandas.pydata.org/pandas-docs/stable/user_guide/indexing.html#returning-a-view-versus-a-copy\n",
      "  df_topic_0_masking_and_distancing.final_label[i]=df_topic_0_masking_and_distancing.annotation_95[i]#in case of ties\n"
     ]
    }
   ],
   "source": [
    "#Checking the condition to label with highest occuring frequency!!!\n",
    "for i in df_topic_0_masking_and_distancing.index:\n",
    "    \n",
    "    true=0\n",
    "    false=0\n",
    "    \n",
    "    \n",
    "    if(avg_md_96>0.2):\n",
    "        if df_topic_0_masking_and_distancing.annotation_96[i]=='FALSE':\n",
    "            false=false+1\n",
    "        elif df_topic_0_masking_and_distancing.annotation_96[i]=='TRUE':\n",
    "            true=true+1\n",
    "        \n",
    "    if(avg_md_53>0.2):  \n",
    "        if df_topic_0_masking_and_distancing.annotation_53[i]=='FALSE':\n",
    "            false=false+1\n",
    "        elif df_topic_0_masking_and_distancing.annotation_53[i]=='TRUE':\n",
    "            true=true+1\n",
    "        \n",
    "    if(avg_md_93>0.2):    \n",
    "        if df_topic_0_masking_and_distancing.annotation_93[i]=='FALSE':\n",
    "            false=false+1\n",
    "        elif df_topic_0_masking_and_distancing.annotation_93[i]=='TRUE':\n",
    "            true=true+1\n",
    "        \n",
    "    if(avg_md_94>0.2):\n",
    "        if df_topic_0_masking_and_distancing.annotation_94[i]=='FALSE':\n",
    "            false=false+1\n",
    "        elif df_topic_0_masking_and_distancing.annotation_94[i]=='TRUE':\n",
    "            true=true+1\n",
    "        \n",
    "    if(avg_md_95>0.2):   \n",
    "        if df_topic_0_masking_and_distancing.annotation_95[i]=='FALSE':\n",
    "            false=false+1\n",
    "        elif df_topic_0_masking_and_distancing.annotation_95[i]=='TRUE':\n",
    "            true=true+1\n",
    "    \n",
    "    if true >false:\n",
    "        df_topic_0_masking_and_distancing.final_label[i]=\"TRUE\"\n",
    "    elif true < false:\n",
    "        df_topic_0_masking_and_distancing.final_label[i]=\"FALSE\"\n",
    "    else:\n",
    "        df_topic_0_masking_and_distancing.final_label[i]=df_topic_0_masking_and_distancing.annotation_95[i]#in case of ties\n",
    "\n",
    "df_topic_0_masking_and_distancing=df_topic_0_masking_and_distancing.drop(columns=df_topic_0_masking_and_distancing.columns.values.tolist()[1:len(df_topic_0_masking_and_distancing.columns.values.tolist())-1])\n",
    "df_topic_0_masking_and_distancing.to_csv(\"change_org_topic_masking_and_distancing_final_0.csv\", mode='a', index=False)"
   ]
  },
  {
   "cell_type": "markdown",
   "id": "6df69a49",
   "metadata": {},
   "source": [
    "# This calculation is for topic_1_vaccination"
   ]
  },
  {
   "cell_type": "code",
   "execution_count": 247,
   "id": "bc99a44d",
   "metadata": {},
   "outputs": [],
   "source": [
    "df_topic_1_vaccination=pd.read_csv(\"/Users/abhishekshastry/Documents/Illinois_tech/Subjects/Fall-2021/NLP/Assignments/Assignment2/change-2/change.org_topic_1_vaccination.csv\")"
   ]
  },
  {
   "cell_type": "code",
   "execution_count": 248,
   "id": "9f690798",
   "metadata": {},
   "outputs": [],
   "source": [
    "df_topic_1_vaccination[\"final_label\"]=\"\"\n",
    "\n",
    "df_topic_1_vaccination['annotation_112'].fillna('missing', inplace=True) \n",
    "df_topic_1_vaccination['annotation_109'].fillna('missing', inplace=True)\n",
    "df_topic_1_vaccination['annotation_110'].fillna('missing', inplace=True)\n",
    "df_topic_1_vaccination['annotation_111'].fillna('missing', inplace=True)"
   ]
  },
  {
   "cell_type": "code",
   "execution_count": 249,
   "id": "c884318e",
   "metadata": {},
   "outputs": [
    {
     "name": "stdout",
     "output_type": "stream",
     "text": [
      "0.6975806451612904\n",
      "0.36501827977679435\n",
      "0.15872125630959066\n",
      "\n",
      "Average Kappa score for annotation_112 is  0.4071067270825585\n",
      "\n",
      "\n"
     ]
    }
   ],
   "source": [
    "#Calulating kapa scores for annotation_96\n",
    "w_annot_112=k(df_topic_1_vaccination.annotation_112,df_topic_1_vaccination.annotation_109) \n",
    "print (w_annot_112)\n",
    "x_annot_112=k(df_topic_1_vaccination.annotation_112,df_topic_1_vaccination.annotation_110)\n",
    "print (x_annot_112)\n",
    "y_annot_112=k(df_topic_1_vaccination.annotation_112,df_topic_1_vaccination.annotation_111)\n",
    "print (y_annot_112)\n",
    "avg112=(w_annot_112+x_annot_112+y_annot_112)/3\n",
    "print('\\nAverage Kappa score for annotation_112 is ', avg112)\n",
    "print('\\n')"
   ]
  },
  {
   "cell_type": "code",
   "execution_count": 250,
   "id": "04bda30c",
   "metadata": {},
   "outputs": [
    {
     "name": "stdout",
     "output_type": "stream",
     "text": [
      "0.6975806451612904\n",
      "0.433453237410072\n",
      "0.1032608695652173\n",
      "\n",
      "Average Kappa score for annotation_109 is  0.41143158404552654\n",
      "\n",
      "\n"
     ]
    }
   ],
   "source": [
    "#Calulating kapa scores for annotation_109\n",
    "w_annot_109=k(df_topic_1_vaccination.annotation_109,df_topic_1_vaccination.annotation_112) \n",
    "print (w_annot_109)\n",
    "x_annot_109=k(df_topic_1_vaccination.annotation_109,df_topic_1_vaccination.annotation_110)\n",
    "print (x_annot_109)\n",
    "y_annot_109=k(df_topic_1_vaccination.annotation_109,df_topic_1_vaccination.annotation_111)\n",
    "print (y_annot_109)\n",
    "avg109=(w_annot_109+x_annot_109+y_annot_109)/3\n",
    "print('\\nAverage Kappa score for annotation_109 is ', avg109)\n",
    "print('\\n')"
   ]
  },
  {
   "cell_type": "code",
   "execution_count": 251,
   "id": "8710331f",
   "metadata": {},
   "outputs": [
    {
     "name": "stdout",
     "output_type": "stream",
     "text": [
      "0.36501827977679435\n",
      "0.433453237410072\n",
      "0.20945024988641514\n",
      "\n",
      "Average Kappa score for annotation_110 is  0.33597392235776047\n",
      "\n",
      "\n"
     ]
    }
   ],
   "source": [
    "#Calulating kapa scores for annotation_110\n",
    "w_annot_110=k(df_topic_1_vaccination.annotation_110,df_topic_1_vaccination.annotation_112) \n",
    "print (w_annot_110)\n",
    "x_annot_110=k(df_topic_1_vaccination.annotation_110,df_topic_1_vaccination.annotation_109)\n",
    "print (x_annot_110)\n",
    "y_annot_110=k(df_topic_1_vaccination.annotation_110,df_topic_1_vaccination.annotation_111)\n",
    "print (y_annot_110)\n",
    "avg110=(w_annot_110+x_annot_110+y_annot_110)/3\n",
    "print('\\nAverage Kappa score for annotation_110 is ', avg110)\n",
    "print('\\n')"
   ]
  },
  {
   "cell_type": "code",
   "execution_count": 252,
   "id": "3f07ddc1",
   "metadata": {},
   "outputs": [
    {
     "name": "stdout",
     "output_type": "stream",
     "text": [
      "0.15872125630959066\n",
      "0.1032608695652173\n",
      "0.20945024988641514\n",
      "\n",
      "Average Kappa score for annotation_111 is  0.15714412525374102\n",
      "\n",
      "\n"
     ]
    }
   ],
   "source": [
    "#Calulating kapa scores for annotation_111\n",
    "w_annot_111=k(df_topic_1_vaccination.annotation_111,df_topic_1_vaccination.annotation_112) \n",
    "print (w_annot_111)\n",
    "x_annot_111=k(df_topic_1_vaccination.annotation_111,df_topic_1_vaccination.annotation_109)\n",
    "print (x_annot_111)\n",
    "y_annot_111=k(df_topic_1_vaccination.annotation_111,df_topic_1_vaccination.annotation_110)\n",
    "print (y_annot_111)\n",
    "avg111=(w_annot_111+x_annot_111+y_annot_111)/3\n",
    "print('\\nAverage Kappa score for annotation_111 is ', avg111)\n",
    "print('\\n')"
   ]
  },
  {
   "cell_type": "code",
   "execution_count": 253,
   "id": "8b6b93bc",
   "metadata": {},
   "outputs": [],
   "source": [
    "#Checking if the avaerage kappa value is less than 0.2\n",
    "if(avg112<0.2):\n",
    "    df_topic_1_vaccination=df_topic_1_vaccination.drop(columns=[\"annotation_112\"])\n",
    "if(avg109<0.2):\n",
    "    df_topic_1_vaccination=df_topic_1_vaccination.drop(columns=[\"annotation_109\"])  \n",
    "if(avg110<0.2):\n",
    "    df_topic_1_vaccination=df_topic_1_vaccination.drop(columns=[\"annotation_110\"])\n",
    "if(avg111<0.2):\n",
    "    df_topic_1_vaccination=df_topic_1_vaccination.drop(columns=[\"annotation_111\"])    "
   ]
  },
  {
   "cell_type": "code",
   "execution_count": 254,
   "id": "32588320",
   "metadata": {},
   "outputs": [
    {
     "name": "stderr",
     "output_type": "stream",
     "text": [
      "<ipython-input-254-8f4fd7857cec>:37: SettingWithCopyWarning: \n",
      "A value is trying to be set on a copy of a slice from a DataFrame\n",
      "\n",
      "See the caveats in the documentation: https://pandas.pydata.org/pandas-docs/stable/user_guide/indexing.html#returning-a-view-versus-a-copy\n",
      "  df_topic_1_vaccination.final_label[i]=df_topic_1_vaccination.annotation_109[i]#in case of ties\n"
     ]
    }
   ],
   "source": [
    "#Checking the condition to label with highest occuring frequency!!!\n",
    "for i in df_topic_1_vaccination.index:\n",
    "    \n",
    "    true=0\n",
    "    false=0\n",
    "    \n",
    "    \n",
    "    if(avg112>0.2):\n",
    "        if df_topic_1_vaccination.annotation_112[i]=='FALSE':\n",
    "            false=false+1\n",
    "        elif df_topic_1_vaccination.annotation_112[i]=='TRUE':\n",
    "            true=true+1\n",
    "        \n",
    "    if(avg109>0.2):  \n",
    "        if df_topic_1_vaccination.annotation_109[i]=='FALSE':\n",
    "            false=false+1\n",
    "        elif df_topic_1_vaccination.annotation_109[i]=='TRUE':\n",
    "            true=true+1\n",
    "        \n",
    "    if(avg110>0.2):    \n",
    "        if df_topic_1_vaccination.annotation_110[i]=='FALSE':\n",
    "            false=false+1\n",
    "        elif df_topic_1_vaccination.annotation_110[i]=='TRUE':\n",
    "            true=true+1\n",
    "        \n",
    "    if(avg111>0.2):\n",
    "        if df_topic_1_vaccination.annotation_111[i]=='FALSE':\n",
    "            false=false+1\n",
    "        elif df_topic_1_vaccination.annotation_111[i]=='TRUE':\n",
    "            true=true+1\n",
    "    \n",
    "    if true >false:\n",
    "        df_topic_1_vaccination.final_label[i]=\"TRUE\"\n",
    "    elif true < false:\n",
    "        df_topic_1_vaccination.final_label[i]=\"FALSE\"\n",
    "    else:\n",
    "        df_topic_1_vaccination.final_label[i]=df_topic_1_vaccination.annotation_109[i]#in case of ties\n",
    "\n",
    "df_topic_1_vaccination=df_topic_1_vaccination.drop(columns=df_topic_1_vaccination.columns.values.tolist()[1:len(df_topic_1_vaccination.columns.values.tolist())-1])\n",
    "df_topic_1_vaccination.to_csv(\"change_org_topic_vaccination_final_1.csv\", mode='a', index=False)"
   ]
  },
  {
   "cell_type": "markdown",
   "id": "35b7fed1",
   "metadata": {},
   "source": [
    "# This calculation is for topic_1_lockdowns"
   ]
  },
  {
   "cell_type": "code",
   "execution_count": 255,
   "id": "af21193c",
   "metadata": {},
   "outputs": [],
   "source": [
    "df_topic_1_lockdowns=pd.read_csv(\"/Users/abhishekshastry/Documents/Illinois_tech/Subjects/Fall-2021/NLP/Assignments/Assignment2/change-2/change.org_topic_1_lockdowns.csv\")"
   ]
  },
  {
   "cell_type": "code",
   "execution_count": 256,
   "id": "cdb3f72a",
   "metadata": {},
   "outputs": [],
   "source": [
    "df_topic_1_lockdowns[\"final_label\"]=\"\"\n",
    "\n",
    "df_topic_1_lockdowns['annotation_112'].fillna('missing', inplace=True) \n",
    "df_topic_1_lockdowns['annotation_109'].fillna('missing', inplace=True)\n",
    "df_topic_1_lockdowns['annotation_110'].fillna('missing', inplace=True)\n",
    "df_topic_1_lockdowns['annotation_111'].fillna('missing', inplace=True)"
   ]
  },
  {
   "cell_type": "code",
   "execution_count": 257,
   "id": "95916c29",
   "metadata": {},
   "outputs": [
    {
     "name": "stdout",
     "output_type": "stream",
     "text": [
      "0.5490716180371353\n",
      "0.3256997455470737\n",
      "0.3061516452074392\n",
      "\n",
      "Average Kappa score for annotation_112 is  0.39364100293054943\n",
      "\n",
      "\n"
     ]
    }
   ],
   "source": [
    "#Calulating kapa scores for annotation_112\n",
    "w_ld_annot_112=k(df_topic_1_lockdowns.annotation_112,df_topic_1_lockdowns.annotation_109) \n",
    "print (w_ld_annot_112)\n",
    "x_ld_annot_112=k(df_topic_1_lockdowns.annotation_112,df_topic_1_lockdowns.annotation_110)\n",
    "print (x_ld_annot_112)\n",
    "y_ld_annot_112=k(df_topic_1_lockdowns.annotation_112,df_topic_1_lockdowns.annotation_111)\n",
    "print (y_ld_annot_112)\n",
    "avg_ld_112=(w_ld_annot_112+x_ld_annot_112+y_ld_annot_112)/3\n",
    "print('\\nAverage Kappa score for annotation_112 is ', avg_ld_112)\n",
    "print('\\n')"
   ]
  },
  {
   "cell_type": "code",
   "execution_count": 258,
   "id": "f4080cc1",
   "metadata": {},
   "outputs": [
    {
     "name": "stdout",
     "output_type": "stream",
     "text": [
      "0.5490716180371353\n",
      "0.49006977992485234\n",
      "0.3591437632135307\n",
      "\n",
      "Average Kappa score for annotation_109 is  0.46609505372517274\n",
      "\n",
      "\n"
     ]
    }
   ],
   "source": [
    "#Calulating kapa scores for annotation_109\n",
    "w_ld_annot_109=k(df_topic_1_lockdowns.annotation_109,df_topic_1_lockdowns.annotation_112) \n",
    "print (w_ld_annot_109)\n",
    "x_ld_annot_109=k(df_topic_1_lockdowns.annotation_109,df_topic_1_lockdowns.annotation_110)\n",
    "print (x_ld_annot_109)\n",
    "y_ld_annot_109=k(df_topic_1_lockdowns.annotation_109,df_topic_1_lockdowns.annotation_111)\n",
    "print (y_ld_annot_109)\n",
    "avg_ld_109=(w_ld_annot_109+x_ld_annot_109+y_ld_annot_109)/3\n",
    "print('\\nAverage Kappa score for annotation_109 is ', avg_ld_109)\n",
    "print('\\n')"
   ]
  },
  {
   "cell_type": "code",
   "execution_count": 259,
   "id": "7f6b0309",
   "metadata": {},
   "outputs": [
    {
     "name": "stdout",
     "output_type": "stream",
     "text": [
      "0.3256997455470737\n",
      "0.49006977992485234\n",
      "0.2541913214990138\n",
      "\n",
      "Average Kappa score for annotation_110 is  0.35665361565697995\n",
      "\n",
      "\n"
     ]
    }
   ],
   "source": [
    "#Calulating kapa scores for annotation_110\n",
    "w_ld_annot_110=k(df_topic_1_lockdowns.annotation_110,df_topic_1_lockdowns.annotation_112) \n",
    "print (w_ld_annot_110)\n",
    "x_ld_annot_110=k(df_topic_1_lockdowns.annotation_110,df_topic_1_lockdowns.annotation_109)\n",
    "print (x_ld_annot_110)\n",
    "y_ld_annot_110=k(df_topic_1_lockdowns.annotation_110,df_topic_1_lockdowns.annotation_111)\n",
    "print (y_ld_annot_110)\n",
    "avg_ld_110=(w_ld_annot_110+x_ld_annot_110+y_ld_annot_110)/3\n",
    "print('\\nAverage Kappa score for annotation_110 is ', avg_ld_110)\n",
    "print('\\n')"
   ]
  },
  {
   "cell_type": "code",
   "execution_count": 260,
   "id": "3c7a1282",
   "metadata": {},
   "outputs": [
    {
     "name": "stdout",
     "output_type": "stream",
     "text": [
      "0.3061516452074392\n",
      "0.3591437632135307\n",
      "0.2541913214990138\n",
      "\n",
      "Average Kappa score for annotation_110 is  0.30649557663999455\n",
      "\n",
      "\n"
     ]
    }
   ],
   "source": [
    "#Calulating kapa scores for annotation_111\n",
    "w_ld_annot_111=k(df_topic_1_lockdowns.annotation_111,df_topic_1_lockdowns.annotation_112) \n",
    "print (w_ld_annot_111)\n",
    "x_ld_annot_111=k(df_topic_1_lockdowns.annotation_111,df_topic_1_lockdowns.annotation_109)\n",
    "print (x_ld_annot_111)\n",
    "y_ld_annot_111=k(df_topic_1_lockdowns.annotation_111,df_topic_1_lockdowns.annotation_110)\n",
    "print (y_ld_annot_111)\n",
    "avg_ld_111=(w_ld_annot_111+x_ld_annot_111+y_ld_annot_111)/3\n",
    "print('\\nAverage Kappa score for annotation_110 is ', avg_ld_111)\n",
    "print('\\n')"
   ]
  },
  {
   "cell_type": "code",
   "execution_count": 261,
   "id": "4c003b16",
   "metadata": {},
   "outputs": [],
   "source": [
    "#Checking if the avaerage kappa value is less than 0.2\n",
    "if(avg_ld_112<0.2):\n",
    "    df_topic_1_lockdowns=df_topic_1_lockdowns.drop(columns=[\"annotation_112\"])\n",
    "if(avg_ld_109<0.2):\n",
    "    df_topic_1_lockdowns=df_topic_1_lockdowns.drop(columns=[\"annotation_109\"])  \n",
    "if(avg_ld_110<0.2):\n",
    "    df_topic_1_lockdowns=df_topic_1_lockdowns.drop(columns=[\"annotation_110\"])\n",
    "if(avg_ld_111<0.2):\n",
    "    df_topic_1_lockdowns=df_topic_1_lockdowns.drop(columns=[\"annotation_111\"])  "
   ]
  },
  {
   "cell_type": "code",
   "execution_count": 262,
   "id": "af20fefa",
   "metadata": {},
   "outputs": [
    {
     "name": "stderr",
     "output_type": "stream",
     "text": [
      "<ipython-input-262-cf89714dfaa5>:37: SettingWithCopyWarning: \n",
      "A value is trying to be set on a copy of a slice from a DataFrame\n",
      "\n",
      "See the caveats in the documentation: https://pandas.pydata.org/pandas-docs/stable/user_guide/indexing.html#returning-a-view-versus-a-copy\n",
      "  df_topic_1_lockdowns.final_label[i]=df_topic_1_lockdowns.annotation_109[i]#in case of ties\n"
     ]
    }
   ],
   "source": [
    "#Checking the condition to label with highest occuring frequency!!!\n",
    "for i in df_topic_1_lockdowns.index:\n",
    "    \n",
    "    true=0\n",
    "    false=0\n",
    "    \n",
    "    \n",
    "    if(avg_ld_112>0.2):\n",
    "        if df_topic_1_lockdowns.annotation_112[i]=='FALSE':\n",
    "            false=false+1\n",
    "        elif df_topic_1_lockdowns.annotation_112[i]=='TRUE':\n",
    "            true=true+1\n",
    "        \n",
    "    if(avg_ld_109>0.2):  \n",
    "        if df_topic_1_lockdowns.annotation_109[i]=='FALSE':\n",
    "            false=false+1\n",
    "        elif df_topic_1_lockdowns.annotation_109[i]=='TRUE':\n",
    "            true=true+1\n",
    "        \n",
    "    if(avg_ld_110>0.2):    \n",
    "        if df_topic_1_lockdowns.annotation_110[i]=='FALSE':\n",
    "            false=false+1\n",
    "        elif df_topic_1_lockdowns.annotation_110[i]=='TRUE':\n",
    "            true=true+1\n",
    "        \n",
    "    if(avg_ld_111>0.2):\n",
    "        if df_topic_1_lockdowns.annotation_111[i]=='FALSE':\n",
    "            false=false+1\n",
    "        elif df_topic_1_lockdowns.annotation_111[i]=='TRUE':\n",
    "            true=true+1\n",
    "    \n",
    "    if true >false:\n",
    "        df_topic_1_lockdowns.final_label[i]=\"TRUE\"\n",
    "    elif true < false:\n",
    "        df_topic_1_lockdowns.final_label[i]=\"FALSE\"\n",
    "    else:\n",
    "        df_topic_1_lockdowns.final_label[i]=df_topic_1_lockdowns.annotation_109[i]#in case of ties\n",
    "\n",
    "df_topic_1_lockdowns=df_topic_1_lockdowns.drop(columns=df_topic_1_lockdowns.columns.values.tolist()[1:len(df_topic_1_lockdowns.columns.values.tolist())-1])\n",
    "df_topic_1_lockdowns.to_csv(\"change_org_topic_lockdowns_final_1.csv\", mode='a', index=False)"
   ]
  },
  {
   "cell_type": "markdown",
   "id": "d6f3056f",
   "metadata": {},
   "source": [
    "# This calculation is for topic_1_masking_and_distancing"
   ]
  },
  {
   "cell_type": "code",
   "execution_count": 263,
   "id": "b8a84172",
   "metadata": {},
   "outputs": [],
   "source": [
    "df_topic_1_masking_and_distancing=pd.read_csv(\"/Users/abhishekshastry/Documents/Illinois_tech/Subjects/Fall-2021/NLP/Assignments/Assignment2/change-2/change.org_topic_1_masking_and_distancing.csv\")"
   ]
  },
  {
   "cell_type": "code",
   "execution_count": 264,
   "id": "9f8d730b",
   "metadata": {},
   "outputs": [],
   "source": [
    "df_topic_1_masking_and_distancing[\"final_label\"]=\"\"\n",
    "\n",
    "df_topic_1_masking_and_distancing['annotation_112'].fillna('missing', inplace=True) \n",
    "df_topic_1_masking_and_distancing['annotation_109'].fillna('missing', inplace=True)\n",
    "df_topic_1_masking_and_distancing['annotation_110'].fillna('missing', inplace=True)\n",
    "df_topic_1_masking_and_distancing['annotation_111'].fillna('missing', inplace=True)"
   ]
  },
  {
   "cell_type": "code",
   "execution_count": 265,
   "id": "b4fbcde0",
   "metadata": {},
   "outputs": [
    {
     "name": "stdout",
     "output_type": "stream",
     "text": [
      "0.34659090909090917\n",
      "0.3622448979591837\n",
      "0.27247125088007507\n",
      "\n",
      "Average Kappa score for annotation_112 is  0.3271023526433893\n",
      "\n",
      "\n"
     ]
    }
   ],
   "source": [
    "#Calulating kapa scores for annotation_112\n",
    "w_md_annot_112=k(df_topic_1_masking_and_distancing.annotation_112,df_topic_1_masking_and_distancing.annotation_109) \n",
    "print (w_md_annot_112)\n",
    "x_md_annot_112=k(df_topic_1_masking_and_distancing.annotation_112,df_topic_1_masking_and_distancing.annotation_110)\n",
    "print (x_md_annot_112)\n",
    "y_md_annot_112=k(df_topic_1_masking_and_distancing.annotation_112,df_topic_1_masking_and_distancing.annotation_111)\n",
    "print (y_md_annot_112)\n",
    "avg_md_112=(w_md_annot_112+x_md_annot_112+y_md_annot_112)/3\n",
    "print('\\nAverage Kappa score for annotation_112 is ', avg_md_112)\n",
    "print('\\n')"
   ]
  },
  {
   "cell_type": "code",
   "execution_count": 266,
   "id": "1a5870eb",
   "metadata": {},
   "outputs": [
    {
     "name": "stdout",
     "output_type": "stream",
     "text": [
      "0.34659090909090917\n",
      "0.28115015974440893\n",
      "0.12150349650349668\n",
      "\n",
      "Average Kappa score for annotation_109 is  0.24974818844627159\n",
      "\n",
      "\n"
     ]
    }
   ],
   "source": [
    "#Calulating kapa scores for annotation_109\n",
    "w_md_annot_109=k(df_topic_1_masking_and_distancing.annotation_109,df_topic_1_masking_and_distancing.annotation_112) \n",
    "print (w_md_annot_109)\n",
    "x_md_annot_109=k(df_topic_1_masking_and_distancing.annotation_109,df_topic_1_masking_and_distancing.annotation_110)\n",
    "print (x_md_annot_109)\n",
    "y_md_annot_109=k(df_topic_1_masking_and_distancing.annotation_109,df_topic_1_masking_and_distancing.annotation_111)\n",
    "print (y_md_annot_109)\n",
    "avg_md_109=(w_md_annot_109+x_md_annot_109+y_md_annot_109)/3\n",
    "print('\\nAverage Kappa score for annotation_109 is ', avg_md_109)\n",
    "print('\\n')"
   ]
  },
  {
   "cell_type": "code",
   "execution_count": 267,
   "id": "457d0297",
   "metadata": {},
   "outputs": [
    {
     "name": "stdout",
     "output_type": "stream",
     "text": [
      "0.3622448979591837\n",
      "0.28115015974440893\n",
      "0.24640071985602874\n",
      "\n",
      "Average Kappa score for annotation_110 is  0.2965985925198738\n",
      "\n",
      "\n"
     ]
    }
   ],
   "source": [
    "#Calulating kapa scores for annotation_110\n",
    "w_md_annot_110=k(df_topic_1_masking_and_distancing.annotation_110,df_topic_1_masking_and_distancing.annotation_112) \n",
    "print (w_md_annot_110)\n",
    "x_md_annot_110=k(df_topic_1_masking_and_distancing.annotation_110,df_topic_1_masking_and_distancing.annotation_109)\n",
    "print (x_md_annot_110)\n",
    "y_md_annot_110=k(df_topic_1_masking_and_distancing.annotation_110,df_topic_1_masking_and_distancing.annotation_111)\n",
    "print (y_md_annot_110)\n",
    "avg_md_110=(w_md_annot_110+x_md_annot_110+y_md_annot_110)/3\n",
    "print('\\nAverage Kappa score for annotation_110 is ', avg_md_110)\n",
    "print('\\n')"
   ]
  },
  {
   "cell_type": "code",
   "execution_count": 268,
   "id": "fe8d2c10",
   "metadata": {},
   "outputs": [
    {
     "name": "stdout",
     "output_type": "stream",
     "text": [
      "0.3622448979591837\n",
      "0.12150349650349668\n",
      "0.24640071985602874\n",
      "\n",
      "Average Kappa score for annotation_111 is  0.21345848907986684\n",
      "\n",
      "\n"
     ]
    }
   ],
   "source": [
    "#Calulating kapa scores for annotation_111\n",
    "w_md_annot_111=k(df_topic_1_masking_and_distancing.annotation_111,df_topic_1_masking_and_distancing.annotation_112) \n",
    "print (w_md_annot_110)\n",
    "x_md_annot_111=k(df_topic_1_masking_and_distancing.annotation_111,df_topic_1_masking_and_distancing.annotation_109)\n",
    "print (x_md_annot_111)\n",
    "y_md_annot_111=k(df_topic_1_masking_and_distancing.annotation_111,df_topic_1_masking_and_distancing.annotation_110)\n",
    "print (y_md_annot_111)\n",
    "avg_md_111=(w_md_annot_111+x_md_annot_111+y_md_annot_111)/3\n",
    "print('\\nAverage Kappa score for annotation_111 is ', avg_md_111)\n",
    "print('\\n')"
   ]
  },
  {
   "cell_type": "code",
   "execution_count": 269,
   "id": "751f826e",
   "metadata": {},
   "outputs": [],
   "source": [
    "#Checking if the avaerage kappa value is less than 0.2\n",
    "if(avg_md_112<0.2):\n",
    "    df_topic_1_masking_and_distancing=df_topic_1_masking_and_distancing.drop(columns=[\"annotation_112\"])\n",
    "if(avg_md_109<0.2):\n",
    "    df_topic_1_masking_and_distancing=df_topic_1_masking_and_distancing.drop(columns=[\"annotation_109\"])  \n",
    "if(avg_md_110<0.2):\n",
    "    df_topic_1_masking_and_distancing=df_topic_1_masking_and_distancing.drop(columns=[\"annotation_110\"])\n",
    "if(avg_md_111<0.2):\n",
    "    df_topic_1_masking_and_distancing=df_topic_1_masking_and_distancing.drop(columns=[\"annotation_111\"])  "
   ]
  },
  {
   "cell_type": "code",
   "execution_count": 270,
   "id": "0b88338b",
   "metadata": {},
   "outputs": [
    {
     "name": "stderr",
     "output_type": "stream",
     "text": [
      "<ipython-input-270-ed37b7a40f2b>:38: SettingWithCopyWarning: \n",
      "A value is trying to be set on a copy of a slice from a DataFrame\n",
      "\n",
      "See the caveats in the documentation: https://pandas.pydata.org/pandas-docs/stable/user_guide/indexing.html#returning-a-view-versus-a-copy\n",
      "  df_topic_1_masking_and_distancing.final_label[i]=df_topic_1_masking_and_distancing.annotation_112[i]#in case of ties\n"
     ]
    }
   ],
   "source": [
    "#Checking the condition to label with highest occuring frequency!!!\n",
    "for i in df_topic_1_masking_and_distancing.index:\n",
    "    \n",
    "    true=0\n",
    "    false=0\n",
    "    \n",
    "    \n",
    "    if(avg_md_112>0.2):\n",
    "        if df_topic_1_masking_and_distancing.annotation_112[i]=='FALSE':\n",
    "            false=false+1\n",
    "        elif df_topic_1_masking_and_distancing.annotation_112[i]=='TRUE':\n",
    "            true=true+1\n",
    "        \n",
    "    if(avg_md_109>0.2):  \n",
    "        if df_topic_1_masking_and_distancing.annotation_109[i]=='FALSE':\n",
    "            false=false+1\n",
    "        elif df_topic_1_masking_and_distancing.annotation_109[i]=='TRUE':\n",
    "            true=true+1\n",
    "        \n",
    "    if(avg_md_110>0.2):    \n",
    "        if df_topic_1_masking_and_distancing.annotation_110[i]=='FALSE':\n",
    "            false=false+1\n",
    "        elif df_topic_1_masking_and_distancing.annotation_110[i]=='TRUE':\n",
    "            true=true+1\n",
    "        \n",
    "    if(avg_md_111>0.2):\n",
    "        if df_topic_1_masking_and_distancing.annotation_111[i]=='FALSE':\n",
    "            false=false+1\n",
    "        elif df_topic_1_masking_and_distancing.annotation_111[i]=='TRUE':\n",
    "            true=true+1\n",
    "        \n",
    "    \n",
    "    if true >false:\n",
    "        df_topic_1_masking_and_distancing.final_label[i]=\"TRUE\"\n",
    "    elif true < false:\n",
    "        df_topic_1_masking_and_distancing.final_label[i]=\"FALSE\"\n",
    "    else:\n",
    "        df_topic_1_masking_and_distancing.final_label[i]=df_topic_1_masking_and_distancing.annotation_112[i]#in case of ties\n",
    "\n",
    "df_topic_1_masking_and_distancing=df_topic_1_masking_and_distancing.drop(columns=df_topic_1_masking_and_distancing.columns.values.tolist()[1:len(df_topic_1_masking_and_distancing.columns.values.tolist())-1])\n",
    "df_topic_1_masking_and_distancing.to_csv(\"change_org_topic_masking_and_distancing_final_1.csv\", mode='a', index=False)"
   ]
  },
  {
   "cell_type": "markdown",
   "id": "45060515",
   "metadata": {},
   "source": [
    "# This calculation is for topic_2_vaccination"
   ]
  },
  {
   "cell_type": "code",
   "execution_count": 271,
   "id": "e4b199a5",
   "metadata": {},
   "outputs": [],
   "source": [
    "df_topic_2_vaccination=pd.read_csv(\"/Users/abhishekshastry/Documents/Illinois_tech/Subjects/Fall-2021/NLP/Assignments/Assignment2/change-2/change.org_topic_2_vaccination.csv\")"
   ]
  },
  {
   "cell_type": "code",
   "execution_count": 272,
   "id": "2c80cccd",
   "metadata": {},
   "outputs": [],
   "source": [
    "df_topic_2_vaccination[\"final_label\"]=\"\"\n",
    "\n",
    "df_topic_2_vaccination['annotation_73'].fillna('missing', inplace=True) \n",
    "df_topic_2_vaccination['annotation_74'].fillna('missing', inplace=True)\n",
    "df_topic_2_vaccination['annotation_75'].fillna('missing', inplace=True)\n",
    "df_topic_2_vaccination['annotation_76'].fillna('missing', inplace=True)"
   ]
  },
  {
   "cell_type": "code",
   "execution_count": 273,
   "id": "d09206ff",
   "metadata": {},
   "outputs": [
    {
     "name": "stdout",
     "output_type": "stream",
     "text": [
      "0.7222222222222223\n",
      "0.436936936936937\n",
      "0.7967479674796748\n",
      "\n",
      "Average Kappa score for annotation_73 is  0.6519690422129448\n",
      "\n",
      "\n"
     ]
    }
   ],
   "source": [
    "#Calulating kapa scores for annotation_73\n",
    "w_annot_73=k(df_topic_2_vaccination.annotation_73,df_topic_2_vaccination.annotation_74) \n",
    "print (w_annot_73)\n",
    "x_annot_73=k(df_topic_2_vaccination.annotation_73,df_topic_2_vaccination.annotation_75)\n",
    "print (x_annot_73)\n",
    "y_annot_73=k(df_topic_2_vaccination.annotation_73,df_topic_2_vaccination.annotation_76)\n",
    "print (y_annot_73)\n",
    "avg73=(w_annot_73+x_annot_73+y_annot_73)/3\n",
    "print('\\nAverage Kappa score for annotation_73 is ', avg73)\n",
    "print('\\n')"
   ]
  },
  {
   "cell_type": "code",
   "execution_count": 274,
   "id": "dfd8d1de",
   "metadata": {},
   "outputs": [
    {
     "name": "stdout",
     "output_type": "stream",
     "text": [
      "0.7222222222222223\n",
      "0.7468354430379747\n",
      "0.887218045112782\n",
      "\n",
      "Average Kappa score for annotation_74 is  0.7854252367909931\n",
      "\n",
      "\n"
     ]
    }
   ],
   "source": [
    "#Calulating kapa scores for annotation_74\n",
    "w_annot_74=k(df_topic_2_vaccination.annotation_74,df_topic_2_vaccination.annotation_73) \n",
    "print (w_annot_74)\n",
    "x_annot_74=k(df_topic_2_vaccination.annotation_74,df_topic_2_vaccination.annotation_75)\n",
    "print (x_annot_74)\n",
    "y_annot_74=k(df_topic_2_vaccination.annotation_74,df_topic_2_vaccination.annotation_76)\n",
    "print (y_annot_74)\n",
    "avg74=(w_annot_74+x_annot_74+y_annot_74)/3\n",
    "print('\\nAverage Kappa score for annotation_74 is ', avg74)\n",
    "print('\\n')"
   ]
  },
  {
   "cell_type": "code",
   "execution_count": 275,
   "id": "1f85a673",
   "metadata": {},
   "outputs": [
    {
     "name": "stdout",
     "output_type": "stream",
     "text": [
      "0.436936936936937\n",
      "0.7468354430379747\n",
      "0.5664739884393064\n",
      "\n",
      "Average Kappa score for annotation_75 is  0.5834154561380728\n",
      "\n",
      "\n"
     ]
    }
   ],
   "source": [
    "#Calulating kapa scores for annotation_75\n",
    "w_annot_75=k(df_topic_2_vaccination.annotation_75,df_topic_2_vaccination.annotation_73) \n",
    "print (w_annot_75)\n",
    "x_annot_75=k(df_topic_2_vaccination.annotation_75,df_topic_2_vaccination.annotation_74)\n",
    "print (x_annot_75)\n",
    "y_annot_75=k(df_topic_2_vaccination.annotation_75,df_topic_2_vaccination.annotation_76)\n",
    "print (y_annot_75)\n",
    "avg75=(w_annot_75+x_annot_75+y_annot_75)/3\n",
    "print('\\nAverage Kappa score for annotation_75 is ', avg75)\n",
    "print('\\n')"
   ]
  },
  {
   "cell_type": "code",
   "execution_count": 276,
   "id": "9922ef40",
   "metadata": {},
   "outputs": [
    {
     "name": "stdout",
     "output_type": "stream",
     "text": [
      "0.436936936936937\n",
      "0.7468354430379747\n",
      "0.5664739884393064\n",
      "\n",
      "Average Kappa score for annotation_76 is  0.5834154561380728\n",
      "\n",
      "\n"
     ]
    }
   ],
   "source": [
    "#Calulating kapa scores for annotation_76\n",
    "w_annot_76=k(df_topic_2_vaccination.annotation_75,df_topic_2_vaccination.annotation_73) \n",
    "print (w_annot_76)\n",
    "x_annot_76=k(df_topic_2_vaccination.annotation_75,df_topic_2_vaccination.annotation_74)\n",
    "print (x_annot_76)\n",
    "y_annot_76=k(df_topic_2_vaccination.annotation_75,df_topic_2_vaccination.annotation_76)\n",
    "print (y_annot_76)\n",
    "avg76=(w_annot_76+x_annot_76+y_annot_76)/3\n",
    "print('\\nAverage Kappa score for annotation_76 is ', avg76)\n",
    "print('\\n')"
   ]
  },
  {
   "cell_type": "code",
   "execution_count": 277,
   "id": "7220279e",
   "metadata": {},
   "outputs": [],
   "source": [
    "#Checking if the avaerage kappa value is less than 0.2\n",
    "if(avg73<0.2):\n",
    "    df_topic_2_vaccination=df_topic_2_vaccination.drop(columns=[\"annotation_73\"])\n",
    "if(avg74<0.2):\n",
    "    df_topic_2_vaccination=df_topic_2_vaccination.drop(columns=[\"annotation_74\"])  \n",
    "if(avg75<0.2):\n",
    "    df_topic_2_vaccination=df_topic_2_vaccination.drop(columns=[\"annotation_75\"])\n",
    "if(avg76<0.2):\n",
    "    df_topic_2_vaccination=df_topic_2_vaccination.drop(columns=[\"annotation_76\"]) "
   ]
  },
  {
   "cell_type": "code",
   "execution_count": 278,
   "id": "e7f95de3",
   "metadata": {},
   "outputs": [
    {
     "name": "stderr",
     "output_type": "stream",
     "text": [
      "<ipython-input-278-a2bd0fe4b6c9>:37: SettingWithCopyWarning: \n",
      "A value is trying to be set on a copy of a slice from a DataFrame\n",
      "\n",
      "See the caveats in the documentation: https://pandas.pydata.org/pandas-docs/stable/user_guide/indexing.html#returning-a-view-versus-a-copy\n",
      "  df_topic_2_vaccination.final_label[i]=df_topic_2_vaccination.annotation_74[i]#in case of ties\n"
     ]
    }
   ],
   "source": [
    "#Checking the condition to label with highest occuring frequency!!!\n",
    "for i in df_topic_2_vaccination.index:\n",
    "    \n",
    "    true=0\n",
    "    false=0\n",
    "    \n",
    "    \n",
    "    if(avg73>0.2):\n",
    "        if df_topic_2_vaccination.annotation_73[i]=='FALSE':\n",
    "            false=false+1\n",
    "        elif df_topic_2_vaccination.annotation_73[i]=='TRUE':\n",
    "            true=true+1\n",
    "        \n",
    "    if(avg74>0.2):  \n",
    "        if df_topic_2_vaccination.annotation_74[i]=='FALSE':\n",
    "            false=false+1\n",
    "        elif df_topic_2_vaccination.annotation_74[i]=='TRUE':\n",
    "            true=true+1\n",
    "        \n",
    "    if(avg75>0.2):    \n",
    "        if df_topic_2_vaccination.annotation_75[i]=='FALSE':\n",
    "            false=false+1\n",
    "        elif df_topic_2_vaccination.annotation_75[i]=='TRUE':\n",
    "            true=true+1\n",
    "        \n",
    "    if(avg76>0.2):\n",
    "        if df_topic_2_vaccination.annotation_76[i]=='FALSE':\n",
    "            false=false+1\n",
    "        elif df_topic_2_vaccination.annotation_76[i]=='TRUE':\n",
    "            true=true+1\n",
    "    \n",
    "    if true >false:\n",
    "        df_topic_2_vaccination.final_label[i]=\"TRUE\"\n",
    "    elif true < false:\n",
    "        df_topic_2_vaccination.final_label[i]=\"FALSE\"\n",
    "    else:\n",
    "        df_topic_2_vaccination.final_label[i]=df_topic_2_vaccination.annotation_74[i]#in case of ties\n",
    "\n",
    "df_topic_2_vaccination=df_topic_2_vaccination.drop(columns=df_topic_2_vaccination.columns.values.tolist()[1:len(df_topic_2_vaccination.columns.values.tolist())-1])\n",
    "df_topic_2_vaccination.to_csv(\"change_org_topic_vaccination_final_2.csv\", mode='a', index=False)"
   ]
  },
  {
   "cell_type": "markdown",
   "id": "f51ecedf",
   "metadata": {},
   "source": [
    "# This calculation is for topic_2_lockdowns"
   ]
  },
  {
   "cell_type": "code",
   "execution_count": 279,
   "id": "59d3af41",
   "metadata": {},
   "outputs": [],
   "source": [
    "df_topic_2_lockdowns=pd.read_csv(\"/Users/abhishekshastry/Documents/Illinois_tech/Subjects/Fall-2021/NLP/Assignments/Assignment2/change-2/change.org_topic_2_lockdowns.csv\")"
   ]
  },
  {
   "cell_type": "code",
   "execution_count": 280,
   "id": "09c310a0",
   "metadata": {},
   "outputs": [],
   "source": [
    "df_topic_2_lockdowns[\"final_label\"]=\"\"\n",
    "\n",
    "df_topic_2_lockdowns['annotation_73'].fillna('missing', inplace=True) \n",
    "df_topic_2_lockdowns['annotation_74'].fillna('missing', inplace=True)\n",
    "df_topic_2_lockdowns['annotation_75'].fillna('missing', inplace=True)\n",
    "df_topic_2_lockdowns['annotation_76'].fillna('missing', inplace=True)"
   ]
  },
  {
   "cell_type": "code",
   "execution_count": 281,
   "id": "89ea27e1",
   "metadata": {},
   "outputs": [
    {
     "name": "stdout",
     "output_type": "stream",
     "text": [
      "0.7314814814814814\n",
      "0.4162162162162162\n",
      "0.7207207207207207\n",
      "\n",
      "Average Kappa score for annotation_73 is  0.622806139472806\n",
      "\n",
      "\n"
     ]
    }
   ],
   "source": [
    "#Calulating kapa scores for annotation_73\n",
    "w_ld_annot_73=k(df_topic_2_lockdowns.annotation_73,df_topic_2_lockdowns.annotation_74) \n",
    "print (w_ld_annot_73)\n",
    "x_ld_annot_73=k(df_topic_2_lockdowns.annotation_73,df_topic_2_lockdowns.annotation_75)\n",
    "print (x_ld_annot_73)\n",
    "y_ld_annot_73=k(df_topic_2_lockdowns.annotation_73,df_topic_2_lockdowns.annotation_76)\n",
    "print (y_ld_annot_73)\n",
    "avg_ld_73=(w_ld_annot_73+x_ld_annot_73+y_ld_annot_73)/3\n",
    "print('\\nAverage Kappa score for annotation_73 is ', avg_ld_73)\n",
    "print('\\n')"
   ]
  },
  {
   "cell_type": "code",
   "execution_count": 282,
   "id": "4cbc6b49",
   "metadata": {},
   "outputs": [
    {
     "name": "stdout",
     "output_type": "stream",
     "text": [
      "0.7314814814814814\n",
      "0.49766355140186913\n",
      "0.6990218209179835\n",
      "\n",
      "Average Kappa score for annotation_74 is  0.6427222846004447\n",
      "\n",
      "\n"
     ]
    }
   ],
   "source": [
    "#Calulating kapa scores for annotation_74\n",
    "w_ld_annot_74=k(df_topic_2_lockdowns.annotation_74,df_topic_2_lockdowns.annotation_73) \n",
    "print (w_ld_annot_74)\n",
    "x_ld_annot_74=k(df_topic_2_lockdowns.annotation_74,df_topic_2_lockdowns.annotation_75)\n",
    "print (x_ld_annot_74)\n",
    "y_ld_annot_74=k(df_topic_2_lockdowns.annotation_74,df_topic_2_lockdowns.annotation_76)\n",
    "print (y_ld_annot_74)\n",
    "avg_ld_74=(w_ld_annot_74+x_ld_annot_74+y_ld_annot_74)/3\n",
    "print('\\nAverage Kappa score for annotation_74 is ', avg_ld_74)\n",
    "print('\\n')"
   ]
  },
  {
   "cell_type": "code",
   "execution_count": 283,
   "id": "3f6e5b3a",
   "metadata": {},
   "outputs": [
    {
     "name": "stdout",
     "output_type": "stream",
     "text": [
      "0.4162162162162162\n",
      "0.49766355140186913\n",
      "0.5232815964523282\n",
      "\n",
      "Average Kappa score for annotation_75 is  0.47905378802347115\n",
      "\n",
      "\n"
     ]
    }
   ],
   "source": [
    "#Calulating kapa scores for annotation_75\n",
    "w_ld_annot_75=k(df_topic_2_lockdowns.annotation_75,df_topic_2_lockdowns.annotation_73) \n",
    "print (w_ld_annot_75)\n",
    "x_ld_annot_75=k(df_topic_2_lockdowns.annotation_75,df_topic_2_lockdowns.annotation_74)\n",
    "print (x_ld_annot_75)\n",
    "y_ld_annot_75=k(df_topic_2_lockdowns.annotation_75,df_topic_2_lockdowns.annotation_76)\n",
    "print (y_ld_annot_75)\n",
    "avg_ld_75=(w_ld_annot_75+x_ld_annot_75+y_ld_annot_75)/3\n",
    "print('\\nAverage Kappa score for annotation_75 is ', avg_ld_75)\n",
    "print('\\n')"
   ]
  },
  {
   "cell_type": "code",
   "execution_count": 284,
   "id": "fb027ce6",
   "metadata": {},
   "outputs": [
    {
     "name": "stdout",
     "output_type": "stream",
     "text": [
      "0.7207207207207207\n",
      "0.6990218209179835\n",
      "0.5232815964523282\n",
      "\n",
      "Average Kappa score for annotation_76 is  0.6476747126970107\n",
      "\n",
      "\n"
     ]
    }
   ],
   "source": [
    "#Calulating kapa scores for annotation_76\n",
    "w_ld_annot_76=k(df_topic_2_lockdowns.annotation_76,df_topic_2_lockdowns.annotation_73) \n",
    "print (w_ld_annot_76)\n",
    "x_ld_annot_76=k(df_topic_2_lockdowns.annotation_76,df_topic_2_lockdowns.annotation_74)\n",
    "print (x_ld_annot_76)\n",
    "y_ld_annot_76=k(df_topic_2_lockdowns.annotation_76,df_topic_2_lockdowns.annotation_75)\n",
    "print (y_ld_annot_76)\n",
    "avg_ld_76=(w_ld_annot_76+x_ld_annot_76+y_ld_annot_76)/3\n",
    "print('\\nAverage Kappa score for annotation_76 is ', avg_ld_76)\n",
    "print('\\n')"
   ]
  },
  {
   "cell_type": "code",
   "execution_count": 285,
   "id": "cbe551a6",
   "metadata": {},
   "outputs": [],
   "source": [
    "#Checking if the avaerage kappa value is less than 0.2\n",
    "if(avg_ld_73<0.2):\n",
    "    df_topic_2_lockdowns=df_topic_2_lockdowns.drop(columns=[\"annotation_73\"])\n",
    "if(avg_ld_74<0.2):\n",
    "    df_topic_2_lockdowns=df_topic_2_lockdowns.drop(columns=[\"annotation_74\"])  \n",
    "if(avg_ld_75<0.2):\n",
    "    df_topic_2_lockdowns=df_topic_2_lockdowns.drop(columns=[\"annotation_75\"])\n",
    "if(avg_ld_76<0.2):\n",
    "    df_topic_2_lockdowns=df_topic_2_lockdowns.drop(columns=[\"annotation_76\"])  "
   ]
  },
  {
   "cell_type": "code",
   "execution_count": 286,
   "id": "209fa63d",
   "metadata": {},
   "outputs": [
    {
     "name": "stderr",
     "output_type": "stream",
     "text": [
      "<ipython-input-286-0479aa67ae41>:37: SettingWithCopyWarning: \n",
      "A value is trying to be set on a copy of a slice from a DataFrame\n",
      "\n",
      "See the caveats in the documentation: https://pandas.pydata.org/pandas-docs/stable/user_guide/indexing.html#returning-a-view-versus-a-copy\n",
      "  df_topic_2_lockdowns.final_label[i]=df_topic_2_lockdowns.annotation_76[i]#in case of ties\n"
     ]
    }
   ],
   "source": [
    "#Checking the condition to label with highest occuring frequency!!!\n",
    "for i in df_topic_2_lockdowns.index:\n",
    "    \n",
    "    true=0\n",
    "    false=0\n",
    "    \n",
    "    \n",
    "    if(avg_ld_73>0.2):\n",
    "        if df_topic_2_lockdowns.annotation_73[i]=='FALSE':\n",
    "            false=false+1\n",
    "        elif df_topic_2_lockdowns.annotation_73[i]=='TRUE':\n",
    "            true=true+1\n",
    "        \n",
    "    if(avg_ld_74>0.2):  \n",
    "        if df_topic_2_lockdowns.annotation_74[i]=='FALSE':\n",
    "            false=false+1\n",
    "        elif df_topic_2_lockdowns.annotation_74[i]=='TRUE':\n",
    "            true=true+1\n",
    "        \n",
    "    if(avg_ld_75>0.2):    \n",
    "        if df_topic_2_lockdowns.annotation_75[i]=='FALSE':\n",
    "            false=false+1\n",
    "        elif df_topic_2_lockdowns.annotation_75[i]=='TRUE':\n",
    "            true=true+1\n",
    "        \n",
    "    if(avg_ld_76>0.2):\n",
    "        if df_topic_2_lockdowns.annotation_76[i]=='FALSE':\n",
    "            false=false+1\n",
    "        elif df_topic_2_lockdowns.annotation_76[i]=='TRUE':\n",
    "            true=true+1\n",
    "    \n",
    "    if true >false:\n",
    "        df_topic_2_lockdowns.final_label[i]=\"TRUE\"\n",
    "    elif true < false:\n",
    "        df_topic_2_lockdowns.final_label[i]=\"FALSE\"\n",
    "    else:\n",
    "        df_topic_2_lockdowns.final_label[i]=df_topic_2_lockdowns.annotation_76[i]#in case of ties\n",
    "\n",
    "df_topic_2_lockdowns=df_topic_2_lockdowns.drop(columns=df_topic_2_lockdowns.columns.values.tolist()[1:len(df_topic_2_lockdowns.columns.values.tolist())-1])\n",
    "df_topic_2_lockdowns.to_csv(\"change_org_topic_lockdowns_final_2.csv\", mode='a', index=False)"
   ]
  },
  {
   "cell_type": "markdown",
   "id": "4de99135",
   "metadata": {},
   "source": [
    "# This calculation is for topic_2_masking_and_distancing"
   ]
  },
  {
   "cell_type": "code",
   "execution_count": 287,
   "id": "5840fbc2",
   "metadata": {},
   "outputs": [],
   "source": [
    "df_topic_2_masking_and_distancing=pd.read_csv(\"/Users/abhishekshastry/Documents/Illinois_tech/Subjects/Fall-2021/NLP/Assignments/Assignment2/change-2/change.org_topic_2_masking_and_distancing.csv\")"
   ]
  },
  {
   "cell_type": "code",
   "execution_count": 288,
   "id": "176ea079",
   "metadata": {},
   "outputs": [],
   "source": [
    "df_topic_2_masking_and_distancing[\"final_label\"]=\"\"\n",
    "\n",
    "df_topic_2_masking_and_distancing['annotation_73'].fillna('missing', inplace=True) \n",
    "df_topic_2_masking_and_distancing['annotation_74'].fillna('missing', inplace=True)\n",
    "df_topic_2_masking_and_distancing['annotation_75'].fillna('missing', inplace=True)\n",
    "df_topic_2_masking_and_distancing['annotation_76'].fillna('missing', inplace=True)"
   ]
  },
  {
   "cell_type": "code",
   "execution_count": 289,
   "id": "b90ad36f",
   "metadata": {},
   "outputs": [
    {
     "name": "stdout",
     "output_type": "stream",
     "text": [
      "0.33947157726180943\n",
      "0.0\n",
      "0.27184466019417486\n",
      "\n",
      "Average Kappa score for annotation_73 is  0.20377207915199477\n",
      "\n",
      "\n"
     ]
    }
   ],
   "source": [
    "#Calulating kapa scores for annotation_73\n",
    "w_md_annot_73=k(df_topic_2_masking_and_distancing.annotation_73,df_topic_2_masking_and_distancing.annotation_74) \n",
    "print (w_md_annot_73)\n",
    "x_md_annot_73=k(df_topic_2_masking_and_distancing.annotation_73,df_topic_2_masking_and_distancing.annotation_75)\n",
    "print (x_md_annot_73)\n",
    "y_md_annot_73=k(df_topic_2_masking_and_distancing.annotation_73,df_topic_2_masking_and_distancing.annotation_76)\n",
    "print (y_md_annot_73)\n",
    "avg_md_73=(w_md_annot_73+x_md_annot_73+y_md_annot_73)/3\n",
    "print('\\nAverage Kappa score for annotation_73 is ', avg_md_73)\n",
    "print('\\n')"
   ]
  },
  {
   "cell_type": "code",
   "execution_count": 290,
   "id": "bd428290",
   "metadata": {},
   "outputs": [
    {
     "name": "stdout",
     "output_type": "stream",
     "text": [
      "0.33947157726180943\n",
      "0.0\n",
      "0.32228915662650603\n",
      "\n",
      "Average Kappa score for annotation_74 is  0.22058691129610516\n",
      "\n",
      "\n"
     ]
    }
   ],
   "source": [
    "#Calulating kapa scores for annotation_74\n",
    "w_md_annot_74=k(df_topic_2_masking_and_distancing.annotation_74,df_topic_2_masking_and_distancing.annotation_73) \n",
    "print (w_md_annot_74)\n",
    "x_md_annot_74=k(df_topic_2_masking_and_distancing.annotation_74,df_topic_2_masking_and_distancing.annotation_75)\n",
    "print (x_md_annot_74)\n",
    "y_md_annot_74=k(df_topic_2_masking_and_distancing.annotation_74,df_topic_2_masking_and_distancing.annotation_76)\n",
    "print (y_md_annot_74)\n",
    "avg_md_74=(w_md_annot_74+x_md_annot_74+y_md_annot_74)/3\n",
    "print('\\nAverage Kappa score for annotation_74 is ', avg_md_74)\n",
    "print('\\n')"
   ]
  },
  {
   "cell_type": "code",
   "execution_count": 291,
   "id": "c0a83827",
   "metadata": {},
   "outputs": [
    {
     "name": "stdout",
     "output_type": "stream",
     "text": [
      "0.0\n",
      "0.0\n",
      "0.0\n",
      "\n",
      "Average Kappa score for annotation_75 is  0.0\n",
      "\n",
      "\n"
     ]
    }
   ],
   "source": [
    "#Calulating kapa scores for annotation_75\n",
    "w_md_annot_75=k(df_topic_2_masking_and_distancing.annotation_75,df_topic_2_masking_and_distancing.annotation_73) \n",
    "print (w_md_annot_75)\n",
    "x_md_annot_75=k(df_topic_2_masking_and_distancing.annotation_75,df_topic_2_masking_and_distancing.annotation_74)\n",
    "print (x_md_annot_75)\n",
    "y_md_annot_75=k(df_topic_2_masking_and_distancing.annotation_75,df_topic_2_masking_and_distancing.annotation_76)\n",
    "print (y_md_annot_75)\n",
    "avg_md_75=(w_md_annot_75+x_md_annot_75+y_md_annot_75)/3\n",
    "print('\\nAverage Kappa score for annotation_75 is ', avg_md_75)\n",
    "print('\\n')"
   ]
  },
  {
   "cell_type": "code",
   "execution_count": 292,
   "id": "6c122dc7",
   "metadata": {},
   "outputs": [
    {
     "name": "stdout",
     "output_type": "stream",
     "text": [
      "0.27184466019417486\n",
      "0.32228915662650603\n",
      "0.0\n",
      "\n",
      "Average Kappa score for annotation_76 is  0.19804460560689363\n",
      "\n",
      "\n"
     ]
    }
   ],
   "source": [
    "#Calulating kapa scores for annotation_76\n",
    "w_md_annot_76=k(df_topic_2_masking_and_distancing.annotation_76,df_topic_2_masking_and_distancing.annotation_73) \n",
    "print (w_md_annot_76)\n",
    "x_md_annot_76=k(df_topic_2_masking_and_distancing.annotation_76,df_topic_2_masking_and_distancing.annotation_74)\n",
    "print (x_md_annot_76)\n",
    "y_md_annot_76=k(df_topic_2_masking_and_distancing.annotation_76,df_topic_2_masking_and_distancing.annotation_75)\n",
    "print (y_md_annot_76)\n",
    "avg_md_76=(w_md_annot_76+x_md_annot_76+y_md_annot_76)/3\n",
    "print('\\nAverage Kappa score for annotation_76 is ', avg_md_76)\n",
    "print('\\n')"
   ]
  },
  {
   "cell_type": "code",
   "execution_count": 293,
   "id": "9dc08459",
   "metadata": {},
   "outputs": [],
   "source": [
    "#Checking if the avaerage kappa value is less than 0.2\n",
    "if(avg_md_73<0.2):\n",
    "    df_topic_2_masking_and_distancing=df_topic_2_masking_and_distancing.drop(columns=[\"annotation_73\"])\n",
    "if(avg_md_74<0.2):\n",
    "    df_topic_2_masking_and_distancing=df_topic_2_masking_and_distancing.drop(columns=[\"annotation_74\"])  \n",
    "if(avg_md_75<0.2):\n",
    "    df_topic_2_masking_and_distancing=df_topic_2_masking_and_distancing.drop(columns=[\"annotation_75\"])\n",
    "if(avg_md_76<0.2):\n",
    "    df_topic_2_masking_and_distancing=df_topic_2_masking_and_distancing.drop(columns=[\"annotation_76\"])  "
   ]
  },
  {
   "cell_type": "code",
   "execution_count": 294,
   "id": "eb7b6a27",
   "metadata": {},
   "outputs": [
    {
     "name": "stderr",
     "output_type": "stream",
     "text": [
      "<ipython-input-294-d74d68c19442>:38: SettingWithCopyWarning: \n",
      "A value is trying to be set on a copy of a slice from a DataFrame\n",
      "\n",
      "See the caveats in the documentation: https://pandas.pydata.org/pandas-docs/stable/user_guide/indexing.html#returning-a-view-versus-a-copy\n",
      "  df_topic_2_masking_and_distancing.final_label[i]=df_topic_2_masking_and_distancing.annotation_74[i]#in case of ties\n"
     ]
    }
   ],
   "source": [
    "#Checking the condition to label with highest occuring frequency!!!\n",
    "for i in df_topic_2_masking_and_distancing.index:\n",
    "    \n",
    "    true=0\n",
    "    false=0\n",
    "    \n",
    "    \n",
    "    if(avg_md_73>0.2):\n",
    "        if df_topic_2_masking_and_distancing.annotation_73[i]=='FALSE':\n",
    "            false=false+1\n",
    "        elif df_topic_2_masking_and_distancing.annotation_73[i]=='TRUE':\n",
    "            true=true+1\n",
    "        \n",
    "    if(avg_md_74>0.2):  \n",
    "        if df_topic_2_masking_and_distancing.annotation_74[i]=='FALSE':\n",
    "            false=false+1\n",
    "        elif df_topic_2_masking_and_distancing.annotation_74[i]=='TRUE':\n",
    "            true=true+1\n",
    "        \n",
    "    if(avg_md_75>0.2):    \n",
    "        if df_topic_2_masking_and_distancing.annotation_75[i]=='FALSE':\n",
    "            false=false+1\n",
    "        elif df_topic_2_masking_and_distancing.annotation_75[i]=='TRUE':\n",
    "            true=true+1\n",
    "        \n",
    "    if(avg_md_76>0.2):\n",
    "        if df_topic_2_masking_and_distancing.annotation_76[i]=='FALSE':\n",
    "            false=false+1\n",
    "        elif df_topic_2_masking_and_distancing.annotation_76[i]=='TRUE':\n",
    "            true=true+1\n",
    "        \n",
    "    \n",
    "    if true >false:\n",
    "        df_topic_2_masking_and_distancing.final_label[i]=\"TRUE\"\n",
    "    elif true < false:\n",
    "        df_topic_2_masking_and_distancing.final_label[i]=\"FALSE\"\n",
    "    else:\n",
    "        df_topic_2_masking_and_distancing.final_label[i]=df_topic_2_masking_and_distancing.annotation_74[i]#in case of ties\n",
    "\n",
    "df_topic_2_masking_and_distancing=df_topic_2_masking_and_distancing.drop(columns=df_topic_2_masking_and_distancing.columns.values.tolist()[1:len(df_topic_2_masking_and_distancing.columns.values.tolist())-1])\n",
    "df_topic_2_masking_and_distancing.to_csv(\"change_org_topic_masking_and_distancing_final_2.csv\", mode='a', index=False)"
   ]
  },
  {
   "cell_type": "markdown",
   "id": "8178eb6a",
   "metadata": {},
   "source": [
    "# This calculation is for topic_3_vaccination"
   ]
  },
  {
   "cell_type": "code",
   "execution_count": 295,
   "id": "5428aacb",
   "metadata": {},
   "outputs": [],
   "source": [
    "df_topic_3_vaccination=pd.read_csv(\"/Users/abhishekshastry/Documents/Illinois_tech/Subjects/Fall-2021/NLP/Assignments/Assignment2/change-2/change.org_topic_3_vaccination.csv\")"
   ]
  },
  {
   "cell_type": "code",
   "execution_count": 296,
   "id": "9fe0dcaf",
   "metadata": {},
   "outputs": [],
   "source": [
    "df_topic_3_vaccination[\"final_label\"]=\"\"\n",
    "\n",
    "df_topic_3_vaccination['annotation_48'].fillna('missing', inplace=True) \n",
    "df_topic_3_vaccination['annotation_49'].fillna('missing', inplace=True)\n",
    "df_topic_3_vaccination['annotation_50'].fillna('missing', inplace=True)\n",
    "df_topic_3_vaccination['annotation_47'].fillna('missing', inplace=True)"
   ]
  },
  {
   "cell_type": "code",
   "execution_count": 297,
   "id": "5481cfd3",
   "metadata": {},
   "outputs": [
    {
     "name": "stdout",
     "output_type": "stream",
     "text": [
      "0.35424354243542433\n",
      "0.3935309973045822\n",
      "0.41520467836257313\n",
      "\n",
      "Average Kappa score for annotation_48 is  0.3876597393675265\n",
      "\n",
      "\n"
     ]
    }
   ],
   "source": [
    "#Calulating kapa scores for annotation_48\n",
    "w_annot_48=k(df_topic_3_vaccination.annotation_48,df_topic_3_vaccination.annotation_49) \n",
    "print (w_annot_48)\n",
    "x_annot_48=k(df_topic_3_vaccination.annotation_48,df_topic_3_vaccination.annotation_50)\n",
    "print (x_annot_48)\n",
    "y_annot_48=k(df_topic_3_vaccination.annotation_48,df_topic_3_vaccination.annotation_47)\n",
    "print (y_annot_48)\n",
    "avg48=(w_annot_48+x_annot_48+y_annot_48)/3\n",
    "print('\\nAverage Kappa score for annotation_48 is ',avg48)\n",
    "print('\\n')"
   ]
  },
  {
   "cell_type": "code",
   "execution_count": 298,
   "id": "5aec2b26",
   "metadata": {},
   "outputs": [
    {
     "name": "stdout",
     "output_type": "stream",
     "text": [
      "0.35424354243542433\n",
      "0.7983870967741935\n",
      "0.6621621621621622\n",
      "\n",
      "Average Kappa score for annotation_49 is  0.6049309337905934\n",
      "\n",
      "\n"
     ]
    }
   ],
   "source": [
    "#Calulating kapa scores for annotation_49\n",
    "w_annot_49=k(df_topic_3_vaccination.annotation_49,df_topic_3_vaccination.annotation_48) \n",
    "print (w_annot_49)\n",
    "x_annot_49=k(df_topic_3_vaccination.annotation_49,df_topic_3_vaccination.annotation_50)\n",
    "print (x_annot_49)\n",
    "y_annot_49=k(df_topic_3_vaccination.annotation_49,df_topic_3_vaccination.annotation_47)\n",
    "print (y_annot_49)\n",
    "avg49=(w_annot_49+x_annot_49+y_annot_49)/3\n",
    "print('\\nAverage Kappa score for annotation_49 is ',avg49)\n",
    "print('\\n')"
   ]
  },
  {
   "cell_type": "code",
   "execution_count": 299,
   "id": "5ccd1b63",
   "metadata": {},
   "outputs": [
    {
     "name": "stdout",
     "output_type": "stream",
     "text": [
      "0.3935309973045822\n",
      "0.7983870967741935\n",
      "0.4949494949494949\n",
      "\n",
      "Average Kappa score for annotation_50 is  0.5622891963427569\n",
      "\n",
      "\n"
     ]
    }
   ],
   "source": [
    "#Calulating kapa scores for annotation_50\n",
    "w_annot_50=k(df_topic_3_vaccination.annotation_50,df_topic_3_vaccination.annotation_48) \n",
    "print (w_annot_50)\n",
    "x_annot_50=k(df_topic_3_vaccination.annotation_50,df_topic_3_vaccination.annotation_49)\n",
    "print (x_annot_50)\n",
    "y_annot_50=k(df_topic_3_vaccination.annotation_50,df_topic_3_vaccination.annotation_47)\n",
    "print (y_annot_50)\n",
    "avg50=(w_annot_50+x_annot_50+y_annot_50)/3\n",
    "print('\\nAverage Kappa score for annotation_50 is ',avg50)\n",
    "print('\\n')"
   ]
  },
  {
   "cell_type": "code",
   "execution_count": 300,
   "id": "9cf845da",
   "metadata": {},
   "outputs": [
    {
     "name": "stdout",
     "output_type": "stream",
     "text": [
      "0.41520467836257313\n",
      "0.6621621621621622\n",
      "0.4949494949494949\n",
      "\n",
      "Average Kappa score for annotation_47 is  0.5241054451580767\n",
      "\n",
      "\n"
     ]
    }
   ],
   "source": [
    "#Calulating kapa scores for annotation_47\n",
    "w_annot_47=k(df_topic_3_vaccination.annotation_47,df_topic_3_vaccination.annotation_48) \n",
    "print (w_annot_47)\n",
    "x_annot_47=k(df_topic_3_vaccination.annotation_47,df_topic_3_vaccination.annotation_49)\n",
    "print (x_annot_47)\n",
    "y_annot_47=k(df_topic_3_vaccination.annotation_47,df_topic_3_vaccination.annotation_50)\n",
    "print (y_annot_47)\n",
    "avg47=(w_annot_47+x_annot_47+y_annot_47)/3\n",
    "print('\\nAverage Kappa score for annotation_47 is ',avg47)\n",
    "print('\\n')"
   ]
  },
  {
   "cell_type": "code",
   "execution_count": 301,
   "id": "ade9a31c",
   "metadata": {},
   "outputs": [],
   "source": [
    "#Checking if the avaerage kappa value is less than 0.2\n",
    "if(avg48<0.2):\n",
    "    df_topic_3_vaccination=df_topic_3_vaccination.drop(columns=[\"annotation_48\"])\n",
    "if(avg49<0.2):\n",
    "    df_topic_3_vaccination=df_topic_3_vaccination.drop(columns=[\"annotation_49\"])  \n",
    "if(avg50<0.2):\n",
    "    df_topic_3_vaccination=df_topic_3_vaccination.drop(columns=[\"annotation_50\"])\n",
    "if(avg47<0.2):\n",
    "    df_topic_3_vaccination=df_topic_3_vaccination.drop(columns=[\"annotation_47\"]) "
   ]
  },
  {
   "cell_type": "code",
   "execution_count": 302,
   "id": "641c6a8e",
   "metadata": {},
   "outputs": [
    {
     "name": "stderr",
     "output_type": "stream",
     "text": [
      "<ipython-input-302-d9479ba9b296>:37: SettingWithCopyWarning: \n",
      "A value is trying to be set on a copy of a slice from a DataFrame\n",
      "\n",
      "See the caveats in the documentation: https://pandas.pydata.org/pandas-docs/stable/user_guide/indexing.html#returning-a-view-versus-a-copy\n",
      "  df_topic_3_vaccination.final_label[i]=df_topic_3_vaccination.annotation_50[i]#in case of ties\n"
     ]
    }
   ],
   "source": [
    "#Checking the condition to label with highest occuring frequency!!!\n",
    "for i in df_topic_3_vaccination.index:\n",
    "    \n",
    "    true=0\n",
    "    false=0\n",
    "    \n",
    "    \n",
    "    if(avg48>0.2):\n",
    "        if df_topic_3_vaccination.annotation_48[i]=='FALSE':\n",
    "            false=false+1\n",
    "        elif df_topic_3_vaccination.annotation_48[i]=='TRUE':\n",
    "            true=true+1\n",
    "        \n",
    "    if(avg49>0.2):  \n",
    "        if df_topic_3_vaccination.annotation_49[i]=='FALSE':\n",
    "            false=false+1\n",
    "        elif df_topic_3_vaccination.annotation_49[i]=='TRUE':\n",
    "            true=true+1\n",
    "        \n",
    "    if(avg50>0.2):    \n",
    "        if df_topic_3_vaccination.annotation_50[i]=='FALSE':\n",
    "            false=false+1\n",
    "        elif df_topic_3_vaccination.annotation_50[i]=='TRUE':\n",
    "            true=true+1\n",
    "        \n",
    "    if(avg47>0.2):\n",
    "        if df_topic_3_vaccination.annotation_47[i]=='FALSE':\n",
    "            false=false+1\n",
    "        elif df_topic_3_vaccination.annotation_47[i]=='TRUE':\n",
    "            true=true+1\n",
    "    \n",
    "    if true >false:\n",
    "        df_topic_3_vaccination.final_label[i]=\"TRUE\"\n",
    "    elif true < false:\n",
    "        df_topic_3_vaccination.final_label[i]=\"FALSE\"\n",
    "    else:\n",
    "        df_topic_3_vaccination.final_label[i]=df_topic_3_vaccination.annotation_50[i]#in case of ties\n",
    "\n",
    "df_topic_3_vaccination=df_topic_3_vaccination.drop(columns=df_topic_3_vaccination.columns.values.tolist()[1:len(df_topic_3_vaccination.columns.values.tolist())-1])\n",
    "df_topic_3_vaccination.to_csv(\"change_org_topic_vaccination_final_3.csv\", mode='a', index=False)"
   ]
  },
  {
   "cell_type": "markdown",
   "id": "4c5a9cb1",
   "metadata": {},
   "source": [
    "# This calculation is for topic_3_lockdowns"
   ]
  },
  {
   "cell_type": "code",
   "execution_count": 303,
   "id": "13388e72",
   "metadata": {},
   "outputs": [],
   "source": [
    "df_topic_3_lockdowns=pd.read_csv(\"/Users/abhishekshastry/Documents/Illinois_tech/Subjects/Fall-2021/NLP/Assignments/Assignment2/change-2/change.org_topic_3_lockdowns.csv\")"
   ]
  },
  {
   "cell_type": "code",
   "execution_count": 304,
   "id": "1bc802c4",
   "metadata": {},
   "outputs": [],
   "source": [
    "df_topic_3_lockdowns[\"final_label\"]=\"\"\n",
    "\n",
    "df_topic_3_lockdowns['annotation_48'].fillna('missing', inplace=True) \n",
    "df_topic_3_lockdowns['annotation_49'].fillna('missing', inplace=True)\n",
    "df_topic_3_lockdowns['annotation_50'].fillna('missing', inplace=True)\n",
    "df_topic_3_lockdowns['annotation_47'].fillna('missing', inplace=True)"
   ]
  },
  {
   "cell_type": "code",
   "execution_count": 305,
   "id": "016b20a2",
   "metadata": {},
   "outputs": [
    {
     "name": "stdout",
     "output_type": "stream",
     "text": [
      "0.36367969494756913\n",
      "0.36849574266792806\n",
      "0.5279625966552778\n",
      "\n",
      "Average Kappa score for annotation_48 is  0.4200460114235917\n",
      "\n",
      "\n"
     ]
    }
   ],
   "source": [
    "#Calulating kapa scores for annotation_48\n",
    "w_ld_annot_48=k(df_topic_3_lockdowns.annotation_48,df_topic_3_lockdowns.annotation_49) \n",
    "print (w_ld_annot_48)\n",
    "x_ld_annot_48=k(df_topic_3_lockdowns.annotation_48,df_topic_3_lockdowns.annotation_50)\n",
    "print (x_ld_annot_48)\n",
    "y_ld_annot_48=k(df_topic_3_lockdowns.annotation_48,df_topic_3_lockdowns.annotation_47)\n",
    "print (y_ld_annot_48)\n",
    "avg_ld_48=(w_ld_annot_48+x_ld_annot_48+y_ld_annot_48)/3\n",
    "print('\\nAverage Kappa score for annotation_48 is ', avg_ld_48)\n",
    "print('\\n')"
   ]
  },
  {
   "cell_type": "code",
   "execution_count": 306,
   "id": "74115826",
   "metadata": {},
   "outputs": [
    {
     "name": "stdout",
     "output_type": "stream",
     "text": [
      "0.36367969494756913\n",
      "0.584055459272097\n",
      "0.36367969494756913\n",
      "\n",
      "Average Kappa score for annotation_49 is  0.4371382830557451\n",
      "\n",
      "\n"
     ]
    }
   ],
   "source": [
    "#Calulating kapa scores for annotation_49\n",
    "w_ld_annot_49=k(df_topic_3_lockdowns.annotation_49,df_topic_3_lockdowns.annotation_48) \n",
    "print (w_ld_annot_49)\n",
    "x_ld_annot_49=k(df_topic_3_lockdowns.annotation_49,df_topic_3_lockdowns.annotation_50)\n",
    "print (x_ld_annot_49)\n",
    "y_ld_annot_49=k(df_topic_3_lockdowns.annotation_49,df_topic_3_lockdowns.annotation_47)\n",
    "print (y_ld_annot_49)\n",
    "avg_ld_49=(w_ld_annot_49+x_ld_annot_49+y_ld_annot_49)/3\n",
    "print('\\nAverage Kappa score for annotation_49 is ', avg_ld_49)\n",
    "print('\\n')"
   ]
  },
  {
   "cell_type": "code",
   "execution_count": 307,
   "id": "4e78a5e8",
   "metadata": {},
   "outputs": [
    {
     "name": "stdout",
     "output_type": "stream",
     "text": [
      "0.36849574266792806\n",
      "0.584055459272097\n",
      "0.41106906338694416\n",
      "\n",
      "Average Kappa score for annotation_50 is  0.45454008844232313\n",
      "\n",
      "\n"
     ]
    }
   ],
   "source": [
    "#Calulating kapa scores for annotation_50\n",
    "w_ld_annot_50=k(df_topic_3_lockdowns.annotation_50,df_topic_3_lockdowns.annotation_48) \n",
    "print (w_ld_annot_50)\n",
    "x_ld_annot_50=k(df_topic_3_lockdowns.annotation_50,df_topic_3_lockdowns.annotation_49)\n",
    "print (x_ld_annot_50)\n",
    "y_ld_annot_50=k(df_topic_3_lockdowns.annotation_50,df_topic_3_lockdowns.annotation_47)\n",
    "print (y_ld_annot_50)\n",
    "avg_ld_50=(w_ld_annot_50+x_ld_annot_50+y_ld_annot_50)/3\n",
    "print('\\nAverage Kappa score for annotation_50 is ', avg_ld_50)\n",
    "print('\\n')"
   ]
  },
  {
   "cell_type": "code",
   "execution_count": 308,
   "id": "82d43933",
   "metadata": {},
   "outputs": [
    {
     "name": "stdout",
     "output_type": "stream",
     "text": [
      "0.5279625966552778\n",
      "0.36367969494756913\n",
      "0.41106906338694416\n",
      "\n",
      "Average Kappa score for annotation_47 is  0.43423711832993034\n",
      "\n",
      "\n"
     ]
    }
   ],
   "source": [
    "#Calulating kapa scores for annotation_47\n",
    "w_ld_annot_47=k(df_topic_3_lockdowns.annotation_47,df_topic_3_lockdowns.annotation_48) \n",
    "print (w_ld_annot_47)\n",
    "x_ld_annot_47=k(df_topic_3_lockdowns.annotation_47,df_topic_3_lockdowns.annotation_49)\n",
    "print (x_ld_annot_47)\n",
    "y_ld_annot_47=k(df_topic_3_lockdowns.annotation_47,df_topic_3_lockdowns.annotation_50)\n",
    "print (y_ld_annot_47)\n",
    "avg_ld_47=(w_ld_annot_47+x_ld_annot_47+y_ld_annot_47)/3\n",
    "print('\\nAverage Kappa score for annotation_47 is ', avg_ld_47)\n",
    "print('\\n')"
   ]
  },
  {
   "cell_type": "code",
   "execution_count": 309,
   "id": "51a1847c",
   "metadata": {},
   "outputs": [],
   "source": [
    "#Checking if the avaerage kappa value is less than 0.2\n",
    "if(avg_ld_48<0.2):\n",
    "    df_topic_3_lockdowns=df_topic_3_lockdowns.drop(columns=[\"annotation_48\"])\n",
    "if(avg_ld_49<0.2):\n",
    "    df_topic_3_lockdowns=df_topic_3_lockdowns.drop(columns=[\"annotation_49\"])  \n",
    "if(avg_ld_50<0.2):\n",
    "    df_topic_3_lockdowns=df_topic_3_lockdowns.drop(columns=[\"annotation_50\"])\n",
    "if(avg_ld_47<0.2):\n",
    "    df_topic_3_lockdowns=df_topic_3_lockdowns.drop(columns=[\"annotation_47\"])  "
   ]
  },
  {
   "cell_type": "code",
   "execution_count": 310,
   "id": "3a947b95",
   "metadata": {},
   "outputs": [
    {
     "name": "stderr",
     "output_type": "stream",
     "text": [
      "<ipython-input-310-433bd4ab9f84>:37: SettingWithCopyWarning: \n",
      "A value is trying to be set on a copy of a slice from a DataFrame\n",
      "\n",
      "See the caveats in the documentation: https://pandas.pydata.org/pandas-docs/stable/user_guide/indexing.html#returning-a-view-versus-a-copy\n",
      "  df_topic_3_lockdowns.final_label[i]=df_topic_3_lockdowns.annotation_50[i]#in case of ties\n"
     ]
    }
   ],
   "source": [
    "#Checking the condition to label with highest occuring frequency!!!\n",
    "for i in df_topic_3_lockdowns.index:\n",
    "    \n",
    "    true=0\n",
    "    false=0\n",
    "    \n",
    "    \n",
    "    if(avg_ld_48>0.2):\n",
    "        if df_topic_3_lockdowns.annotation_48[i]=='FALSE':\n",
    "            false=false+1\n",
    "        elif df_topic_3_lockdowns.annotation_48[i]=='TRUE':\n",
    "            true=true+1\n",
    "        \n",
    "    if(avg_ld_49>0.2):  \n",
    "        if df_topic_3_lockdowns.annotation_49[i]=='FALSE':\n",
    "            false=false+1\n",
    "        elif df_topic_3_lockdowns.annotation_49[i]=='TRUE':\n",
    "            true=true+1\n",
    "        \n",
    "    if(avg_ld_50>0.2):    \n",
    "        if df_topic_3_lockdowns.annotation_50[i]=='FALSE':\n",
    "            false=false+1\n",
    "        elif df_topic_3_lockdowns.annotation_50[i]=='TRUE':\n",
    "            true=true+1\n",
    "        \n",
    "    if(avg_ld_47>0.2):\n",
    "        if df_topic_3_lockdowns.annotation_47[i]=='FALSE':\n",
    "            false=false+1\n",
    "        elif df_topic_3_lockdowns.annotation_47[i]=='TRUE':\n",
    "            true=true+1\n",
    "    \n",
    "    if true >false:\n",
    "        df_topic_3_lockdowns.final_label[i]=\"TRUE\"\n",
    "    elif true < false:\n",
    "        df_topic_3_lockdowns.final_label[i]=\"FALSE\"\n",
    "    else:\n",
    "        df_topic_3_lockdowns.final_label[i]=df_topic_3_lockdowns.annotation_50[i]#in case of ties\n",
    "\n",
    "df_topic_3_lockdowns=df_topic_3_lockdowns.drop(columns=df_topic_3_lockdowns.columns.values.tolist()[1:len(df_topic_3_lockdowns.columns.values.tolist())-1])\n",
    "df_topic_3_lockdowns.to_csv(\"change_org_topic_lockdowns_final_3.csv\", mode='a', index=False)"
   ]
  },
  {
   "cell_type": "markdown",
   "id": "4f313d11",
   "metadata": {},
   "source": [
    "# This calculation is for topic_3_masking_and_distancing"
   ]
  },
  {
   "cell_type": "code",
   "execution_count": 311,
   "id": "1a495b33",
   "metadata": {},
   "outputs": [],
   "source": [
    "df_topic_3_masking_and_distancing=pd.read_csv(\"/Users/abhishekshastry/Documents/Illinois_tech/Subjects/Fall-2021/NLP/Assignments/Assignment2/change-2/change.org_topic_3_masking_and_distancing.csv\")"
   ]
  },
  {
   "cell_type": "code",
   "execution_count": 312,
   "id": "effb47ae",
   "metadata": {},
   "outputs": [],
   "source": [
    "df_topic_3_masking_and_distancing[\"final_label\"]=\"\"\n",
    "\n",
    "df_topic_3_masking_and_distancing['annotation_48'].fillna('missing', inplace=True) \n",
    "df_topic_3_masking_and_distancing['annotation_49'].fillna('missing', inplace=True)\n",
    "df_topic_3_masking_and_distancing['annotation_50'].fillna('missing', inplace=True)\n",
    "df_topic_3_masking_and_distancing['annotation_47'].fillna('missing', inplace=True)"
   ]
  },
  {
   "cell_type": "code",
   "execution_count": 313,
   "id": "9603112e",
   "metadata": {},
   "outputs": [
    {
     "name": "stdout",
     "output_type": "stream",
     "text": [
      "0.3892282065519157\n",
      "0.37425506555423127\n",
      "0.3304450571090981\n",
      "\n",
      "Average Kappa score for annotation_48 is  0.3646427764050817\n",
      "\n",
      "\n"
     ]
    }
   ],
   "source": [
    "#Calulating kapa scores for annotation_48\n",
    "w_md_annot_48=k(df_topic_3_masking_and_distancing.annotation_48,df_topic_3_masking_and_distancing.annotation_49) \n",
    "print (w_md_annot_48)\n",
    "x_md_annot_48=k(df_topic_3_masking_and_distancing.annotation_48,df_topic_3_masking_and_distancing.annotation_50)\n",
    "print (x_md_annot_48)\n",
    "y_md_annot_48=k(df_topic_3_masking_and_distancing.annotation_48,df_topic_3_masking_and_distancing.annotation_47)\n",
    "print (y_md_annot_48)\n",
    "avg_md_48=(w_md_annot_48+x_md_annot_48+y_md_annot_48)/3\n",
    "print('\\nAverage Kappa score for annotation_48 is ', avg_md_48)\n",
    "print('\\n')"
   ]
  },
  {
   "cell_type": "code",
   "execution_count": 314,
   "id": "2e9fcabe",
   "metadata": {},
   "outputs": [
    {
     "name": "stdout",
     "output_type": "stream",
     "text": [
      "0.3892282065519157\n",
      "0.6198406951484432\n",
      "0.47192395704981516\n",
      "\n",
      "Average Kappa score for annotation_49 is  0.49366428625005804\n",
      "\n",
      "\n"
     ]
    }
   ],
   "source": [
    "#Calulating kapa scores for annotation_49\n",
    "w_md_annot_49=k(df_topic_3_masking_and_distancing.annotation_49,df_topic_3_masking_and_distancing.annotation_48) \n",
    "print (w_md_annot_49)\n",
    "x_md_annot_49=k(df_topic_3_masking_and_distancing.annotation_49,df_topic_3_masking_and_distancing.annotation_50)\n",
    "print (x_md_annot_49)\n",
    "y_md_annot_49=k(df_topic_3_masking_and_distancing.annotation_49,df_topic_3_masking_and_distancing.annotation_47)\n",
    "print (y_md_annot_49)\n",
    "avg_md_49=(w_md_annot_49+x_md_annot_49+y_md_annot_49)/3\n",
    "print('\\nAverage Kappa score for annotation_49 is ', avg_md_49)\n",
    "print('\\n')"
   ]
  },
  {
   "cell_type": "code",
   "execution_count": 315,
   "id": "eccb42ee",
   "metadata": {},
   "outputs": [
    {
     "name": "stdout",
     "output_type": "stream",
     "text": [
      "0.37425506555423127\n",
      "0.6198406951484432\n",
      "0.4076720571643475\n",
      "\n",
      "Average Kappa score for annotation_50 is  0.4672559392890074\n",
      "\n",
      "\n"
     ]
    }
   ],
   "source": [
    "#Calulating kapa scores for annotation_50\n",
    "w_md_annot_50=k(df_topic_3_masking_and_distancing.annotation_50,df_topic_3_masking_and_distancing.annotation_48) \n",
    "print (w_md_annot_50)\n",
    "x_md_annot_50=k(df_topic_3_masking_and_distancing.annotation_50,df_topic_3_masking_and_distancing.annotation_49)\n",
    "print (x_md_annot_50)\n",
    "y_md_annot_50=k(df_topic_3_masking_and_distancing.annotation_50,df_topic_3_masking_and_distancing.annotation_47)\n",
    "print (y_md_annot_50)\n",
    "avg_md_50=(w_md_annot_50+x_md_annot_50+y_md_annot_50)/3\n",
    "print('\\nAverage Kappa score for annotation_50 is ', avg_md_50)\n",
    "print('\\n')"
   ]
  },
  {
   "cell_type": "code",
   "execution_count": 316,
   "id": "0c038db5",
   "metadata": {},
   "outputs": [
    {
     "name": "stdout",
     "output_type": "stream",
     "text": [
      "0.3304450571090981\n",
      "0.47192395704981516\n",
      "0.4076720571643475\n",
      "\n",
      "Average Kappa score for annotation_47 is  0.4033470237744203\n",
      "\n",
      "\n"
     ]
    }
   ],
   "source": [
    "#Calulating kapa scores for annotation_47\n",
    "w_md_annot_47=k(df_topic_3_masking_and_distancing.annotation_47,df_topic_3_masking_and_distancing.annotation_48) \n",
    "print (w_md_annot_47)\n",
    "x_md_annot_47=k(df_topic_3_masking_and_distancing.annotation_47,df_topic_3_masking_and_distancing.annotation_49)\n",
    "print (x_md_annot_47)\n",
    "y_md_annot_47=k(df_topic_3_masking_and_distancing.annotation_47,df_topic_3_masking_and_distancing.annotation_50)\n",
    "print (y_md_annot_47)\n",
    "avg_md_47=(w_md_annot_47+x_md_annot_47+y_md_annot_47)/3\n",
    "print('\\nAverage Kappa score for annotation_47 is ', avg_md_47)\n",
    "print('\\n')"
   ]
  },
  {
   "cell_type": "code",
   "execution_count": 317,
   "id": "a95e3b1e",
   "metadata": {},
   "outputs": [],
   "source": [
    "#Checking if the avaerage kappa value is less than 0.2\n",
    "if(avg_md_48<0.2):\n",
    "    df_topic_3_masking_and_distancing=df_topic_3_masking_and_distancing.drop(columns=[\"annotation_48\"])\n",
    "if(avg_md_49<0.2):\n",
    "    df_topic_3_masking_and_distancing=df_topic_3_masking_and_distancing.drop(columns=[\"annotation_49\"])  \n",
    "if(avg_md_50<0.2):\n",
    "    df_topic_3_masking_and_distancing=df_topic_3_masking_and_distancing.drop(columns=[\"annotation_50\"])\n",
    "if(avg_md_47<0.2):\n",
    "    df_topic_3_masking_and_distancing=df_topic_3_masking_and_distancing.drop(columns=[\"annotation_47\"])  "
   ]
  },
  {
   "cell_type": "code",
   "execution_count": 318,
   "id": "66cbb3d0",
   "metadata": {},
   "outputs": [
    {
     "name": "stderr",
     "output_type": "stream",
     "text": [
      "<ipython-input-318-8ddcc454ca0e>:38: SettingWithCopyWarning: \n",
      "A value is trying to be set on a copy of a slice from a DataFrame\n",
      "\n",
      "See the caveats in the documentation: https://pandas.pydata.org/pandas-docs/stable/user_guide/indexing.html#returning-a-view-versus-a-copy\n",
      "  df_topic_3_masking_and_distancing.final_label[i]=df_topic_3_masking_and_distancing.annotation_49[i]#in case of ties\n"
     ]
    }
   ],
   "source": [
    "#Checking the condition to label with highest occuring frequency!!!\n",
    "for i in df_topic_3_masking_and_distancing.index:\n",
    "    \n",
    "    true=0\n",
    "    false=0\n",
    "    \n",
    "    \n",
    "    if(avg_md_48>0.2):\n",
    "        if df_topic_3_masking_and_distancing.annotation_48[i]=='FALSE':\n",
    "            false=false+1\n",
    "        elif df_topic_3_masking_and_distancing.annotation_48[i]=='TRUE':\n",
    "            true=true+1\n",
    "        \n",
    "    if(avg_md_49>0.2):  \n",
    "        if df_topic_3_masking_and_distancing.annotation_49[i]=='FALSE':\n",
    "            false=false+1\n",
    "        elif df_topic_3_masking_and_distancing.annotation_49[i]=='TRUE':\n",
    "            true=true+1\n",
    "        \n",
    "    if(avg_md_50>0.2):    \n",
    "        if df_topic_3_masking_and_distancing.annotation_50[i]=='FALSE':\n",
    "            false=false+1\n",
    "        elif df_topic_3_masking_and_distancing.annotation_50[i]=='TRUE':\n",
    "            true=true+1\n",
    "        \n",
    "    if(avg_md_47>0.2):\n",
    "        if df_topic_3_masking_and_distancing.annotation_47[i]=='FALSE':\n",
    "            false=false+1\n",
    "        elif df_topic_3_masking_and_distancing.annotation_47[i]=='TRUE':\n",
    "            true=true+1\n",
    "        \n",
    "    \n",
    "    if true >false:\n",
    "        df_topic_3_masking_and_distancing.final_label[i]=\"TRUE\"\n",
    "    elif true < false:\n",
    "        df_topic_3_masking_and_distancing.final_label[i]=\"FALSE\"\n",
    "    else:\n",
    "        df_topic_3_masking_and_distancing.final_label[i]=df_topic_3_masking_and_distancing.annotation_49[i]#in case of ties\n",
    "\n",
    "df_topic_3_masking_and_distancing=df_topic_3_masking_and_distancing.drop(columns=df_topic_3_masking_and_distancing.columns.values.tolist()[1:len(df_topic_3_masking_and_distancing.columns.values.tolist())-1])\n",
    "df_topic_3_masking_and_distancing.to_csv(\"change_org_topic_masking_and_distancing_final_3.csv\", mode='a', index=False)"
   ]
  },
  {
   "cell_type": "markdown",
   "id": "25a0c1a5",
   "metadata": {},
   "source": [
    "# This calculation is for topic_4_vaccination"
   ]
  },
  {
   "cell_type": "code",
   "execution_count": 319,
   "id": "c05eaf80",
   "metadata": {},
   "outputs": [],
   "source": [
    "df_topic_4_vaccination=pd.read_csv(\"/Users/abhishekshastry/Documents/Illinois_tech/Subjects/Fall-2021/NLP/Assignments/Assignment2/change-2/change.org_topic_4_vaccination.csv\")"
   ]
  },
  {
   "cell_type": "code",
   "execution_count": 320,
   "id": "7c097e6c",
   "metadata": {},
   "outputs": [],
   "source": [
    "df_topic_4_vaccination[\"final_label\"]=\"\"\n",
    "\n",
    "df_topic_4_vaccination['annotation_43'].fillna('missing', inplace=True) \n",
    "df_topic_4_vaccination['annotation_44'].fillna('missing', inplace=True)\n",
    "df_topic_4_vaccination['annotation_45'].fillna('missing', inplace=True)\n",
    "df_topic_4_vaccination['annotation_46'].fillna('missing', inplace=True)"
   ]
  },
  {
   "cell_type": "code",
   "execution_count": 321,
   "id": "b6f8db40",
   "metadata": {},
   "outputs": [
    {
     "name": "stdout",
     "output_type": "stream",
     "text": [
      "0.5934959349593496\n",
      "0.5370370370370371\n",
      "0.449685534591195\n",
      "\n",
      "Average Kappa score for annotation_43 is  0.5267395021958605\n",
      "\n",
      "\n"
     ]
    }
   ],
   "source": [
    "#Calulating kapa scores for annotation_43\n",
    "w_annot_43=k(df_topic_4_vaccination.annotation_43,df_topic_4_vaccination.annotation_44) \n",
    "print (w_annot_43)\n",
    "x_annot_43=k(df_topic_4_vaccination.annotation_43,df_topic_4_vaccination.annotation_45)\n",
    "print (x_annot_43)\n",
    "y_annot_43=k(df_topic_4_vaccination.annotation_43,df_topic_4_vaccination.annotation_46)\n",
    "print (y_annot_43)\n",
    "avg43=(w_annot_43+x_annot_43+y_annot_43)/3\n",
    "print('\\nAverage Kappa score for annotation_43 is ',avg43)\n",
    "print('\\n')"
   ]
  },
  {
   "cell_type": "code",
   "execution_count": 322,
   "id": "780fdd87",
   "metadata": {},
   "outputs": [
    {
     "name": "stdout",
     "output_type": "stream",
     "text": [
      "0.5934959349593496\n",
      "0.887218045112782\n",
      "0.7225647348951911\n",
      "\n",
      "Average Kappa score for annotation_44 is  0.7344262383224409\n",
      "\n",
      "\n"
     ]
    }
   ],
   "source": [
    "#Calulating kapa scores for annotation_44\n",
    "w_annot_44=k(df_topic_4_vaccination.annotation_44,df_topic_4_vaccination.annotation_43) \n",
    "print (w_annot_44)\n",
    "x_annot_44=k(df_topic_4_vaccination.annotation_44,df_topic_4_vaccination.annotation_45)\n",
    "print (x_annot_44)\n",
    "y_annot_44=k(df_topic_4_vaccination.annotation_44,df_topic_4_vaccination.annotation_46)\n",
    "print (y_annot_44)\n",
    "avg44=(w_annot_44+x_annot_44+y_annot_44)/3\n",
    "print('\\nAverage Kappa score for annotation_44 is ',avg44)\n",
    "print('\\n')"
   ]
  },
  {
   "cell_type": "code",
   "execution_count": 323,
   "id": "bee5a121",
   "metadata": {},
   "outputs": [
    {
     "name": "stdout",
     "output_type": "stream",
     "text": [
      "0.5370370370370371\n",
      "0.887218045112782\n",
      "0.830028328611898\n",
      "\n",
      "Average Kappa score for annotation_45 is  0.751427803587239\n",
      "\n",
      "\n"
     ]
    }
   ],
   "source": [
    "#Calulating kapa scores for annotation_45\n",
    "w_annot_45=k(df_topic_4_vaccination.annotation_45,df_topic_4_vaccination.annotation_43) \n",
    "print (w_annot_45)\n",
    "x_annot_45=k(df_topic_4_vaccination.annotation_45,df_topic_4_vaccination.annotation_44)\n",
    "print (x_annot_45)\n",
    "y_annot_45=k(df_topic_4_vaccination.annotation_45,df_topic_4_vaccination.annotation_46)\n",
    "print (y_annot_45)\n",
    "avg45=(w_annot_45+x_annot_45+y_annot_45)/3\n",
    "print('\\nAverage Kappa score for annotation_45 is ',avg45)\n",
    "print('\\n')"
   ]
  },
  {
   "cell_type": "code",
   "execution_count": 324,
   "id": "2ec5dba8",
   "metadata": {},
   "outputs": [
    {
     "name": "stdout",
     "output_type": "stream",
     "text": [
      "0.449685534591195\n",
      "0.7225647348951911\n",
      "0.830028328611898\n",
      "\n",
      "Average Kappa score for annotation_46 is  0.6674261993660947\n",
      "\n",
      "\n"
     ]
    }
   ],
   "source": [
    "#Calulating kapa scores for annotation_46\n",
    "w_annot_46=k(df_topic_4_vaccination.annotation_46,df_topic_4_vaccination.annotation_43) \n",
    "print (w_annot_46)\n",
    "x_annot_46=k(df_topic_4_vaccination.annotation_46,df_topic_4_vaccination.annotation_44)\n",
    "print (x_annot_46)\n",
    "y_annot_46=k(df_topic_4_vaccination.annotation_46,df_topic_4_vaccination.annotation_45)\n",
    "print (y_annot_46)\n",
    "avg46=(w_annot_46+x_annot_46+y_annot_46)/3\n",
    "print('\\nAverage Kappa score for annotation_46 is ',avg46)\n",
    "print('\\n')"
   ]
  },
  {
   "cell_type": "code",
   "execution_count": 325,
   "id": "f81ac549",
   "metadata": {},
   "outputs": [],
   "source": [
    "#Checking if the avaerage kappa value is less than 0.2\n",
    "if(avg43<0.2):\n",
    "    df_topic_4_vaccination=df_topic_4_vaccination.drop(columns=[\"annotation_43\"])\n",
    "if(avg44<0.2):\n",
    "    df_topic_4_vaccination=df_topic_4_vaccination.drop(columns=[\"annotation_44\"])  \n",
    "if(avg45<0.2):\n",
    "    df_topic_4_vaccination=df_topic_4_vaccination.drop(columns=[\"annotation_45\"])\n",
    "if(avg46<0.2):\n",
    "    df_topic_4_vaccination=df_topic_4_vaccination.drop(columns=[\"annotation_46\"]) "
   ]
  },
  {
   "cell_type": "code",
   "execution_count": 326,
   "id": "c35200f9",
   "metadata": {},
   "outputs": [
    {
     "name": "stderr",
     "output_type": "stream",
     "text": [
      "<ipython-input-326-40d65b0e37f6>:37: SettingWithCopyWarning: \n",
      "A value is trying to be set on a copy of a slice from a DataFrame\n",
      "\n",
      "See the caveats in the documentation: https://pandas.pydata.org/pandas-docs/stable/user_guide/indexing.html#returning-a-view-versus-a-copy\n",
      "  df_topic_4_vaccination.final_label[i]=df_topic_4_vaccination.annotation_45[i]#in case of ties\n"
     ]
    }
   ],
   "source": [
    "#Checking the condition to label with highest occuring frequency!!!\n",
    "for i in df_topic_4_vaccination.index:\n",
    "    \n",
    "    true=0\n",
    "    false=0\n",
    "    \n",
    "    \n",
    "    if(avg43>0.2):\n",
    "        if df_topic_4_vaccination.annotation_43[i]=='FALSE':\n",
    "            false=false+1\n",
    "        elif df_topic_4_vaccination.annotation_43[i]=='TRUE':\n",
    "            true=true+1\n",
    "        \n",
    "    if(avg44>0.2):  \n",
    "        if df_topic_4_vaccination.annotation_44[i]=='FALSE':\n",
    "            false=false+1\n",
    "        elif df_topic_4_vaccination.annotation_44[i]=='TRUE':\n",
    "            true=true+1\n",
    "        \n",
    "    if(avg45>0.2):    \n",
    "        if df_topic_4_vaccination.annotation_45[i]=='FALSE':\n",
    "            false=false+1\n",
    "        elif df_topic_4_vaccination.annotation_45[i]=='TRUE':\n",
    "            true=true+1\n",
    "        \n",
    "    if(avg46>0.2):\n",
    "        if df_topic_4_vaccination.annotation_46[i]=='FALSE':\n",
    "            false=false+1\n",
    "        elif df_topic_4_vaccination.annotation_46[i]=='TRUE':\n",
    "            true=true+1\n",
    "    \n",
    "    if true >false:\n",
    "        df_topic_4_vaccination.final_label[i]=\"TRUE\"\n",
    "    elif true < false:\n",
    "        df_topic_4_vaccination.final_label[i]=\"FALSE\"\n",
    "    else:\n",
    "        df_topic_4_vaccination.final_label[i]=df_topic_4_vaccination.annotation_45[i]#in case of ties\n",
    "\n",
    "df_topic_4_vaccination=df_topic_4_vaccination.drop(columns=df_topic_4_vaccination.columns.values.tolist()[1:len(df_topic_4_vaccination.columns.values.tolist())-1])\n",
    "df_topic_4_vaccination.to_csv(\"change_org_topic_vaccination_final_4.csv\", mode='a', index=False)"
   ]
  },
  {
   "cell_type": "markdown",
   "id": "36348c0c",
   "metadata": {},
   "source": [
    "# This calculation is for topic_4_lockdowns"
   ]
  },
  {
   "cell_type": "code",
   "execution_count": 327,
   "id": "b1bd6d44",
   "metadata": {},
   "outputs": [],
   "source": [
    "df_topic_4_lockdowns=pd.read_csv(\"/Users/abhishekshastry/Documents/Illinois_tech/Subjects/Fall-2021/NLP/Assignments/Assignment2/change-2/change.org_topic_4_lockdowns.csv\")"
   ]
  },
  {
   "cell_type": "code",
   "execution_count": 328,
   "id": "9d557aad",
   "metadata": {},
   "outputs": [],
   "source": [
    "df_topic_4_lockdowns[\"final_label\"]=\"\"\n",
    "\n",
    "df_topic_4_lockdowns['annotation_43'].fillna('missing', inplace=True) \n",
    "df_topic_4_lockdowns['annotation_44'].fillna('missing', inplace=True)\n",
    "df_topic_4_lockdowns['annotation_45'].fillna('missing', inplace=True)\n",
    "df_topic_4_lockdowns['annotation_46'].fillna('missing', inplace=True)"
   ]
  },
  {
   "cell_type": "code",
   "execution_count": 329,
   "id": "7486d6a3",
   "metadata": {},
   "outputs": [
    {
     "name": "stdout",
     "output_type": "stream",
     "text": [
      "0.05781249999999993\n",
      "0.08941305540318167\n",
      "0.13694481830417227\n",
      "\n",
      "Average Kappa score for annotation_43 is  0.09472345790245129\n",
      "\n",
      "\n"
     ]
    }
   ],
   "source": [
    "#Calulating kapa scores for annotation_43\n",
    "w_ld_annot_43=k(df_topic_4_lockdowns.annotation_43,df_topic_4_lockdowns.annotation_44) \n",
    "print (w_ld_annot_43)\n",
    "x_ld_annot_43=k(df_topic_4_lockdowns.annotation_43,df_topic_4_lockdowns.annotation_45)\n",
    "print (x_ld_annot_43)\n",
    "y_ld_annot_43=k(df_topic_4_lockdowns.annotation_43,df_topic_4_lockdowns.annotation_46)\n",
    "print (y_ld_annot_43)\n",
    "avg_ld_43=(w_ld_annot_43+x_ld_annot_43+y_ld_annot_43)/3\n",
    "print('\\nAverage Kappa score for annotation_43 is ', avg_ld_43)\n",
    "print('\\n')"
   ]
  },
  {
   "cell_type": "code",
   "execution_count": 330,
   "id": "2dc15a17",
   "metadata": {},
   "outputs": [
    {
     "name": "stdout",
     "output_type": "stream",
     "text": [
      "0.05781249999999993\n",
      "0.5258620689655172\n",
      "0.49664429530201337\n",
      "\n",
      "Average Kappa score for annotation_44 is  0.36010628808917683\n",
      "\n",
      "\n"
     ]
    }
   ],
   "source": [
    "#Calulating kapa scores for annotation_44\n",
    "w_ld_annot_44=k(df_topic_4_lockdowns.annotation_44,df_topic_4_lockdowns.annotation_43) \n",
    "print (w_ld_annot_44)\n",
    "x_ld_annot_44=k(df_topic_4_lockdowns.annotation_44,df_topic_4_lockdowns.annotation_45)\n",
    "print (x_ld_annot_44)\n",
    "y_ld_annot_44=k(df_topic_4_lockdowns.annotation_44,df_topic_4_lockdowns.annotation_46)\n",
    "print (y_ld_annot_44)\n",
    "avg_ld_44=(w_ld_annot_44+x_ld_annot_44+y_ld_annot_44)/3\n",
    "print('\\nAverage Kappa score for annotation_44 is ', avg_ld_44)\n",
    "print('\\n')"
   ]
  },
  {
   "cell_type": "code",
   "execution_count": 331,
   "id": "8bcdc950",
   "metadata": {},
   "outputs": [
    {
     "name": "stdout",
     "output_type": "stream",
     "text": [
      "0.08941305540318167\n",
      "0.5258620689655172\n",
      "0.5248067010309279\n",
      "\n",
      "Average Kappa score for annotation_45 is  0.38002727513320894\n",
      "\n",
      "\n"
     ]
    }
   ],
   "source": [
    "#Calulating kapa scores for annotation_45\n",
    "w_ld_annot_45=k(df_topic_4_lockdowns.annotation_45,df_topic_4_lockdowns.annotation_43) \n",
    "print (w_ld_annot_45)\n",
    "x_ld_annot_45=k(df_topic_4_lockdowns.annotation_45,df_topic_4_lockdowns.annotation_44)\n",
    "print (x_ld_annot_45)\n",
    "y_ld_annot_45=k(df_topic_4_lockdowns.annotation_45,df_topic_4_lockdowns.annotation_46)\n",
    "print (y_ld_annot_45)\n",
    "avg_ld_45=(w_ld_annot_45+x_ld_annot_45+y_ld_annot_45)/3\n",
    "print('\\nAverage Kappa score for annotation_45 is ', avg_ld_45)\n",
    "print('\\n')"
   ]
  },
  {
   "cell_type": "code",
   "execution_count": 332,
   "id": "15d792cd",
   "metadata": {},
   "outputs": [
    {
     "name": "stdout",
     "output_type": "stream",
     "text": [
      "0.13694481830417227\n",
      "0.49664429530201337\n",
      "0.5248067010309279\n",
      "\n",
      "Average Kappa score for annotation_46 is  0.38613193821237113\n",
      "\n",
      "\n"
     ]
    }
   ],
   "source": [
    "#Calulating kapa scores for annotation_46\n",
    "w_ld_annot_46=k(df_topic_4_lockdowns.annotation_46,df_topic_4_lockdowns.annotation_43) \n",
    "print (w_ld_annot_46)\n",
    "x_ld_annot_46=k(df_topic_4_lockdowns.annotation_46,df_topic_4_lockdowns.annotation_44)\n",
    "print (x_ld_annot_46)\n",
    "y_ld_annot_46=k(df_topic_4_lockdowns.annotation_46,df_topic_4_lockdowns.annotation_45)\n",
    "print (y_ld_annot_46)\n",
    "avg_ld_46=(w_ld_annot_46+x_ld_annot_46+y_ld_annot_46)/3\n",
    "print('\\nAverage Kappa score for annotation_46 is ', avg_ld_46)\n",
    "print('\\n')"
   ]
  },
  {
   "cell_type": "code",
   "execution_count": 333,
   "id": "b6cc9079",
   "metadata": {},
   "outputs": [],
   "source": [
    "#Checking if the avaerage kappa value is less than 0.2\n",
    "if(avg_ld_43<0.2):\n",
    "    df_topic_4_lockdowns=df_topic_4_lockdowns.drop(columns=[\"annotation_43\"])\n",
    "if(avg_ld_44<0.2):\n",
    "    df_topic_4_lockdowns=df_topic_4_lockdowns.drop(columns=[\"annotation_44\"])  \n",
    "if(avg_ld_45<0.2):\n",
    "    df_topic_4_lockdowns=df_topic_4_lockdowns.drop(columns=[\"annotation_45\"])\n",
    "if(avg_ld_46<0.2):\n",
    "    df_topic_4_lockdowns=df_topic_4_lockdowns.drop(columns=[\"annotation_46\"])  "
   ]
  },
  {
   "cell_type": "code",
   "execution_count": 334,
   "id": "d5fef356",
   "metadata": {},
   "outputs": [
    {
     "name": "stderr",
     "output_type": "stream",
     "text": [
      "<ipython-input-334-1150e98723b9>:37: SettingWithCopyWarning: \n",
      "A value is trying to be set on a copy of a slice from a DataFrame\n",
      "\n",
      "See the caveats in the documentation: https://pandas.pydata.org/pandas-docs/stable/user_guide/indexing.html#returning-a-view-versus-a-copy\n",
      "  df_topic_4_lockdowns.final_label[i]=df_topic_4_lockdowns.annotation_46[i]#in case of ties\n"
     ]
    }
   ],
   "source": [
    "#Checking the condition to label with highest occuring frequency!!!\n",
    "for i in df_topic_4_lockdowns.index:\n",
    "    \n",
    "    true=0\n",
    "    false=0\n",
    "    \n",
    "    \n",
    "    if(avg_ld_43>0.2):\n",
    "        if df_topic_4_lockdowns.annotation_43[i]=='FALSE':\n",
    "            false=false+1\n",
    "        elif df_topic_4_lockdowns.annotation_43[i]=='TRUE':\n",
    "            true=true+1\n",
    "        \n",
    "    if(avg_ld_44>0.2):  \n",
    "        if df_topic_4_lockdowns.annotation_44[i]=='FALSE':\n",
    "            false=false+1\n",
    "        elif df_topic_4_lockdowns.annotation_44[i]=='TRUE':\n",
    "            true=true+1\n",
    "        \n",
    "    if(avg_ld_45>0.2):    \n",
    "        if df_topic_4_lockdowns.annotation_45[i]=='FALSE':\n",
    "            false=false+1\n",
    "        elif df_topic_4_lockdowns.annotation_45[i]=='TRUE':\n",
    "            true=true+1\n",
    "        \n",
    "    if(avg_ld_46>0.2):\n",
    "        if df_topic_4_lockdowns.annotation_46[i]=='FALSE':\n",
    "            false=false+1\n",
    "        elif df_topic_4_lockdowns.annotation_46[i]=='TRUE':\n",
    "            true=true+1\n",
    "    \n",
    "    if true >false:\n",
    "        df_topic_4_lockdowns.final_label[i]=\"TRUE\"\n",
    "    elif true < false:\n",
    "        df_topic_4_lockdowns.final_label[i]=\"FALSE\"\n",
    "    else:\n",
    "        df_topic_4_lockdowns.final_label[i]=df_topic_4_lockdowns.annotation_46[i]#in case of ties\n",
    "\n",
    "df_topic_4_lockdowns=df_topic_4_lockdowns.drop(columns=df_topic_4_lockdowns.columns.values.tolist()[1:len(df_topic_4_lockdowns.columns.values.tolist())-1])\n",
    "df_topic_4_lockdowns.to_csv(\"change_org_topic_lockdowns_final_4.csv\", mode='a', index=False)"
   ]
  },
  {
   "cell_type": "markdown",
   "id": "eb074801",
   "metadata": {},
   "source": [
    "# This calculation is for topic_4_masking_and_distancing"
   ]
  },
  {
   "cell_type": "code",
   "execution_count": 335,
   "id": "e031b2ab",
   "metadata": {},
   "outputs": [],
   "source": [
    "df_topic_4_masking_and_distancing=pd.read_csv(\"/Users/abhishekshastry/Documents/Illinois_tech/Subjects/Fall-2021/NLP/Assignments/Assignment2/change-2/change.org_topic_4_masking_and_distancing.csv\")"
   ]
  },
  {
   "cell_type": "code",
   "execution_count": 336,
   "id": "9f42a848",
   "metadata": {},
   "outputs": [],
   "source": [
    "df_topic_4_masking_and_distancing[\"final_label\"]=\"\"\n",
    "\n",
    "df_topic_4_masking_and_distancing['annotation_43'].fillna('missing', inplace=True) \n",
    "df_topic_4_masking_and_distancing['annotation_44'].fillna('missing', inplace=True)\n",
    "df_topic_4_masking_and_distancing['annotation_45'].fillna('missing', inplace=True)\n",
    "df_topic_4_masking_and_distancing['annotation_46'].fillna('missing', inplace=True)"
   ]
  },
  {
   "cell_type": "code",
   "execution_count": 337,
   "id": "5ae1f196",
   "metadata": {},
   "outputs": [
    {
     "name": "stdout",
     "output_type": "stream",
     "text": [
      "0.1778846153846153\n",
      "0.1958762886597939\n",
      "0.24137931034482762\n",
      "\n",
      "Average Kappa score for annotation_43 is  0.2050467381297456\n",
      "\n",
      "\n"
     ]
    }
   ],
   "source": [
    "#Calulating kapa scores for annotation_43\n",
    "w_md_annot_43=k(df_topic_4_masking_and_distancing.annotation_43,df_topic_4_masking_and_distancing.annotation_44) \n",
    "print (w_md_annot_43)\n",
    "x_md_annot_43=k(df_topic_4_masking_and_distancing.annotation_43,df_topic_4_masking_and_distancing.annotation_45)\n",
    "print (x_md_annot_43)\n",
    "y_md_annot_43=k(df_topic_4_masking_and_distancing.annotation_43,df_topic_4_masking_and_distancing.annotation_46)\n",
    "print (y_md_annot_43)\n",
    "avg_md_43=(w_md_annot_43+x_md_annot_43+y_md_annot_43)/3\n",
    "print('\\nAverage Kappa score for annotation_43 is ', avg_md_43)\n",
    "print('\\n')"
   ]
  },
  {
   "cell_type": "code",
   "execution_count": 338,
   "id": "5d326267",
   "metadata": {},
   "outputs": [
    {
     "name": "stdout",
     "output_type": "stream",
     "text": [
      "0.1778846153846153\n",
      "0.5935539075869938\n",
      "0.3536711478800414\n",
      "\n",
      "Average Kappa score for annotation_44 is  0.3750365569505501\n",
      "\n",
      "\n"
     ]
    }
   ],
   "source": [
    "#Calulating kapa scores for annotation_44\n",
    "w_md_annot_44=k(df_topic_4_masking_and_distancing.annotation_44,df_topic_4_masking_and_distancing.annotation_43) \n",
    "print (w_md_annot_44)\n",
    "x_md_annot_44=k(df_topic_4_masking_and_distancing.annotation_44,df_topic_4_masking_and_distancing.annotation_45)\n",
    "print (x_md_annot_44)\n",
    "y_md_annot_44=k(df_topic_4_masking_and_distancing.annotation_44,df_topic_4_masking_and_distancing.annotation_46)\n",
    "print (y_md_annot_44)\n",
    "avg_md_44=(w_md_annot_44+x_md_annot_44+y_md_annot_44)/3\n",
    "print('\\nAverage Kappa score for annotation_44 is ', avg_md_44)\n",
    "print('\\n')"
   ]
  },
  {
   "cell_type": "code",
   "execution_count": 339,
   "id": "d1019ecb",
   "metadata": {},
   "outputs": [
    {
     "name": "stdout",
     "output_type": "stream",
     "text": [
      "0.1958762886597939\n",
      "0.5935539075869938\n",
      "0.56575682382134\n",
      "\n",
      "Average Kappa score for annotation_45 is  0.4517290066893758\n",
      "\n",
      "\n"
     ]
    }
   ],
   "source": [
    "#Calulating kapa scores for annotation_45\n",
    "w_md_annot_45=k(df_topic_4_masking_and_distancing.annotation_45,df_topic_4_masking_and_distancing.annotation_43) \n",
    "print (w_md_annot_45)\n",
    "x_md_annot_45=k(df_topic_4_masking_and_distancing.annotation_45,df_topic_4_masking_and_distancing.annotation_44)\n",
    "print (x_md_annot_45)\n",
    "y_md_annot_45=k(df_topic_4_masking_and_distancing.annotation_45,df_topic_4_masking_and_distancing.annotation_46)\n",
    "print (y_md_annot_45)\n",
    "avg_md_45=(w_md_annot_45+x_md_annot_45+y_md_annot_45)/3\n",
    "print('\\nAverage Kappa score for annotation_45 is ', avg_md_45)\n",
    "print('\\n')"
   ]
  },
  {
   "cell_type": "code",
   "execution_count": 340,
   "id": "faa0ca71",
   "metadata": {},
   "outputs": [
    {
     "name": "stdout",
     "output_type": "stream",
     "text": [
      "0.24137931034482762\n",
      "0.3536711478800414\n",
      "0.56575682382134\n",
      "\n",
      "Average Kappa score for annotation_46 is  0.38693576068206964\n",
      "\n",
      "\n"
     ]
    }
   ],
   "source": [
    "#Calulating kapa scores for annotation_46\n",
    "w_md_annot_46=k(df_topic_4_masking_and_distancing.annotation_46,df_topic_4_masking_and_distancing.annotation_43) \n",
    "print (w_md_annot_46)\n",
    "x_md_annot_46=k(df_topic_4_masking_and_distancing.annotation_46,df_topic_4_masking_and_distancing.annotation_44)\n",
    "print (x_md_annot_46)\n",
    "y_md_annot_46=k(df_topic_4_masking_and_distancing.annotation_46,df_topic_4_masking_and_distancing.annotation_45)\n",
    "print (y_md_annot_46)\n",
    "avg_md_46=(w_md_annot_46+x_md_annot_46+y_md_annot_46)/3\n",
    "print('\\nAverage Kappa score for annotation_46 is ', avg_md_46)\n",
    "print('\\n')"
   ]
  },
  {
   "cell_type": "code",
   "execution_count": 341,
   "id": "6474b0ca",
   "metadata": {},
   "outputs": [],
   "source": [
    "#Checking if the avaerage kappa value is less than 0.2\n",
    "if(avg_md_43<0.2):\n",
    "    df_topic_4_masking_and_distancing=df_topic_4_masking_and_distancing.drop(columns=[\"annotation_43\"])\n",
    "if(avg_md_44<0.2):\n",
    "    df_topic_4_masking_and_distancing=df_topic_4_masking_and_distancing.drop(columns=[\"annotation_44\"])  \n",
    "if(avg_md_45<0.2):\n",
    "    df_topic_4_masking_and_distancing=df_topic_4_masking_and_distancing.drop(columns=[\"annotation_45\"])\n",
    "if(avg_md_46<0.2):\n",
    "    df_topic_4_masking_and_distancing=df_topic_4_masking_and_distancing.drop(columns=[\"annotation_46\"])  "
   ]
  },
  {
   "cell_type": "code",
   "execution_count": 342,
   "id": "257f2f48",
   "metadata": {},
   "outputs": [
    {
     "name": "stderr",
     "output_type": "stream",
     "text": [
      "<ipython-input-342-586764d185de>:38: SettingWithCopyWarning: \n",
      "A value is trying to be set on a copy of a slice from a DataFrame\n",
      "\n",
      "See the caveats in the documentation: https://pandas.pydata.org/pandas-docs/stable/user_guide/indexing.html#returning-a-view-versus-a-copy\n",
      "  df_topic_4_masking_and_distancing.final_label[i]=df_topic_4_masking_and_distancing.annotation_45[i]#in case of ties\n"
     ]
    }
   ],
   "source": [
    "#Checking the condition to label with highest occuring frequency!!!\n",
    "for i in df_topic_4_masking_and_distancing.index:\n",
    "    \n",
    "    true=0\n",
    "    false=0\n",
    "    \n",
    "    \n",
    "    if(avg_md_43>0.2):\n",
    "        if df_topic_4_masking_and_distancing.annotation_43[i]=='FALSE':\n",
    "            false=false+1\n",
    "        elif df_topic_4_masking_and_distancing.annotation_43[i]=='TRUE':\n",
    "            true=true+1\n",
    "        \n",
    "    if(avg_md_44>0.2):  \n",
    "        if df_topic_4_masking_and_distancing.annotation_44[i]=='FALSE':\n",
    "            false=false+1\n",
    "        elif df_topic_4_masking_and_distancing.annotation_44[i]=='TRUE':\n",
    "            true=true+1\n",
    "        \n",
    "    if(avg_md_45>0.2):    \n",
    "        if df_topic_4_masking_and_distancing.annotation_45[i]=='FALSE':\n",
    "            false=false+1\n",
    "        elif df_topic_4_masking_and_distancing.annotation_45[i]=='TRUE':\n",
    "            true=true+1\n",
    "        \n",
    "    if(avg_md_46>0.2):\n",
    "        if df_topic_4_masking_and_distancing.annotation_46[i]=='FALSE':\n",
    "            false=false+1\n",
    "        elif df_topic_4_masking_and_distancing.annotation_46[i]=='TRUE':\n",
    "            true=true+1\n",
    "        \n",
    "    \n",
    "    if true >false:\n",
    "        df_topic_4_masking_and_distancing.final_label[i]=\"TRUE\"\n",
    "    elif true < false:\n",
    "        df_topic_4_masking_and_distancing.final_label[i]=\"FALSE\"\n",
    "    else:\n",
    "        df_topic_4_masking_and_distancing.final_label[i]=df_topic_4_masking_and_distancing.annotation_45[i]#in case of ties\n",
    "\n",
    "df_topic_4_masking_and_distancing=df_topic_4_masking_and_distancing.drop(columns=df_topic_4_masking_and_distancing.columns.values.tolist()[1:len(df_topic_4_masking_and_distancing.columns.values.tolist())-1])\n",
    "df_topic_4_masking_and_distancing.to_csv(\"change_org_topic_masking_and_distancing_final_4.csv\", mode='a', index=False)"
   ]
  },
  {
   "cell_type": "code",
   "execution_count": 343,
   "id": "5df6c257",
   "metadata": {},
   "outputs": [
    {
     "name": "stdout",
     "output_type": "stream",
     "text": [
      "                                                   text  final_label\n",
      "0                                       COVID-19 Awards        False\n",
      "1                 Cancel the 2020-2021 school year SOLs        False\n",
      "2                                                    ..        False\n",
      "3                                   Protect our nurses!        False\n",
      "4     SENSELESS IMPRISONMENT FOR MY MOM.. FIRST TIME...        False\n",
      "...                                                 ...          ...\n",
      "1495                   Null and void the Premier League        False\n",
      "1496  Free public transport for NHS staff to accompa...        False\n",
      "1497  PM please give immediate COVID Insurance cover...        False\n",
      "1498             SAY NO TO OSHA PROPOSED PERMANENT RULE        False\n",
      "1499  (NTU) - Viewing of results before deciding to S/U        False\n",
      "\n",
      "[1500 rows x 2 columns]\n"
     ]
    }
   ],
   "source": [
    "joined_files_vaccination= os.path.join(\"/Users/abhishekshastry\", \"change_org_topic_vaccination_final_*.csv\") # merging the files\n",
    "  \n",
    "joined_list_vaccination = glob.glob(joined_files_vaccination) # A list of all joined files is returned\n",
    "  \n",
    "dfC__vaccination= pd.concat(map(pd.read_csv, joined_list_vaccination), ignore_index=True) # Finally, the files are joined\n",
    "print(dfC__vaccination)\n",
    "\n",
    "dfC__vaccination.to_csv(\"change_org_topic_vaccination_final_secondary_dataset.csv\", mode='a', index=False)"
   ]
  },
  {
   "cell_type": "code",
   "execution_count": 344,
   "id": "9ba729f3",
   "metadata": {},
   "outputs": [
    {
     "name": "stdout",
     "output_type": "stream",
     "text": [
      "                                                   text  final_label\n",
      "0     Get CoVID Vaccines to Nepal ASAP and prevent a...        False\n",
      "1                          Compensate Essential Workers        False\n",
      "2     Amend Recent COVID-19 Restrictions for Persona...         True\n",
      "3     Petition against COVID-19 & Quarantine Bill: S...        False\n",
      "4     KCL Has Coronavirus Case: Petition to Have Onl...         True\n",
      "...                                                 ...          ...\n",
      "1495                   Null and void the Premier League        False\n",
      "1496  Free public transport for NHS staff to accompa...        False\n",
      "1497  PM please give immediate COVID Insurance cover...        False\n",
      "1498             SAY NO TO OSHA PROPOSED PERMANENT RULE        False\n",
      "1499  (NTU) - Viewing of results before deciding to S/U        False\n",
      "\n",
      "[1500 rows x 2 columns]\n"
     ]
    }
   ],
   "source": [
    "joined_files_lockdowns = os.path.join(\"/Users/abhishekshastry\", \"change_org_topic_lockdowns_final_*.csv\") # merging the files\n",
    "  \n",
    "joined_list_lockdowns = glob.glob(joined_files_lockdowns) # A list of all joined files is returned\n",
    "  \n",
    "dfC_lockdowns = pd.concat(map(pd.read_csv, joined_list_lockdowns), ignore_index=True) # Finally, the files are joined\n",
    "print(dfC_lockdowns)\n",
    "\n",
    "dfC_lockdowns.to_csv(\"change_org_topic_lockdowns_final_secondary_dataset.csv\", mode='a', index=False)"
   ]
  },
  {
   "cell_type": "code",
   "execution_count": 345,
   "id": "78587550",
   "metadata": {},
   "outputs": [
    {
     "name": "stdout",
     "output_type": "stream",
     "text": [
      "                                                   text  final_label\n",
      "0                  Save Western Ghats from annihilation        False\n",
      "1                                 Save Beacon Hill Park        False\n",
      "2          Government of India: Don't Tax Medical Bills        False\n",
      "3                                      NO FAILING @ UCR        False\n",
      "4                        WIAA - Let them play football!        False\n",
      "...                                                 ...          ...\n",
      "1495  Free and voluntary COVID-19 testing for front-...        False\n",
      "1496                     Open House Ban During Covid-19        False\n",
      "1497  URGENT: PROTECT OKLAHOMA'S INMATES FROM COVID-...         True\n",
      "1498  ALL colleges TEST OPTIONAL for Fall 2020 appli...        False\n",
      "1499  Postpone UPSC CSE Prelims 2020 to August '20 a...        False\n",
      "\n",
      "[1500 rows x 2 columns]\n"
     ]
    }
   ],
   "source": [
    "joined_files_masking_and_distancing = os.path.join(\"/Users/abhishekshastry\", \"change_org_topic_masking_and_distancing_final_*.csv\") # merging the files\n",
    "  \n",
    "joined_list_masking_and_distancing = glob.glob(joined_files_masking_and_distancing) # A list of all joined files is returned\n",
    "  \n",
    "dfC_masking_and_distancing = pd.concat(map(pd.read_csv, joined_list_masking_and_distancing), ignore_index=True) # Finally, the files are joined\n",
    "print(dfC_masking_and_distancing)\n",
    "\n",
    "dfC_masking_and_distancing.to_csv(\"change_org_topic_masking_and_distancing_final_secondary_dataset.csv\", mode='a', index=False)"
   ]
  }
 ],
 "metadata": {
  "kernelspec": {
   "display_name": "Python 3",
   "language": "python",
   "name": "python3"
  },
  "language_info": {
   "codemirror_mode": {
    "name": "ipython",
    "version": 3
   },
   "file_extension": ".py",
   "mimetype": "text/x-python",
   "name": "python",
   "nbconvert_exporter": "python",
   "pygments_lexer": "ipython3",
   "version": "3.8.8"
  }
 },
 "nbformat": 4,
 "nbformat_minor": 5
}
